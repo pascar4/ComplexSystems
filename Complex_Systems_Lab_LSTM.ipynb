{
  "nbformat": 4,
  "nbformat_minor": 0,
  "metadata": {
    "accelerator": "GPU",
    "colab": {
      "name": "Complex Systems Lab LSTM.ipynb",
      "provenance": [],
      "collapsed_sections": [],
      "authorship_tag": "ABX9TyMzpMB/4o4ktq/0Vd08iYm4",
      "include_colab_link": true
    },
    "kernelspec": {
      "display_name": "Python 3",
      "name": "python3"
    },
    "widgets": {
      "application/vnd.jupyter.widget-state+json": {
        "63884572a09849308736d3cfd4763a78": {
          "model_module": "@jupyter-widgets/controls",
          "model_name": "HBoxModel",
          "state": {
            "_dom_classes": [],
            "_model_module": "@jupyter-widgets/controls",
            "_model_module_version": "1.5.0",
            "_model_name": "HBoxModel",
            "_view_count": null,
            "_view_module": "@jupyter-widgets/controls",
            "_view_module_version": "1.5.0",
            "_view_name": "HBoxView",
            "box_style": "",
            "children": [
              "IPY_MODEL_592c38b2794f412bb06561af92347f00",
              "IPY_MODEL_c600899c95e64d9a998f74fd94dffa76"
            ],
            "layout": "IPY_MODEL_339779075a1243628123a3456fdd4692"
          }
        },
        "592c38b2794f412bb06561af92347f00": {
          "model_module": "@jupyter-widgets/controls",
          "model_name": "FloatProgressModel",
          "state": {
            "_dom_classes": [],
            "_model_module": "@jupyter-widgets/controls",
            "_model_module_version": "1.5.0",
            "_model_name": "FloatProgressModel",
            "_view_count": null,
            "_view_module": "@jupyter-widgets/controls",
            "_view_module_version": "1.5.0",
            "_view_name": "ProgressView",
            "bar_style": "success",
            "description": "",
            "description_tooltip": null,
            "layout": "IPY_MODEL_9d4eac7c56144f798d560a8c1d332431",
            "max": 1,
            "min": 0,
            "orientation": "horizontal",
            "style": "IPY_MODEL_9ea674fb581841b887481251832a989d",
            "value": 1
          }
        },
        "c600899c95e64d9a998f74fd94dffa76": {
          "model_module": "@jupyter-widgets/controls",
          "model_name": "HTMLModel",
          "state": {
            "_dom_classes": [],
            "_model_module": "@jupyter-widgets/controls",
            "_model_module_version": "1.5.0",
            "_model_name": "HTMLModel",
            "_view_count": null,
            "_view_module": "@jupyter-widgets/controls",
            "_view_module_version": "1.5.0",
            "_view_name": "HTMLView",
            "description": "",
            "description_tooltip": null,
            "layout": "IPY_MODEL_48b4116a1b9a47038923cb8706198669",
            "placeholder": "​",
            "style": "IPY_MODEL_b4c5ebd532044e8ca4329ddc72845c4d",
            "value": " 9920512/? [00:02&lt;00:00, 4345521.21it/s]"
          }
        },
        "339779075a1243628123a3456fdd4692": {
          "model_module": "@jupyter-widgets/base",
          "model_name": "LayoutModel",
          "state": {
            "_model_module": "@jupyter-widgets/base",
            "_model_module_version": "1.2.0",
            "_model_name": "LayoutModel",
            "_view_count": null,
            "_view_module": "@jupyter-widgets/base",
            "_view_module_version": "1.2.0",
            "_view_name": "LayoutView",
            "align_content": null,
            "align_items": null,
            "align_self": null,
            "border": null,
            "bottom": null,
            "display": null,
            "flex": null,
            "flex_flow": null,
            "grid_area": null,
            "grid_auto_columns": null,
            "grid_auto_flow": null,
            "grid_auto_rows": null,
            "grid_column": null,
            "grid_gap": null,
            "grid_row": null,
            "grid_template_areas": null,
            "grid_template_columns": null,
            "grid_template_rows": null,
            "height": null,
            "justify_content": null,
            "justify_items": null,
            "left": null,
            "margin": null,
            "max_height": null,
            "max_width": null,
            "min_height": null,
            "min_width": null,
            "object_fit": null,
            "object_position": null,
            "order": null,
            "overflow": null,
            "overflow_x": null,
            "overflow_y": null,
            "padding": null,
            "right": null,
            "top": null,
            "visibility": null,
            "width": null
          }
        },
        "9d4eac7c56144f798d560a8c1d332431": {
          "model_module": "@jupyter-widgets/base",
          "model_name": "LayoutModel",
          "state": {
            "_model_module": "@jupyter-widgets/base",
            "_model_module_version": "1.2.0",
            "_model_name": "LayoutModel",
            "_view_count": null,
            "_view_module": "@jupyter-widgets/base",
            "_view_module_version": "1.2.0",
            "_view_name": "LayoutView",
            "align_content": null,
            "align_items": null,
            "align_self": null,
            "border": null,
            "bottom": null,
            "display": null,
            "flex": null,
            "flex_flow": null,
            "grid_area": null,
            "grid_auto_columns": null,
            "grid_auto_flow": null,
            "grid_auto_rows": null,
            "grid_column": null,
            "grid_gap": null,
            "grid_row": null,
            "grid_template_areas": null,
            "grid_template_columns": null,
            "grid_template_rows": null,
            "height": null,
            "justify_content": null,
            "justify_items": null,
            "left": null,
            "margin": null,
            "max_height": null,
            "max_width": null,
            "min_height": null,
            "min_width": null,
            "object_fit": null,
            "object_position": null,
            "order": null,
            "overflow": null,
            "overflow_x": null,
            "overflow_y": null,
            "padding": null,
            "right": null,
            "top": null,
            "visibility": null,
            "width": null
          }
        },
        "9ea674fb581841b887481251832a989d": {
          "model_module": "@jupyter-widgets/controls",
          "model_name": "ProgressStyleModel",
          "state": {
            "_model_module": "@jupyter-widgets/controls",
            "_model_module_version": "1.5.0",
            "_model_name": "ProgressStyleModel",
            "_view_count": null,
            "_view_module": "@jupyter-widgets/base",
            "_view_module_version": "1.2.0",
            "_view_name": "StyleView",
            "bar_color": null,
            "description_width": "initial"
          }
        },
        "48b4116a1b9a47038923cb8706198669": {
          "model_module": "@jupyter-widgets/base",
          "model_name": "LayoutModel",
          "state": {
            "_model_module": "@jupyter-widgets/base",
            "_model_module_version": "1.2.0",
            "_model_name": "LayoutModel",
            "_view_count": null,
            "_view_module": "@jupyter-widgets/base",
            "_view_module_version": "1.2.0",
            "_view_name": "LayoutView",
            "align_content": null,
            "align_items": null,
            "align_self": null,
            "border": null,
            "bottom": null,
            "display": null,
            "flex": null,
            "flex_flow": null,
            "grid_area": null,
            "grid_auto_columns": null,
            "grid_auto_flow": null,
            "grid_auto_rows": null,
            "grid_column": null,
            "grid_gap": null,
            "grid_row": null,
            "grid_template_areas": null,
            "grid_template_columns": null,
            "grid_template_rows": null,
            "height": null,
            "justify_content": null,
            "justify_items": null,
            "left": null,
            "margin": null,
            "max_height": null,
            "max_width": null,
            "min_height": null,
            "min_width": null,
            "object_fit": null,
            "object_position": null,
            "order": null,
            "overflow": null,
            "overflow_x": null,
            "overflow_y": null,
            "padding": null,
            "right": null,
            "top": null,
            "visibility": null,
            "width": null
          }
        },
        "b4c5ebd532044e8ca4329ddc72845c4d": {
          "model_module": "@jupyter-widgets/controls",
          "model_name": "DescriptionStyleModel",
          "state": {
            "_model_module": "@jupyter-widgets/controls",
            "_model_module_version": "1.5.0",
            "_model_name": "DescriptionStyleModel",
            "_view_count": null,
            "_view_module": "@jupyter-widgets/base",
            "_view_module_version": "1.2.0",
            "_view_name": "StyleView",
            "description_width": ""
          }
        },
        "8c2ce2d4cfc74bee917cca33b7f4c7cc": {
          "model_module": "@jupyter-widgets/controls",
          "model_name": "HBoxModel",
          "state": {
            "_dom_classes": [],
            "_model_module": "@jupyter-widgets/controls",
            "_model_module_version": "1.5.0",
            "_model_name": "HBoxModel",
            "_view_count": null,
            "_view_module": "@jupyter-widgets/controls",
            "_view_module_version": "1.5.0",
            "_view_name": "HBoxView",
            "box_style": "",
            "children": [
              "IPY_MODEL_791d8f0efaa84c4da8f90fe92d31f0a7",
              "IPY_MODEL_e2f860fc7ca84df99ceda2aa005c5d30"
            ],
            "layout": "IPY_MODEL_1046e33fbc7f41a5a4f1013a8601f6d3"
          }
        },
        "791d8f0efaa84c4da8f90fe92d31f0a7": {
          "model_module": "@jupyter-widgets/controls",
          "model_name": "FloatProgressModel",
          "state": {
            "_dom_classes": [],
            "_model_module": "@jupyter-widgets/controls",
            "_model_module_version": "1.5.0",
            "_model_name": "FloatProgressModel",
            "_view_count": null,
            "_view_module": "@jupyter-widgets/controls",
            "_view_module_version": "1.5.0",
            "_view_name": "ProgressView",
            "bar_style": "success",
            "description": "",
            "description_tooltip": null,
            "layout": "IPY_MODEL_8f59bb9e106640e1967902831d7ec4c8",
            "max": 1,
            "min": 0,
            "orientation": "horizontal",
            "style": "IPY_MODEL_248700b6b6704f1cadd6f2e22e228236",
            "value": 1
          }
        },
        "e2f860fc7ca84df99ceda2aa005c5d30": {
          "model_module": "@jupyter-widgets/controls",
          "model_name": "HTMLModel",
          "state": {
            "_dom_classes": [],
            "_model_module": "@jupyter-widgets/controls",
            "_model_module_version": "1.5.0",
            "_model_name": "HTMLModel",
            "_view_count": null,
            "_view_module": "@jupyter-widgets/controls",
            "_view_module_version": "1.5.0",
            "_view_name": "HTMLView",
            "description": "",
            "description_tooltip": null,
            "layout": "IPY_MODEL_1e965d6658294f16907d86762df889ed",
            "placeholder": "​",
            "style": "IPY_MODEL_4632f61a66b943b1b456a49da1aec6de",
            "value": " 32768/? [00:00&lt;00:00, 112671.69it/s]"
          }
        },
        "1046e33fbc7f41a5a4f1013a8601f6d3": {
          "model_module": "@jupyter-widgets/base",
          "model_name": "LayoutModel",
          "state": {
            "_model_module": "@jupyter-widgets/base",
            "_model_module_version": "1.2.0",
            "_model_name": "LayoutModel",
            "_view_count": null,
            "_view_module": "@jupyter-widgets/base",
            "_view_module_version": "1.2.0",
            "_view_name": "LayoutView",
            "align_content": null,
            "align_items": null,
            "align_self": null,
            "border": null,
            "bottom": null,
            "display": null,
            "flex": null,
            "flex_flow": null,
            "grid_area": null,
            "grid_auto_columns": null,
            "grid_auto_flow": null,
            "grid_auto_rows": null,
            "grid_column": null,
            "grid_gap": null,
            "grid_row": null,
            "grid_template_areas": null,
            "grid_template_columns": null,
            "grid_template_rows": null,
            "height": null,
            "justify_content": null,
            "justify_items": null,
            "left": null,
            "margin": null,
            "max_height": null,
            "max_width": null,
            "min_height": null,
            "min_width": null,
            "object_fit": null,
            "object_position": null,
            "order": null,
            "overflow": null,
            "overflow_x": null,
            "overflow_y": null,
            "padding": null,
            "right": null,
            "top": null,
            "visibility": null,
            "width": null
          }
        },
        "8f59bb9e106640e1967902831d7ec4c8": {
          "model_module": "@jupyter-widgets/base",
          "model_name": "LayoutModel",
          "state": {
            "_model_module": "@jupyter-widgets/base",
            "_model_module_version": "1.2.0",
            "_model_name": "LayoutModel",
            "_view_count": null,
            "_view_module": "@jupyter-widgets/base",
            "_view_module_version": "1.2.0",
            "_view_name": "LayoutView",
            "align_content": null,
            "align_items": null,
            "align_self": null,
            "border": null,
            "bottom": null,
            "display": null,
            "flex": null,
            "flex_flow": null,
            "grid_area": null,
            "grid_auto_columns": null,
            "grid_auto_flow": null,
            "grid_auto_rows": null,
            "grid_column": null,
            "grid_gap": null,
            "grid_row": null,
            "grid_template_areas": null,
            "grid_template_columns": null,
            "grid_template_rows": null,
            "height": null,
            "justify_content": null,
            "justify_items": null,
            "left": null,
            "margin": null,
            "max_height": null,
            "max_width": null,
            "min_height": null,
            "min_width": null,
            "object_fit": null,
            "object_position": null,
            "order": null,
            "overflow": null,
            "overflow_x": null,
            "overflow_y": null,
            "padding": null,
            "right": null,
            "top": null,
            "visibility": null,
            "width": null
          }
        },
        "248700b6b6704f1cadd6f2e22e228236": {
          "model_module": "@jupyter-widgets/controls",
          "model_name": "ProgressStyleModel",
          "state": {
            "_model_module": "@jupyter-widgets/controls",
            "_model_module_version": "1.5.0",
            "_model_name": "ProgressStyleModel",
            "_view_count": null,
            "_view_module": "@jupyter-widgets/base",
            "_view_module_version": "1.2.0",
            "_view_name": "StyleView",
            "bar_color": null,
            "description_width": "initial"
          }
        },
        "1e965d6658294f16907d86762df889ed": {
          "model_module": "@jupyter-widgets/base",
          "model_name": "LayoutModel",
          "state": {
            "_model_module": "@jupyter-widgets/base",
            "_model_module_version": "1.2.0",
            "_model_name": "LayoutModel",
            "_view_count": null,
            "_view_module": "@jupyter-widgets/base",
            "_view_module_version": "1.2.0",
            "_view_name": "LayoutView",
            "align_content": null,
            "align_items": null,
            "align_self": null,
            "border": null,
            "bottom": null,
            "display": null,
            "flex": null,
            "flex_flow": null,
            "grid_area": null,
            "grid_auto_columns": null,
            "grid_auto_flow": null,
            "grid_auto_rows": null,
            "grid_column": null,
            "grid_gap": null,
            "grid_row": null,
            "grid_template_areas": null,
            "grid_template_columns": null,
            "grid_template_rows": null,
            "height": null,
            "justify_content": null,
            "justify_items": null,
            "left": null,
            "margin": null,
            "max_height": null,
            "max_width": null,
            "min_height": null,
            "min_width": null,
            "object_fit": null,
            "object_position": null,
            "order": null,
            "overflow": null,
            "overflow_x": null,
            "overflow_y": null,
            "padding": null,
            "right": null,
            "top": null,
            "visibility": null,
            "width": null
          }
        },
        "4632f61a66b943b1b456a49da1aec6de": {
          "model_module": "@jupyter-widgets/controls",
          "model_name": "DescriptionStyleModel",
          "state": {
            "_model_module": "@jupyter-widgets/controls",
            "_model_module_version": "1.5.0",
            "_model_name": "DescriptionStyleModel",
            "_view_count": null,
            "_view_module": "@jupyter-widgets/base",
            "_view_module_version": "1.2.0",
            "_view_name": "StyleView",
            "description_width": ""
          }
        },
        "a62dc678fccb438d802ae49401e96e15": {
          "model_module": "@jupyter-widgets/controls",
          "model_name": "HBoxModel",
          "state": {
            "_dom_classes": [],
            "_model_module": "@jupyter-widgets/controls",
            "_model_module_version": "1.5.0",
            "_model_name": "HBoxModel",
            "_view_count": null,
            "_view_module": "@jupyter-widgets/controls",
            "_view_module_version": "1.5.0",
            "_view_name": "HBoxView",
            "box_style": "",
            "children": [
              "IPY_MODEL_9a0c4c370b6b41d6a2356acc54bff89b",
              "IPY_MODEL_acc7d81841b84ab6b2a7515ce8840e8d"
            ],
            "layout": "IPY_MODEL_e033822dafe540fd93c32858243023ca"
          }
        },
        "9a0c4c370b6b41d6a2356acc54bff89b": {
          "model_module": "@jupyter-widgets/controls",
          "model_name": "FloatProgressModel",
          "state": {
            "_dom_classes": [],
            "_model_module": "@jupyter-widgets/controls",
            "_model_module_version": "1.5.0",
            "_model_name": "FloatProgressModel",
            "_view_count": null,
            "_view_module": "@jupyter-widgets/controls",
            "_view_module_version": "1.5.0",
            "_view_name": "ProgressView",
            "bar_style": "info",
            "description": "",
            "description_tooltip": null,
            "layout": "IPY_MODEL_0515711e7dc34652ae2081a9a1f66b60",
            "max": 1,
            "min": 0,
            "orientation": "horizontal",
            "style": "IPY_MODEL_e4f1ce43a6184f64be8e7f0addd522c0",
            "value": 1
          }
        },
        "acc7d81841b84ab6b2a7515ce8840e8d": {
          "model_module": "@jupyter-widgets/controls",
          "model_name": "HTMLModel",
          "state": {
            "_dom_classes": [],
            "_model_module": "@jupyter-widgets/controls",
            "_model_module_version": "1.5.0",
            "_model_name": "HTMLModel",
            "_view_count": null,
            "_view_module": "@jupyter-widgets/controls",
            "_view_module_version": "1.5.0",
            "_view_name": "HTMLView",
            "description": "",
            "description_tooltip": null,
            "layout": "IPY_MODEL_05fedc6a6ee1423da3c109166c9bb9f8",
            "placeholder": "​",
            "style": "IPY_MODEL_46b03eb2b5464944b73499ef08895d86",
            "value": " 1654784/? [00:17&lt;00:00, 252119.35it/s]"
          }
        },
        "e033822dafe540fd93c32858243023ca": {
          "model_module": "@jupyter-widgets/base",
          "model_name": "LayoutModel",
          "state": {
            "_model_module": "@jupyter-widgets/base",
            "_model_module_version": "1.2.0",
            "_model_name": "LayoutModel",
            "_view_count": null,
            "_view_module": "@jupyter-widgets/base",
            "_view_module_version": "1.2.0",
            "_view_name": "LayoutView",
            "align_content": null,
            "align_items": null,
            "align_self": null,
            "border": null,
            "bottom": null,
            "display": null,
            "flex": null,
            "flex_flow": null,
            "grid_area": null,
            "grid_auto_columns": null,
            "grid_auto_flow": null,
            "grid_auto_rows": null,
            "grid_column": null,
            "grid_gap": null,
            "grid_row": null,
            "grid_template_areas": null,
            "grid_template_columns": null,
            "grid_template_rows": null,
            "height": null,
            "justify_content": null,
            "justify_items": null,
            "left": null,
            "margin": null,
            "max_height": null,
            "max_width": null,
            "min_height": null,
            "min_width": null,
            "object_fit": null,
            "object_position": null,
            "order": null,
            "overflow": null,
            "overflow_x": null,
            "overflow_y": null,
            "padding": null,
            "right": null,
            "top": null,
            "visibility": null,
            "width": null
          }
        },
        "0515711e7dc34652ae2081a9a1f66b60": {
          "model_module": "@jupyter-widgets/base",
          "model_name": "LayoutModel",
          "state": {
            "_model_module": "@jupyter-widgets/base",
            "_model_module_version": "1.2.0",
            "_model_name": "LayoutModel",
            "_view_count": null,
            "_view_module": "@jupyter-widgets/base",
            "_view_module_version": "1.2.0",
            "_view_name": "LayoutView",
            "align_content": null,
            "align_items": null,
            "align_self": null,
            "border": null,
            "bottom": null,
            "display": null,
            "flex": null,
            "flex_flow": null,
            "grid_area": null,
            "grid_auto_columns": null,
            "grid_auto_flow": null,
            "grid_auto_rows": null,
            "grid_column": null,
            "grid_gap": null,
            "grid_row": null,
            "grid_template_areas": null,
            "grid_template_columns": null,
            "grid_template_rows": null,
            "height": null,
            "justify_content": null,
            "justify_items": null,
            "left": null,
            "margin": null,
            "max_height": null,
            "max_width": null,
            "min_height": null,
            "min_width": null,
            "object_fit": null,
            "object_position": null,
            "order": null,
            "overflow": null,
            "overflow_x": null,
            "overflow_y": null,
            "padding": null,
            "right": null,
            "top": null,
            "visibility": null,
            "width": null
          }
        },
        "e4f1ce43a6184f64be8e7f0addd522c0": {
          "model_module": "@jupyter-widgets/controls",
          "model_name": "ProgressStyleModel",
          "state": {
            "_model_module": "@jupyter-widgets/controls",
            "_model_module_version": "1.5.0",
            "_model_name": "ProgressStyleModel",
            "_view_count": null,
            "_view_module": "@jupyter-widgets/base",
            "_view_module_version": "1.2.0",
            "_view_name": "StyleView",
            "bar_color": null,
            "description_width": "initial"
          }
        },
        "05fedc6a6ee1423da3c109166c9bb9f8": {
          "model_module": "@jupyter-widgets/base",
          "model_name": "LayoutModel",
          "state": {
            "_model_module": "@jupyter-widgets/base",
            "_model_module_version": "1.2.0",
            "_model_name": "LayoutModel",
            "_view_count": null,
            "_view_module": "@jupyter-widgets/base",
            "_view_module_version": "1.2.0",
            "_view_name": "LayoutView",
            "align_content": null,
            "align_items": null,
            "align_self": null,
            "border": null,
            "bottom": null,
            "display": null,
            "flex": null,
            "flex_flow": null,
            "grid_area": null,
            "grid_auto_columns": null,
            "grid_auto_flow": null,
            "grid_auto_rows": null,
            "grid_column": null,
            "grid_gap": null,
            "grid_row": null,
            "grid_template_areas": null,
            "grid_template_columns": null,
            "grid_template_rows": null,
            "height": null,
            "justify_content": null,
            "justify_items": null,
            "left": null,
            "margin": null,
            "max_height": null,
            "max_width": null,
            "min_height": null,
            "min_width": null,
            "object_fit": null,
            "object_position": null,
            "order": null,
            "overflow": null,
            "overflow_x": null,
            "overflow_y": null,
            "padding": null,
            "right": null,
            "top": null,
            "visibility": null,
            "width": null
          }
        },
        "46b03eb2b5464944b73499ef08895d86": {
          "model_module": "@jupyter-widgets/controls",
          "model_name": "DescriptionStyleModel",
          "state": {
            "_model_module": "@jupyter-widgets/controls",
            "_model_module_version": "1.5.0",
            "_model_name": "DescriptionStyleModel",
            "_view_count": null,
            "_view_module": "@jupyter-widgets/base",
            "_view_module_version": "1.2.0",
            "_view_name": "StyleView",
            "description_width": ""
          }
        },
        "1ea9f5392d51437880c0985ce2c66d22": {
          "model_module": "@jupyter-widgets/controls",
          "model_name": "HBoxModel",
          "state": {
            "_dom_classes": [],
            "_model_module": "@jupyter-widgets/controls",
            "_model_module_version": "1.5.0",
            "_model_name": "HBoxModel",
            "_view_count": null,
            "_view_module": "@jupyter-widgets/controls",
            "_view_module_version": "1.5.0",
            "_view_name": "HBoxView",
            "box_style": "",
            "children": [
              "IPY_MODEL_b18dfcf28f634cf287a4e5315a467c88",
              "IPY_MODEL_c57a6e41b559419399dde4116ac89fc8"
            ],
            "layout": "IPY_MODEL_a894bd13249241a7837e27b47f07853e"
          }
        },
        "b18dfcf28f634cf287a4e5315a467c88": {
          "model_module": "@jupyter-widgets/controls",
          "model_name": "FloatProgressModel",
          "state": {
            "_dom_classes": [],
            "_model_module": "@jupyter-widgets/controls",
            "_model_module_version": "1.5.0",
            "_model_name": "FloatProgressModel",
            "_view_count": null,
            "_view_module": "@jupyter-widgets/controls",
            "_view_module_version": "1.5.0",
            "_view_name": "ProgressView",
            "bar_style": "success",
            "description": "",
            "description_tooltip": null,
            "layout": "IPY_MODEL_c1dd8d2062c84f0e9ce91632b017486d",
            "max": 1,
            "min": 0,
            "orientation": "horizontal",
            "style": "IPY_MODEL_5837e98c4a2e412b9c6e15a7a4ffab24",
            "value": 1
          }
        },
        "c57a6e41b559419399dde4116ac89fc8": {
          "model_module": "@jupyter-widgets/controls",
          "model_name": "HTMLModel",
          "state": {
            "_dom_classes": [],
            "_model_module": "@jupyter-widgets/controls",
            "_model_module_version": "1.5.0",
            "_model_name": "HTMLModel",
            "_view_count": null,
            "_view_module": "@jupyter-widgets/controls",
            "_view_module_version": "1.5.0",
            "_view_name": "HTMLView",
            "description": "",
            "description_tooltip": null,
            "layout": "IPY_MODEL_ff48673230af4c88bba338151fb6bdd5",
            "placeholder": "​",
            "style": "IPY_MODEL_9b077d8c30c24e0393c7b4bcb13c8de8",
            "value": " 8192/? [00:00&lt;00:00, 10794.95it/s]"
          }
        },
        "a894bd13249241a7837e27b47f07853e": {
          "model_module": "@jupyter-widgets/base",
          "model_name": "LayoutModel",
          "state": {
            "_model_module": "@jupyter-widgets/base",
            "_model_module_version": "1.2.0",
            "_model_name": "LayoutModel",
            "_view_count": null,
            "_view_module": "@jupyter-widgets/base",
            "_view_module_version": "1.2.0",
            "_view_name": "LayoutView",
            "align_content": null,
            "align_items": null,
            "align_self": null,
            "border": null,
            "bottom": null,
            "display": null,
            "flex": null,
            "flex_flow": null,
            "grid_area": null,
            "grid_auto_columns": null,
            "grid_auto_flow": null,
            "grid_auto_rows": null,
            "grid_column": null,
            "grid_gap": null,
            "grid_row": null,
            "grid_template_areas": null,
            "grid_template_columns": null,
            "grid_template_rows": null,
            "height": null,
            "justify_content": null,
            "justify_items": null,
            "left": null,
            "margin": null,
            "max_height": null,
            "max_width": null,
            "min_height": null,
            "min_width": null,
            "object_fit": null,
            "object_position": null,
            "order": null,
            "overflow": null,
            "overflow_x": null,
            "overflow_y": null,
            "padding": null,
            "right": null,
            "top": null,
            "visibility": null,
            "width": null
          }
        },
        "c1dd8d2062c84f0e9ce91632b017486d": {
          "model_module": "@jupyter-widgets/base",
          "model_name": "LayoutModel",
          "state": {
            "_model_module": "@jupyter-widgets/base",
            "_model_module_version": "1.2.0",
            "_model_name": "LayoutModel",
            "_view_count": null,
            "_view_module": "@jupyter-widgets/base",
            "_view_module_version": "1.2.0",
            "_view_name": "LayoutView",
            "align_content": null,
            "align_items": null,
            "align_self": null,
            "border": null,
            "bottom": null,
            "display": null,
            "flex": null,
            "flex_flow": null,
            "grid_area": null,
            "grid_auto_columns": null,
            "grid_auto_flow": null,
            "grid_auto_rows": null,
            "grid_column": null,
            "grid_gap": null,
            "grid_row": null,
            "grid_template_areas": null,
            "grid_template_columns": null,
            "grid_template_rows": null,
            "height": null,
            "justify_content": null,
            "justify_items": null,
            "left": null,
            "margin": null,
            "max_height": null,
            "max_width": null,
            "min_height": null,
            "min_width": null,
            "object_fit": null,
            "object_position": null,
            "order": null,
            "overflow": null,
            "overflow_x": null,
            "overflow_y": null,
            "padding": null,
            "right": null,
            "top": null,
            "visibility": null,
            "width": null
          }
        },
        "5837e98c4a2e412b9c6e15a7a4ffab24": {
          "model_module": "@jupyter-widgets/controls",
          "model_name": "ProgressStyleModel",
          "state": {
            "_model_module": "@jupyter-widgets/controls",
            "_model_module_version": "1.5.0",
            "_model_name": "ProgressStyleModel",
            "_view_count": null,
            "_view_module": "@jupyter-widgets/base",
            "_view_module_version": "1.2.0",
            "_view_name": "StyleView",
            "bar_color": null,
            "description_width": "initial"
          }
        },
        "ff48673230af4c88bba338151fb6bdd5": {
          "model_module": "@jupyter-widgets/base",
          "model_name": "LayoutModel",
          "state": {
            "_model_module": "@jupyter-widgets/base",
            "_model_module_version": "1.2.0",
            "_model_name": "LayoutModel",
            "_view_count": null,
            "_view_module": "@jupyter-widgets/base",
            "_view_module_version": "1.2.0",
            "_view_name": "LayoutView",
            "align_content": null,
            "align_items": null,
            "align_self": null,
            "border": null,
            "bottom": null,
            "display": null,
            "flex": null,
            "flex_flow": null,
            "grid_area": null,
            "grid_auto_columns": null,
            "grid_auto_flow": null,
            "grid_auto_rows": null,
            "grid_column": null,
            "grid_gap": null,
            "grid_row": null,
            "grid_template_areas": null,
            "grid_template_columns": null,
            "grid_template_rows": null,
            "height": null,
            "justify_content": null,
            "justify_items": null,
            "left": null,
            "margin": null,
            "max_height": null,
            "max_width": null,
            "min_height": null,
            "min_width": null,
            "object_fit": null,
            "object_position": null,
            "order": null,
            "overflow": null,
            "overflow_x": null,
            "overflow_y": null,
            "padding": null,
            "right": null,
            "top": null,
            "visibility": null,
            "width": null
          }
        },
        "9b077d8c30c24e0393c7b4bcb13c8de8": {
          "model_module": "@jupyter-widgets/controls",
          "model_name": "DescriptionStyleModel",
          "state": {
            "_model_module": "@jupyter-widgets/controls",
            "_model_module_version": "1.5.0",
            "_model_name": "DescriptionStyleModel",
            "_view_count": null,
            "_view_module": "@jupyter-widgets/base",
            "_view_module_version": "1.2.0",
            "_view_name": "StyleView",
            "description_width": ""
          }
        },
        "1a2353a761f94477918132a0ec782afe": {
          "model_module": "@jupyter-widgets/controls",
          "model_name": "VBoxModel",
          "state": {
            "_dom_classes": [],
            "_model_module": "@jupyter-widgets/controls",
            "_model_module_version": "1.5.0",
            "_model_name": "VBoxModel",
            "_view_count": null,
            "_view_module": "@jupyter-widgets/controls",
            "_view_module_version": "1.5.0",
            "_view_name": "VBoxView",
            "box_style": "",
            "children": [
              "IPY_MODEL_a270a28c684c49e39b1ce6f8be3dbc55",
              "IPY_MODEL_656a02617b38418e835736b3e8af3a24"
            ],
            "layout": "IPY_MODEL_40dd597aa5f14fa58513c036c261c43c"
          }
        },
        "a270a28c684c49e39b1ce6f8be3dbc55": {
          "model_module": "@jupyter-widgets/controls",
          "model_name": "LabelModel",
          "state": {
            "_dom_classes": [],
            "_model_module": "@jupyter-widgets/controls",
            "_model_module_version": "1.5.0",
            "_model_name": "LabelModel",
            "_view_count": null,
            "_view_module": "@jupyter-widgets/controls",
            "_view_module_version": "1.5.0",
            "_view_name": "LabelView",
            "description": "",
            "description_tooltip": null,
            "layout": "IPY_MODEL_a48ff0fe70a44270952b542689559e9a",
            "placeholder": "​",
            "style": "IPY_MODEL_0ec6602b57d3424d8c31c031a10382c1",
            "value": " 0.01MB of 0.01MB uploaded (0.00MB deduped)\r"
          }
        },
        "656a02617b38418e835736b3e8af3a24": {
          "model_module": "@jupyter-widgets/controls",
          "model_name": "FloatProgressModel",
          "state": {
            "_dom_classes": [],
            "_model_module": "@jupyter-widgets/controls",
            "_model_module_version": "1.5.0",
            "_model_name": "FloatProgressModel",
            "_view_count": null,
            "_view_module": "@jupyter-widgets/controls",
            "_view_module_version": "1.5.0",
            "_view_name": "ProgressView",
            "bar_style": "",
            "description": "",
            "description_tooltip": null,
            "layout": "IPY_MODEL_66565c39ddd8455eb8ea97e225a4945e",
            "max": 1,
            "min": 0,
            "orientation": "horizontal",
            "style": "IPY_MODEL_f8573b98a0eb498591ab6b99f740930f",
            "value": 1
          }
        },
        "40dd597aa5f14fa58513c036c261c43c": {
          "model_module": "@jupyter-widgets/base",
          "model_name": "LayoutModel",
          "state": {
            "_model_module": "@jupyter-widgets/base",
            "_model_module_version": "1.2.0",
            "_model_name": "LayoutModel",
            "_view_count": null,
            "_view_module": "@jupyter-widgets/base",
            "_view_module_version": "1.2.0",
            "_view_name": "LayoutView",
            "align_content": null,
            "align_items": null,
            "align_self": null,
            "border": null,
            "bottom": null,
            "display": null,
            "flex": null,
            "flex_flow": null,
            "grid_area": null,
            "grid_auto_columns": null,
            "grid_auto_flow": null,
            "grid_auto_rows": null,
            "grid_column": null,
            "grid_gap": null,
            "grid_row": null,
            "grid_template_areas": null,
            "grid_template_columns": null,
            "grid_template_rows": null,
            "height": null,
            "justify_content": null,
            "justify_items": null,
            "left": null,
            "margin": null,
            "max_height": null,
            "max_width": null,
            "min_height": null,
            "min_width": null,
            "object_fit": null,
            "object_position": null,
            "order": null,
            "overflow": null,
            "overflow_x": null,
            "overflow_y": null,
            "padding": null,
            "right": null,
            "top": null,
            "visibility": null,
            "width": null
          }
        },
        "a48ff0fe70a44270952b542689559e9a": {
          "model_module": "@jupyter-widgets/base",
          "model_name": "LayoutModel",
          "state": {
            "_model_module": "@jupyter-widgets/base",
            "_model_module_version": "1.2.0",
            "_model_name": "LayoutModel",
            "_view_count": null,
            "_view_module": "@jupyter-widgets/base",
            "_view_module_version": "1.2.0",
            "_view_name": "LayoutView",
            "align_content": null,
            "align_items": null,
            "align_self": null,
            "border": null,
            "bottom": null,
            "display": null,
            "flex": null,
            "flex_flow": null,
            "grid_area": null,
            "grid_auto_columns": null,
            "grid_auto_flow": null,
            "grid_auto_rows": null,
            "grid_column": null,
            "grid_gap": null,
            "grid_row": null,
            "grid_template_areas": null,
            "grid_template_columns": null,
            "grid_template_rows": null,
            "height": null,
            "justify_content": null,
            "justify_items": null,
            "left": null,
            "margin": null,
            "max_height": null,
            "max_width": null,
            "min_height": null,
            "min_width": null,
            "object_fit": null,
            "object_position": null,
            "order": null,
            "overflow": null,
            "overflow_x": null,
            "overflow_y": null,
            "padding": null,
            "right": null,
            "top": null,
            "visibility": null,
            "width": null
          }
        },
        "0ec6602b57d3424d8c31c031a10382c1": {
          "model_module": "@jupyter-widgets/controls",
          "model_name": "DescriptionStyleModel",
          "state": {
            "_model_module": "@jupyter-widgets/controls",
            "_model_module_version": "1.5.0",
            "_model_name": "DescriptionStyleModel",
            "_view_count": null,
            "_view_module": "@jupyter-widgets/base",
            "_view_module_version": "1.2.0",
            "_view_name": "StyleView",
            "description_width": ""
          }
        },
        "66565c39ddd8455eb8ea97e225a4945e": {
          "model_module": "@jupyter-widgets/base",
          "model_name": "LayoutModel",
          "state": {
            "_model_module": "@jupyter-widgets/base",
            "_model_module_version": "1.2.0",
            "_model_name": "LayoutModel",
            "_view_count": null,
            "_view_module": "@jupyter-widgets/base",
            "_view_module_version": "1.2.0",
            "_view_name": "LayoutView",
            "align_content": null,
            "align_items": null,
            "align_self": null,
            "border": null,
            "bottom": null,
            "display": null,
            "flex": null,
            "flex_flow": null,
            "grid_area": null,
            "grid_auto_columns": null,
            "grid_auto_flow": null,
            "grid_auto_rows": null,
            "grid_column": null,
            "grid_gap": null,
            "grid_row": null,
            "grid_template_areas": null,
            "grid_template_columns": null,
            "grid_template_rows": null,
            "height": null,
            "justify_content": null,
            "justify_items": null,
            "left": null,
            "margin": null,
            "max_height": null,
            "max_width": null,
            "min_height": null,
            "min_width": null,
            "object_fit": null,
            "object_position": null,
            "order": null,
            "overflow": null,
            "overflow_x": null,
            "overflow_y": null,
            "padding": null,
            "right": null,
            "top": null,
            "visibility": null,
            "width": null
          }
        },
        "f8573b98a0eb498591ab6b99f740930f": {
          "model_module": "@jupyter-widgets/controls",
          "model_name": "ProgressStyleModel",
          "state": {
            "_model_module": "@jupyter-widgets/controls",
            "_model_module_version": "1.5.0",
            "_model_name": "ProgressStyleModel",
            "_view_count": null,
            "_view_module": "@jupyter-widgets/base",
            "_view_module_version": "1.2.0",
            "_view_name": "StyleView",
            "bar_color": null,
            "description_width": ""
          }
        }
      }
    }
  },
  "cells": [
    {
      "cell_type": "markdown",
      "metadata": {
        "id": "view-in-github",
        "colab_type": "text"
      },
      "source": [
        "<a href=\"https://colab.research.google.com/github/williamedwardhahn/ComplexSystems/blob/main/Complex_Systems_Lab_LSTM.ipynb\" target=\"_parent\"><img src=\"https://colab.research.google.com/assets/colab-badge.svg\" alt=\"Open In Colab\"/></a>"
      ]
    },
    {
      "cell_type": "code",
      "metadata": {
        "id": "D4jfdZR_z3Yd"
      },
      "source": [
        "import os\n",
        "import torch\n",
        "import torchvision\n",
        "import torch.nn as nn\n",
        "from torchvision import transforms\n",
        "from torchvision.utils import save_image\n",
        "from torch.autograd import Variable\n",
        "import pylab\n",
        "import torchvision.transforms as transforms\n",
        "from torch.utils.data import DataLoader\n",
        "from torchvision.datasets import MNIST\n",
        "import torchvision.utils"
      ],
      "execution_count": null,
      "outputs": []
    },
    {
      "cell_type": "code",
      "metadata": {
        "colab": {
          "base_uri": "https://localhost:8080/"
        },
        "id": "cnYpD9CLDA5h",
        "outputId": "1ad47a4e-4f00-4982-bdbb-04f5360d8883"
      },
      "source": [
        "!pip install git+https://github.com/williamedwardhahn/mpcr\n",
        "from mpcr import *"
      ],
      "execution_count": null,
      "outputs": [
        {
          "output_type": "stream",
          "text": [
            "Collecting git+https://github.com/williamedwardhahn/mpcr\n",
            "  Cloning https://github.com/williamedwardhahn/mpcr to /tmp/pip-req-build-yesvxe2m\n",
            "  Running command git clone -q https://github.com/williamedwardhahn/mpcr /tmp/pip-req-build-yesvxe2m\n",
            "Building wheels for collected packages: ImportMPCR\n",
            "  Building wheel for ImportMPCR (setup.py) ... \u001b[?25l\u001b[?25hdone\n",
            "  Created wheel for ImportMPCR: filename=ImportMPCR-0.0.1-cp36-none-any.whl size=7325 sha256=84e2b298b0566ddff6218c256b03f9be1cbdf63fc61c1c8afcb52ba0414403c7\n",
            "  Stored in directory: /tmp/pip-ephem-wheel-cache-pltps0xe/wheels/89/93/47/ef43fe80a5b823a05d8dcca5ed1581f4fcdacf69b27110603f\n",
            "Successfully built ImportMPCR\n",
            "Installing collected packages: ImportMPCR\n",
            "Successfully installed ImportMPCR-0.0.1\n",
            "[nltk_data] Downloading package punkt to /root/nltk_data...\n",
            "[nltk_data]   Unzipping tokenizers/punkt.zip.\n"
          ],
          "name": "stdout"
        }
      ]
    },
    {
      "cell_type": "code",
      "metadata": {
        "id": "36dZEmzBDA7k"
      },
      "source": [
        "def randn_trunc(s): #Truncated Normal Random Numbers\n",
        "    mu = 0 \n",
        "    sigma = 0.1\n",
        "    R = stats.truncnorm((-2*sigma - mu) / sigma, (2*sigma - mu) / sigma, loc=mu, scale=sigma)\n",
        "    return R.rvs(s)"
      ],
      "execution_count": null,
      "outputs": []
    },
    {
      "cell_type": "code",
      "metadata": {
        "id": "tz9ZkgN4JdQv"
      },
      "source": [
        "def GPU(data):\n",
        "    return torch.tensor(data, requires_grad=True, dtype=torch.float, device=torch.device('cuda'))"
      ],
      "execution_count": null,
      "outputs": []
    },
    {
      "cell_type": "code",
      "metadata": {
        "id": "6DQxxGNl1E1o"
      },
      "source": [
        "def plot(x):\n",
        "    if type(x) == torch.Tensor :\n",
        "        x = x.cpu().detach().numpy()\n",
        "\n",
        "    fig, ax = plt.subplots()\n",
        "    im = ax.imshow(x, cmap = 'gray')\n",
        "    ax.axis('off')\n",
        "    fig.set_size_inches(10, 10)\n",
        "    plt.show()"
      ],
      "execution_count": null,
      "outputs": []
    },
    {
      "cell_type": "code",
      "metadata": {
        "id": "wLcWTt76COK2"
      },
      "source": [
        "def montage_plot(x):\n",
        "    x = np.pad(x, pad_width=((0, 0), (1, 1), (1, 1)), mode='constant', constant_values=0)\n",
        "    plot(montage(x))"
      ],
      "execution_count": null,
      "outputs": []
    },
    {
      "cell_type": "code",
      "metadata": {
        "colab": {
          "base_uri": "https://localhost:8080/",
          "height": 408,
          "referenced_widgets": [
            "63884572a09849308736d3cfd4763a78",
            "592c38b2794f412bb06561af92347f00",
            "c600899c95e64d9a998f74fd94dffa76",
            "339779075a1243628123a3456fdd4692",
            "9d4eac7c56144f798d560a8c1d332431",
            "9ea674fb581841b887481251832a989d",
            "48b4116a1b9a47038923cb8706198669",
            "b4c5ebd532044e8ca4329ddc72845c4d",
            "8c2ce2d4cfc74bee917cca33b7f4c7cc",
            "791d8f0efaa84c4da8f90fe92d31f0a7",
            "e2f860fc7ca84df99ceda2aa005c5d30",
            "1046e33fbc7f41a5a4f1013a8601f6d3",
            "8f59bb9e106640e1967902831d7ec4c8",
            "248700b6b6704f1cadd6f2e22e228236",
            "1e965d6658294f16907d86762df889ed",
            "4632f61a66b943b1b456a49da1aec6de",
            "a62dc678fccb438d802ae49401e96e15",
            "9a0c4c370b6b41d6a2356acc54bff89b",
            "acc7d81841b84ab6b2a7515ce8840e8d",
            "e033822dafe540fd93c32858243023ca",
            "0515711e7dc34652ae2081a9a1f66b60",
            "e4f1ce43a6184f64be8e7f0addd522c0",
            "05fedc6a6ee1423da3c109166c9bb9f8",
            "46b03eb2b5464944b73499ef08895d86",
            "1ea9f5392d51437880c0985ce2c66d22",
            "b18dfcf28f634cf287a4e5315a467c88",
            "c57a6e41b559419399dde4116ac89fc8",
            "a894bd13249241a7837e27b47f07853e",
            "c1dd8d2062c84f0e9ce91632b017486d",
            "5837e98c4a2e412b9c6e15a7a4ffab24",
            "ff48673230af4c88bba338151fb6bdd5",
            "9b077d8c30c24e0393c7b4bcb13c8de8"
          ]
        },
        "id": "mm7ZMYrVEdMX",
        "outputId": "346bb867-9155-45f3-c4a6-64490356ee8b"
      },
      "source": [
        "#MNIST\n",
        "train_set = datasets.MNIST('./data', train=True, download=True)\n",
        "test_set = datasets.MNIST('./data', train=False, download=True)\n",
        "\n",
        "#KMNIST\n",
        "#train_set = datasets.KMNIST('./data', train=True, download=True)\n",
        "#test_set = datasets.KMNIST('./data', train=False, download=True)\n",
        "\n",
        "#Fashion MNIST\n",
        "# train_set = datasets.FashionMNIST('./data', train=True, download=True)\n",
        "# test_set = datasets.FashionMNIST('./data', train=False, download=True)"
      ],
      "execution_count": null,
      "outputs": [
        {
          "output_type": "stream",
          "text": [
            "Downloading http://yann.lecun.com/exdb/mnist/train-images-idx3-ubyte.gz to ./data/MNIST/raw/train-images-idx3-ubyte.gz\n"
          ],
          "name": "stdout"
        },
        {
          "output_type": "display_data",
          "data": {
            "application/vnd.jupyter.widget-view+json": {
              "model_id": "63884572a09849308736d3cfd4763a78",
              "version_major": 2,
              "version_minor": 0
            },
            "text/plain": [
              "HBox(children=(FloatProgress(value=1.0, bar_style='info', max=1.0), HTML(value='')))"
            ]
          },
          "metadata": {
            "tags": []
          }
        },
        {
          "output_type": "stream",
          "text": [
            "Extracting ./data/MNIST/raw/train-images-idx3-ubyte.gz to ./data/MNIST/raw\n",
            "Downloading http://yann.lecun.com/exdb/mnist/train-labels-idx1-ubyte.gz to ./data/MNIST/raw/train-labels-idx1-ubyte.gz\n"
          ],
          "name": "stdout"
        },
        {
          "output_type": "display_data",
          "data": {
            "application/vnd.jupyter.widget-view+json": {
              "model_id": "8c2ce2d4cfc74bee917cca33b7f4c7cc",
              "version_major": 2,
              "version_minor": 0
            },
            "text/plain": [
              "HBox(children=(FloatProgress(value=1.0, bar_style='info', max=1.0), HTML(value='')))"
            ]
          },
          "metadata": {
            "tags": []
          }
        },
        {
          "output_type": "stream",
          "text": [
            "Extracting ./data/MNIST/raw/train-labels-idx1-ubyte.gz to ./data/MNIST/raw\n",
            "Downloading http://yann.lecun.com/exdb/mnist/t10k-images-idx3-ubyte.gz to ./data/MNIST/raw/t10k-images-idx3-ubyte.gz\n",
            "\n",
            "\n"
          ],
          "name": "stdout"
        },
        {
          "output_type": "display_data",
          "data": {
            "application/vnd.jupyter.widget-view+json": {
              "model_id": "a62dc678fccb438d802ae49401e96e15",
              "version_major": 2,
              "version_minor": 0
            },
            "text/plain": [
              "HBox(children=(FloatProgress(value=1.0, bar_style='info', max=1.0), HTML(value='')))"
            ]
          },
          "metadata": {
            "tags": []
          }
        },
        {
          "output_type": "stream",
          "text": [
            "Extracting ./data/MNIST/raw/t10k-images-idx3-ubyte.gz to ./data/MNIST/raw\n",
            "Downloading http://yann.lecun.com/exdb/mnist/t10k-labels-idx1-ubyte.gz to ./data/MNIST/raw/t10k-labels-idx1-ubyte.gz\n"
          ],
          "name": "stdout"
        },
        {
          "output_type": "display_data",
          "data": {
            "application/vnd.jupyter.widget-view+json": {
              "model_id": "1ea9f5392d51437880c0985ce2c66d22",
              "version_major": 2,
              "version_minor": 0
            },
            "text/plain": [
              "HBox(children=(FloatProgress(value=1.0, bar_style='info', max=1.0), HTML(value='')))"
            ]
          },
          "metadata": {
            "tags": []
          }
        },
        {
          "output_type": "stream",
          "text": [
            "Extracting ./data/MNIST/raw/t10k-labels-idx1-ubyte.gz to ./data/MNIST/raw\n",
            "Processing...\n",
            "Done!\n"
          ],
          "name": "stdout"
        },
        {
          "output_type": "stream",
          "text": [
            "/usr/local/lib/python3.6/dist-packages/torchvision/datasets/mnist.py:480: UserWarning: The given NumPy array is not writeable, and PyTorch does not support non-writeable tensors. This means you can write to the underlying (supposedly non-writeable) NumPy array using the tensor. You may want to copy the array to protect its data or make it writeable before converting it to a tensor. This type of warning will be suppressed for the rest of this program. (Triggered internally at  /pytorch/torch/csrc/utils/tensor_numpy.cpp:141.)\n",
            "  return torch.from_numpy(parsed.astype(m[2], copy=False)).view(*s)\n"
          ],
          "name": "stderr"
        }
      ]
    },
    {
      "cell_type": "code",
      "metadata": {
        "id": "Ols0HivADS6a"
      },
      "source": [
        "X = train_set.data.numpy()\n",
        "X_test = test_set.data.numpy()\n",
        "Y = train_set.targets.numpy()\n",
        "Y_test = test_set.targets.numpy()\n",
        "X = X[:,None,:,:]/255\n",
        "X_test = X_test[:,None,:,:]/255\n",
        "X = (X - 0.5)/0.5\n",
        "X_test = (X_test - 0.5)/0.5"
      ],
      "execution_count": null,
      "outputs": []
    },
    {
      "cell_type": "code",
      "metadata": {
        "colab": {
          "base_uri": "https://localhost:8080/"
        },
        "id": "oTo8Ij_dtvnm",
        "outputId": "78028eea-27aa-447d-b69b-1cad5a7801d7"
      },
      "source": [
        "X.shape,Y.shape,X_test.shape,Y_test.shape"
      ],
      "execution_count": null,
      "outputs": [
        {
          "output_type": "stream",
          "text": [
            "\n"
          ],
          "name": "stdout"
        },
        {
          "output_type": "execute_result",
          "data": {
            "text/plain": [
              "((60000, 1, 28, 28), (60000,), (10000, 1, 28, 28), (10000,))"
            ]
          },
          "metadata": {
            "tags": []
          },
          "execution_count": 9
        }
      ]
    },
    {
      "cell_type": "code",
      "metadata": {
        "id": "_DGyggx0uCzr"
      },
      "source": [
        "###################################################"
      ],
      "execution_count": null,
      "outputs": []
    },
    {
      "cell_type": "code",
      "metadata": {
        "id": "vtt2uLdjovJE"
      },
      "source": [
        "def GPU(data):\n",
        "    return torch.tensor(data, requires_grad=True, dtype=torch.float, device=torch.device('cuda'))\n",
        "\n",
        "def GPU_data(data):\n",
        "    return torch.tensor(data, requires_grad=False, dtype=torch.float, device=torch.device('cuda'))"
      ],
      "execution_count": null,
      "outputs": []
    },
    {
      "cell_type": "code",
      "metadata": {
        "id": "x4ApdHEb01db"
      },
      "source": [
        "X = GPU_data(X)\n",
        "X_test = GPU_data(X_test)\n",
        "\n",
        "Y = GPU_data(Y)\n",
        "Y_test = GPU_data(Y_test)"
      ],
      "execution_count": null,
      "outputs": []
    },
    {
      "cell_type": "code",
      "metadata": {
        "id": "GqstCGkoR7JH"
      },
      "source": [
        "X = torch.squeeze(X)\n",
        "X_test = torch.squeeze(X_test)"
      ],
      "execution_count": null,
      "outputs": []
    },
    {
      "cell_type": "code",
      "metadata": {
        "id": "ERlfYhPI01db"
      },
      "source": [
        "def get_batch(mode):\n",
        "    b = bs\n",
        "    if mode == \"train\":\n",
        "        r = np.random.randint(X.shape[0]-b) \n",
        "        x = X[r:r+b,:,:]\n",
        "        y = Y[r:r+b]\n",
        "    elif mode == \"test\":\n",
        "        r = np.random.randint(X_test.shape[0]-b)\n",
        "        x = X_test[r:r+b,:,:]\n",
        "        y = Y_test[r:r+b]\n",
        "    return x,y"
      ],
      "execution_count": null,
      "outputs": []
    },
    {
      "cell_type": "code",
      "metadata": {
        "id": "vqwzLHF_2r0D"
      },
      "source": [
        "x,y = get_batch('train')"
      ],
      "execution_count": null,
      "outputs": []
    },
    {
      "cell_type": "code",
      "metadata": {
        "colab": {
          "base_uri": "https://localhost:8080/",
          "height": 575
        },
        "id": "ew1gQXkw3AQ8",
        "outputId": "d1e50751-1fad-4252-ce69-3ff801ead2ad"
      },
      "source": [
        "montage_plot(x[0:25,:,:].detach().cpu().numpy())"
      ],
      "execution_count": null,
      "outputs": [
        {
          "output_type": "display_data",
          "data": {
            "image/png": "[encoded data removed]",
            "text/plain": [
              "<Figure size 720x720 with 1 Axes>"
            ]
          },
          "metadata": {
            "tags": []
          }
        }
      ]
    },
    {
      "cell_type": "code",
      "metadata": {
        "id": "UppuTXEJQGyM"
      },
      "source": [
        "x,y = get_batch('train')"
      ],
      "execution_count": null,
      "outputs": []
    },
    {
      "cell_type": "code",
      "metadata": {
        "id": "m4BlYG-CgC2z"
      },
      "source": [
        "def softmax(x):\n",
        "    s1 = torch.exp(x - torch.max(x,1)[0][:,None])\n",
        "    s = s1 / s1.sum(1)[:,None]\n",
        "    return s"
      ],
      "execution_count": null,
      "outputs": []
    },
    {
      "cell_type": "code",
      "metadata": {
        "id": "XZ-UV8W_c_9o"
      },
      "source": [
        "def cross_entropy(outputs, labels):            \n",
        "    return -torch.sum(softmax(outputs).log()[range(outputs.size()[0]), labels.long()])/outputs.size()[0]  "
      ],
      "execution_count": null,
      "outputs": []
    },
    {
      "cell_type": "code",
      "metadata": {
        "id": "wtL1kZcZICVP"
      },
      "source": [
        "def randn_trunc(s): #Truncated Normal Random Numbers\n",
        "    mu = 0 \n",
        "    sigma = 0.1\n",
        "    R = stats.truncnorm((-2*sigma - mu) / sigma, (2*sigma - mu) / sigma, loc=mu, scale=sigma)\n",
        "    return R.rvs(s)"
      ],
      "execution_count": null,
      "outputs": []
    },
    {
      "cell_type": "code",
      "metadata": {
        "id": "LW3ttVcq1sI9"
      },
      "source": [
        "def acc(out,y):\n",
        "    with torch.no_grad():\n",
        "        return (torch.sum(torch.max(out,1)[1] == y).item())/y.shape[0]"
      ],
      "execution_count": null,
      "outputs": []
    },
    {
      "cell_type": "code",
      "metadata": {
        "id": "-k6j0lacnYYk"
      },
      "source": [
        "def gradient_step(w):\n",
        "\n",
        "    for j in range(len(w)): \n",
        "\n",
        "            w[j].data = w[j].data - c.h*w[j].grad.data\n",
        "            \n",
        "            w[j].grad.data.zero_()"
      ],
      "execution_count": null,
      "outputs": []
    },
    {
      "cell_type": "code",
      "metadata": {
        "id": "uzRsuDek9Fve"
      },
      "source": [
        "def make_plots():\n",
        "    \n",
        "    acc_train = acc(model(x),y)\n",
        "    \n",
        "    xt,yt = get_batch('test')\n",
        "\n",
        "    acc_test = acc(model(xt),yt)\n",
        "\n",
        "    wb.log({\"acc_train\": acc_train, \"acc_test\": acc_test})"
      ],
      "execution_count": null,
      "outputs": []
    },
    {
      "cell_type": "code",
      "metadata": {
        "colab": {
          "base_uri": "https://localhost:8080/"
        },
        "id": "v_GlM6L0AkDb",
        "outputId": "7fad82ef-1ba1-4f46-efcf-80ce0f550ed5"
      },
      "source": [
        "X = GPU_data(X)\n",
        "Y = GPU_data(Y)\n",
        "X_test = GPU_data(X_test)\n",
        "Y_test = GPU_data(Y_test)"
      ],
      "execution_count": null,
      "outputs": [
        {
          "output_type": "stream",
          "text": [
            "/usr/local/lib/python3.6/dist-packages/ipykernel_launcher.py:5: UserWarning: To copy construct from a tensor, it is recommended to use sourceTensor.clone().detach() or sourceTensor.clone().detach().requires_grad_(True), rather than torch.tensor(sourceTensor).\n",
            "  \"\"\"\n"
          ],
          "name": "stderr"
        }
      ]
    },
    {
      "cell_type": "code",
      "metadata": {
        "id": "N0gfWb2R3tyh"
      },
      "source": [
        "def relu(x):\n",
        "    return x * (x > 0)"
      ],
      "execution_count": null,
      "outputs": []
    },
    {
      "cell_type": "code",
      "metadata": {
        "colab": {
          "base_uri": "https://localhost:8080/",
          "height": 523
        },
        "id": "gCnS8_ldqz9S",
        "outputId": "e1b80a55-2ffd-4cbd-8dcb-936ec9f3a064"
      },
      "source": [
        "%%html\n",
        "<div class=\"mxgraph\" style=\"max-width:100%;border:1px solid transparent;\" data-mxgraph=\"{&quot;highlight&quot;:&quot;#0000ff&quot;,&quot;nav&quot;:true,&quot;resize&quot;:true,&quot;toolbar&quot;:&quot;zoom layers lightbox&quot;,&quot;edit&quot;:&quot;_blank&quot;,&quot;xml&quot;:&quot;&lt;mxfile host=\\&quot;app.diagrams.net\\&quot; modified=\\&quot;2021-01-22T06:01:08.798Z\\&quot; agent=\\&quot;5.0 (X11)\\&quot; etag=\\&quot;W73EOSnNVc62GM2_w6yO\\&quot; version=\\&quot;14.2.6\\&quot; type=\\&quot;device\\&quot;&gt;&lt;diagram id=\\&quot;144d3d8f-15dc-1554-6705-1ed6627c971d\\&quot; name=\\&quot;Page-1\\&quot;&gt;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&lt;/diagram&gt;&lt;/mxfile&gt;&quot;}\"></div>\n",
        "<script type=\"text/javascript\" src=\"https://viewer.diagrams.net/js/viewer-static.min.js\"></script>"
      ],
      "execution_count": null,
      "outputs": [
        {
          "output_type": "display_data",
          "data": {
            "text/html": [
              "<div class=\"mxgraph\" style=\"max-width:100%;border:1px solid transparent;\" data-mxgraph=\"{&quot;highlight&quot;:&quot;#0000ff&quot;,&quot;nav&quot;:true,&quot;resize&quot;:true,&quot;toolbar&quot;:&quot;zoom layers lightbox&quot;,&quot;edit&quot;:&quot;_blank&quot;,&quot;xml&quot;:&quot;&lt;mxfile host=\\&quot;app.diagrams.net\\&quot; modified=\\&quot;2021-01-22T06:01:08.798Z\\&quot; agent=\\&quot;5.0 (X11)\\&quot; etag=\\&quot;W73EOSnNVc62GM2_w6yO\\&quot; version=\\&quot;14.2.6\\&quot; type=\\&quot;device\\&quot;&gt;&lt;diagram id=\\&quot;144d3d8f-15dc-1554-6705-1ed6627c971d\\&quot; name=\\&quot;Page-1\\&quot;&gt;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&lt;/diagram&gt;&lt;/mxfile&gt;&quot;}\"></div>\n",
              "<script type=\"text/javascript\" src=\"https://viewer.diagrams.net/js/viewer-static.min.js\"></script>"
            ],
            "text/plain": [
              "<IPython.core.display.HTML object>"
            ]
          },
          "metadata": {
            "tags": []
          }
        }
      ]
    },
    {
      "cell_type": "code",
      "metadata": {
        "id": "TPIRag4DtVv6"
      },
      "source": [
        "def LSTM(x, h_t, c_t):\n",
        "\n",
        "    bs, seq_sz, _ = x.size()\n",
        "\n",
        "    hidden_seq = torch.zeros((bs,seq_sz,hidden_sz)).cuda()\n",
        "\n",
        "    for t in range(seq_sz):\n",
        "\n",
        "        x_t = x[:, t, :]\n",
        "\n",
        "        i_t = torch.sigmoid(x_t @ w[0] + h_t @ w[1]  + w[2])\n",
        "        f_t = torch.sigmoid(x_t @ w[3] + h_t @ w[4]  + w[5])\n",
        "        g_t =    torch.tanh(x_t @ w[6] + h_t @ w[7]  + w[8])\n",
        "        o_t = torch.sigmoid(x_t @ w[9] + h_t @ w[10] + w[11])\n",
        "        \n",
        "        c_t = f_t * c_t + i_t * g_t\n",
        "        h_t = o_t * torch.tanh(c_t)\n",
        "\n",
        "        hidden_seq[:,t,:] = h_t.unsqueeze(0)\n",
        "\n",
        "    return hidden_seq, h_t, c_t   "
      ],
      "execution_count": null,
      "outputs": []
    },
    {
      "cell_type": "code",
      "metadata": {
        "id": "a7NzW3__Pt01"
      },
      "source": [
        "def model(x):\n",
        "\n",
        "    out,h,c  = LSTM(x,h_t,c_t)\n",
        "    # out,h,c  = LSTM(x,h,c)\n",
        "    out = out[:, -1, :]\n",
        "    out = relu(matmul(out,w[12]))\n",
        "\n",
        "    return out"
      ],
      "execution_count": null,
      "outputs": []
    },
    {
      "cell_type": "code",
      "metadata": {
        "colab": {
          "background_save": true,
          "base_uri": "https://localhost:8080/",
          "height": 367,
          "referenced_widgets": [
            "1a2353a761f94477918132a0ec782afe",
            "a270a28c684c49e39b1ce6f8be3dbc55",
            "656a02617b38418e835736b3e8af3a24",
            "40dd597aa5f14fa58513c036c261c43c",
            "a48ff0fe70a44270952b542689559e9a",
            "0ec6602b57d3424d8c31c031a10382c1",
            "66565c39ddd8455eb8ea97e225a4945e",
            "f8573b98a0eb498591ab6b99f740930f"
          ]
        },
        "id": "Ed8rNtwBPt3r",
        "outputId": "2877fbd4-e0fa-4b20-9d39-7b971b56df23"
      },
      "source": [
        "wb.init(project=\"Simple LSTM\");\n",
        "c = wb.config\n",
        "\n",
        "c.h = 0.001\n",
        "c.epochs = 5000\n",
        "bs = 256\n",
        "\n",
        "sequence_length = 28\n",
        "input_sz = 28\n",
        "hidden_sz = 128\n",
        "\n",
        "U_i = GPU(randn_trunc((input_sz, hidden_sz)))\n",
        "V_i = GPU(randn_trunc((hidden_sz, hidden_sz)))\n",
        "b_i = GPU(randn_trunc((hidden_sz)))\n",
        "\n",
        "U_f = GPU(randn_trunc((input_sz, hidden_sz)))\n",
        "V_f = GPU(randn_trunc((hidden_sz, hidden_sz)))\n",
        "b_f = GPU(randn_trunc((hidden_sz)))\n",
        "\n",
        "U_c = GPU(randn_trunc((input_sz, hidden_sz)))\n",
        "V_c = GPU(randn_trunc((hidden_sz, hidden_sz)))\n",
        "b_c = GPU(randn_trunc((hidden_sz)))\n",
        "\n",
        "U_o = GPU(randn_trunc((input_sz, hidden_sz)))\n",
        "V_o = GPU(randn_trunc((hidden_sz, hidden_sz)))\n",
        "b_o = GPU(randn_trunc((hidden_sz)))\n",
        "\n",
        "h_t = GPU(torch.zeros(bs, hidden_sz))\n",
        "c_t = GPU(torch.zeros(bs, hidden_sz))\n",
        "\n",
        "w_fc = GPU(randn_trunc((hidden_sz, 10)))\n",
        "\n",
        "w = [U_i,V_i,b_i, U_f,V_f,b_f, U_c,V_c,b_c, U_o,V_o,b_o, w_fc]\n",
        "\n",
        "optimizer = torch.optim.Adam(w, lr=c.h)  \n",
        "\n",
        "for i in range(c.epochs):\n",
        "\n",
        "    x,y = get_batch('train')\n",
        "\n",
        "    loss = cross_entropy(softmax(model(x)),y)\n",
        "\n",
        "    optimizer.zero_grad()\n",
        "    loss.backward()\n",
        "    optimizer.step()\n",
        "   \n",
        "    if (i+1) % 1 == 0:\n",
        "\n",
        "        make_plots()"
      ],
      "execution_count": null,
      "outputs": [
        {
          "output_type": "display_data",
          "data": {
            "text/html": [
              "Finishing last run (ID:2ag4lcp9) before initializing another..."
            ],
            "text/plain": [
              "<IPython.core.display.HTML object>"
            ]
          },
          "metadata": {
            "tags": []
          }
        },
        {
          "output_type": "display_data",
          "data": {
            "text/html": [
              "<br/>Waiting for W&B process to finish, PID 180<br/>Program ended successfully."
            ],
            "text/plain": [
              "<IPython.core.display.HTML object>"
            ]
          },
          "metadata": {
            "tags": []
          }
        },
        {
          "output_type": "display_data",
          "data": {
            "application/vnd.jupyter.widget-view+json": {
              "model_id": "1a2353a761f94477918132a0ec782afe",
              "version_major": 2,
              "version_minor": 0
            },
            "text/plain": [
              "VBox(children=(Label(value=' 0.00MB of 0.00MB uploaded (0.00MB deduped)\\r'), FloatProgress(value=1.0, max=1.0)…"
            ]
          },
          "metadata": {
            "tags": []
          }
        },
        {
          "output_type": "display_data",
          "data": {
            "text/html": [
              "Find user logs for this run at: <code>/content/wandb/run-20210122_070652-2ag4lcp9/logs/debug.log</code>"
            ],
            "text/plain": [
              "<IPython.core.display.HTML object>"
            ]
          },
          "metadata": {
            "tags": []
          }
        },
        {
          "output_type": "display_data",
          "data": {
            "text/html": [
              "Find internal logs for this run at: <code>/content/wandb/run-20210122_070652-2ag4lcp9/logs/debug-internal.log</code>"
            ],
            "text/plain": [
              "<IPython.core.display.HTML object>"
            ]
          },
          "metadata": {
            "tags": []
          }
        },
        {
          "output_type": "display_data",
          "data": {
            "text/html": [
              "Synced 5 W&B file(s), 0 media file(s), 0 artifact file(s) and 0 other file(s)"
            ],
            "text/plain": [
              "<IPython.core.display.HTML object>"
            ]
          },
          "metadata": {
            "tags": []
          }
        },
        {
          "output_type": "display_data",
          "data": {
            "text/html": [
              "\n",
              "                    <br/>Synced <strong style=\"color:#cdcd00\">ethereal-forest-21</strong>: <a href=\"https://wandb.ai/williamedwardhahn/Simple%20LSTM/runs/2ag4lcp9\" target=\"_blank\">https://wandb.ai/williamedwardhahn/Simple%20LSTM/runs/2ag4lcp9</a><br/>\n",
              "                "
            ],
            "text/plain": [
              "<IPython.core.display.HTML object>"
            ]
          },
          "metadata": {
            "tags": []
          }
        },
        {
          "output_type": "display_data",
          "data": {
            "text/html": [
              "...Successfully finished last run (ID:2ag4lcp9). Initializing new run:<br/><br/>"
            ],
            "text/plain": [
              "<IPython.core.display.HTML object>"
            ]
          },
          "metadata": {
            "tags": []
          }
        },
        {
          "output_type": "display_data",
          "data": {
            "text/html": [
              "\n",
              "                Tracking run with wandb version 0.10.14<br/>\n",
              "                Syncing run <strong style=\"color:#cdcd00\">exalted-brook-22</strong> to <a href=\"https://wandb.ai\" target=\"_blank\">Weights & Biases</a> <a href=\"https://docs.wandb.com/integrations/jupyter.html\" target=\"_blank\">(Documentation)</a>.<br/>\n",
              "                Project page: <a href=\"https://wandb.ai/williamedwardhahn/Simple%20LSTM\" target=\"_blank\">https://wandb.ai/williamedwardhahn/Simple%20LSTM</a><br/>\n",
              "                Run page: <a href=\"https://wandb.ai/williamedwardhahn/Simple%20LSTM/runs/1683dn2f\" target=\"_blank\">https://wandb.ai/williamedwardhahn/Simple%20LSTM/runs/1683dn2f</a><br/>\n",
              "                Run data is saved locally in <code>/content/wandb/run-20210122_070721-1683dn2f</code><br/><br/>\n",
              "            "
            ],
            "text/plain": [
              "<IPython.core.display.HTML object>"
            ]
          },
          "metadata": {
            "tags": []
          }
        },
        {
          "output_type": "stream",
          "text": [
            "/usr/local/lib/python3.6/dist-packages/ipykernel_launcher.py:2: UserWarning: To copy construct from a tensor, it is recommended to use sourceTensor.clone().detach() or sourceTensor.clone().detach().requires_grad_(True), rather than torch.tensor(sourceTensor).\n",
            "  \n"
          ],
          "name": "stderr"
        }
      ]
    },
    {
      "cell_type": "code",
      "metadata": {
        "id": "buxSJx0OnW7o"
      },
      "source": [
        ""
      ],
      "execution_count": null,
      "outputs": []
    },
    {
      "cell_type": "code",
      "metadata": {
        "id": "FjTl13JJnXMq"
      },
      "source": [
        ""
      ],
      "execution_count": null,
      "outputs": []
    },
    {
      "cell_type": "code",
      "metadata": {
        "id": "wGrCj_r9nXO4"
      },
      "source": [
        ""
      ],
      "execution_count": null,
      "outputs": []
    }
  ]
}