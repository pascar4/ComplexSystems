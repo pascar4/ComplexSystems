{
  "nbformat": 4,
  "nbformat_minor": 0,
  "metadata": {
    "colab": {
      "name": "Complex Systems Lab Dual Numbers Linear Fit",
      "provenance": [],
      "collapsed_sections": [],
      "include_colab_link": true
    },
    "kernelspec": {
      "name": "python3",
      "display_name": "Python 3"
    }
  },
  "cells": [
    {
      "cell_type": "markdown",
      "metadata": {
        "id": "view-in-github",
        "colab_type": "text"
      },
      "source": [
        "<a href=\"https://colab.research.google.com/github/williamedwardhahn/ComplexSystems/blob/main/Complex_Systems_Lab_Dual_Numbers_Linear_Fit.ipynb\" target=\"_parent\"><img src=\"https://colab.research.google.com/assets/colab-badge.svg\" alt=\"Open In Colab\"/></a>"
      ]
    },
    {
      "cell_type": "markdown",
      "metadata": {
        "id": "YM-munpfv2Ht"
      },
      "source": [
        "![alt text](https://cdn-images-1.medium.com/max/1600/1*IjxpxWcKX8EJUVFBNFeKdA.gif)"
      ]
    },
    {
      "cell_type": "markdown",
      "metadata": {
        "id": "16hMRsZoWtrZ"
      },
      "source": [
        "![alt text](https://cdn-images-1.medium.com/max/1600/1*pwPIG-GWHyaPVMVGG5OhAQ.gif)"
      ]
    },
    {
      "cell_type": "markdown",
      "metadata": {
        "id": "C6BB9Dh3wS1x"
      },
      "source": [
        "[Interactive Least Squares](http://setosa.io/ev/ordinary-least-squares-regression/)"
      ]
    },
    {
      "cell_type": "markdown",
      "metadata": {
        "id": "lVBidg-Cy-j0"
      },
      "source": [
        "[Linear Fit](http://mathlets.org/mathlets/linear-regression/)"
      ]
    },
    {
      "cell_type": "code",
      "metadata": {
        "id": "k77xaJfA-epq"
      },
      "source": [
        "%matplotlib inline\n",
        "from IPython.display import HTML\n",
        "from numpy import *\n",
        "import matplotlib.pyplot as plt\n",
        "from numpy import arange,array,ones\n",
        "from scipy import stats\n",
        "import numpy as np\n",
        "import time\n"
      ],
      "execution_count": 1,
      "outputs": []
    },
    {
      "cell_type": "markdown",
      "metadata": {
        "id": "CsZwpymzvgXr"
      },
      "source": [
        "##Linear Fit Using Scipy Stats Package"
      ]
    },
    {
      "cell_type": "code",
      "metadata": {
        "id": "Ol96ijwMvgXs"
      },
      "source": [
        "x = arange(0,9)"
      ],
      "execution_count": 2,
      "outputs": []
    },
    {
      "cell_type": "code",
      "metadata": {
        "id": "oVxOZLr5vgXt",
        "colab": {
          "base_uri": "https://localhost:8080/"
        },
        "outputId": "4fbab21b-ee65-4380-db46-684f58dca423"
      },
      "source": [
        "x"
      ],
      "execution_count": 3,
      "outputs": [
        {
          "output_type": "execute_result",
          "data": {
            "text/plain": [
              "array([0, 1, 2, 3, 4, 5, 6, 7, 8])"
            ]
          },
          "metadata": {
            "tags": []
          },
          "execution_count": 3
        }
      ]
    },
    {
      "cell_type": "code",
      "metadata": {
        "id": "ve0mqC1VvgXv"
      },
      "source": [
        "y = [19, 20, 20.5, 21.5, 22, 23, 23, 25.5, 24]"
      ],
      "execution_count": 4,
      "outputs": []
    },
    {
      "cell_type": "code",
      "metadata": {
        "id": "GSb1P9I6vgXw",
        "colab": {
          "base_uri": "https://localhost:8080/",
          "height": 282
        },
        "outputId": "683f943c-b00c-4064-c063-af700f67d10f"
      },
      "source": [
        "plt.plot(x,y,'.')"
      ],
      "execution_count": 5,
      "outputs": [
        {
          "output_type": "execute_result",
          "data": {
            "text/plain": [
              "[<matplotlib.lines.Line2D at 0x7fab502a5208>]"
            ]
          },
          "metadata": {
            "tags": []
          },
          "execution_count": 5
        },
        {
          "output_type": "display_data",
          "data": {
            "image/png": "[encoded data removed]",
            "text/plain": [
              "<Figure size 432x288 with 1 Axes>"
            ]
          },
          "metadata": {
            "tags": [],
            "needs_background": "light"
          }
        }
      ]
    },
    {
      "cell_type": "code",
      "metadata": {
        "id": "gHe7tss_vgXx"
      },
      "source": [
        "# Generated linear fit using builtin function as ground truth for testing\n",
        "slope, intercept = stats.linregress(x,y)[0:2]"
      ],
      "execution_count": 6,
      "outputs": []
    },
    {
      "cell_type": "code",
      "metadata": {
        "id": "RtYSj_5gvgX0",
        "colab": {
          "base_uri": "https://localhost:8080/"
        },
        "outputId": "f6156fa0-6eed-48cc-bd48-1d29330fe0df"
      },
      "source": [
        "slope"
      ],
      "execution_count": 7,
      "outputs": [
        {
          "output_type": "execute_result",
          "data": {
            "text/plain": [
              "0.7166666666666667"
            ]
          },
          "metadata": {
            "tags": []
          },
          "execution_count": 7
        }
      ]
    },
    {
      "cell_type": "code",
      "metadata": {
        "id": "odTZ0eKnvgX4",
        "colab": {
          "base_uri": "https://localhost:8080/"
        },
        "outputId": "736da93c-ad43-472e-d29a-911dd312488e"
      },
      "source": [
        "intercept"
      ],
      "execution_count": 8,
      "outputs": [
        {
          "output_type": "execute_result",
          "data": {
            "text/plain": [
              "19.18888888888889"
            ]
          },
          "metadata": {
            "tags": []
          },
          "execution_count": 8
        }
      ]
    },
    {
      "cell_type": "code",
      "metadata": {
        "id": "E1GAZ6BPvgX6"
      },
      "source": [
        "# y = mx + b\n",
        "line = slope*x + intercept"
      ],
      "execution_count": 9,
      "outputs": []
    },
    {
      "cell_type": "code",
      "metadata": {
        "id": "Q5wZ2bgovgX7",
        "colab": {
          "base_uri": "https://localhost:8080/",
          "height": 300
        },
        "outputId": "ce5583fd-b3d4-40d6-d9f6-62ab5aefeb57"
      },
      "source": [
        "plt.plot(x,y,'o', x, line)"
      ],
      "execution_count": 10,
      "outputs": [
        {
          "output_type": "execute_result",
          "data": {
            "text/plain": [
              "[<matplotlib.lines.Line2D at 0x7fab4fd88710>,\n",
              " <matplotlib.lines.Line2D at 0x7fab4fd887f0>]"
            ]
          },
          "metadata": {
            "tags": []
          },
          "execution_count": 10
        },
        {
          "output_type": "display_data",
          "data": {
            "image/png": "[encoded data removed]",
            "text/plain": [
              "<Figure size 432x288 with 1 Axes>"
            ]
          },
          "metadata": {
            "tags": [],
            "needs_background": "light"
          }
        }
      ]
    },
    {
      "cell_type": "markdown",
      "metadata": {
        "id": "Wf7Ac_JEGYKC"
      },
      "source": [
        "#Matrix Dual Numbers"
      ]
    },
    {
      "cell_type": "code",
      "metadata": {
        "id": "OUP9hiPIdbhp"
      },
      "source": [
        "import numpy as np\n",
        "from numpy.linalg import matrix_power"
      ],
      "execution_count": 11,
      "outputs": []
    },
    {
      "cell_type": "markdown",
      "metadata": {
        "id": "09s3l8AJGiDt"
      },
      "source": [
        "$x=\n",
        "  \\begin{bmatrix}\n",
        "    x & 1  \\\\\n",
        "    0 & x \n",
        "  \\end{bmatrix} $ Dual Matrix: used when differentiating with respect to $x$"
      ]
    },
    {
      "cell_type": "markdown",
      "metadata": {
        "id": "rTdg7FZtG9VD"
      },
      "source": [
        "$x=\n",
        "  \\begin{bmatrix}\n",
        "    x & 0  \\\\\n",
        "    0 & x \n",
        "  \\end{bmatrix} $ Real Matrix: used when treating $x$ as a constant"
      ]
    },
    {
      "cell_type": "code",
      "metadata": {
        "id": "DjAqK7ZjeNOz"
      },
      "source": [
        ""
      ],
      "execution_count": 11,
      "outputs": []
    },
    {
      "cell_type": "code",
      "metadata": {
        "id": "qdznk6jffJDK"
      },
      "source": [
        ""
      ],
      "execution_count": 11,
      "outputs": []
    },
    {
      "cell_type": "code",
      "metadata": {
        "id": "fAEorzbvc1Vk"
      },
      "source": [
        ""
      ],
      "execution_count": 11,
      "outputs": []
    },
    {
      "cell_type": "markdown",
      "metadata": {
        "id": "y4ookl6Kc57U"
      },
      "source": [
        "A dual number is a number $a+b\\epsilon$, where $a,b\\in\\mathbb{R}$ and $\\epsilon$ is a matrix with the property that $\\epsilon^2=0$"
      ]
    },
    {
      "cell_type": "markdown",
      "metadata": {
        "id": "blz4oAMgddrz"
      },
      "source": [
        "$\\epsilon=\\begin{bmatrix}\n",
        "    0 & 1  \\\\\n",
        "    0 & 0 \n",
        "  \\end{bmatrix}$"
      ]
    },
    {
      "cell_type": "markdown",
      "metadata": {
        "id": "qlCqBqRvd6vh"
      },
      "source": [
        "$d=\\begin{bmatrix}\n",
        "    x & 1  \\\\\n",
        "    0 & x \n",
        "  \\end{bmatrix}$"
      ]
    },
    {
      "cell_type": "markdown",
      "metadata": {
        "id": "QC2sOOyAeTCj"
      },
      "source": [
        "$d^2 = \\begin{bmatrix}\n",
        "    x & 1  \\\\\n",
        "    0 & x \n",
        "  \\end{bmatrix}*\\begin{bmatrix}\n",
        "    x & 1  \\\\\n",
        "    0 & x \n",
        "  \\end{bmatrix}=\\begin{bmatrix}\n",
        "    x^2 & 2x  \\\\\n",
        "    0 & x^2 \n",
        "  \\end{bmatrix}$"
      ]
    },
    {
      "cell_type": "markdown",
      "metadata": {
        "id": "uck8-rVSeDWu"
      },
      "source": [
        "$\\begin{bmatrix}\n",
        "    0 & 1  \\\\\n",
        "    0 & 0 \n",
        "  \\end{bmatrix}*\\begin{bmatrix}\n",
        "    0 & 1  \\\\\n",
        "    0 & 0 \n",
        "  \\end{bmatrix}=\\begin{bmatrix}\n",
        "    0 & 0  \\\\\n",
        "    0 & 0 \n",
        "  \\end{bmatrix}$"
      ]
    },
    {
      "cell_type": "markdown",
      "metadata": {
        "id": "9lirhM0bczrO"
      },
      "source": [
        "$\\epsilon^2 = 0$"
      ]
    },
    {
      "cell_type": "markdown",
      "metadata": {
        "id": "L6AOqZQPZI63"
      },
      "source": [
        "$\\begin{equation}\n",
        "f(x) = \\sum_{n=0}^{\\infty} \\frac{f^{(n)}(a)}{n!}(x-a)\n",
        "\\end{equation}$"
      ]
    },
    {
      "cell_type": "markdown",
      "metadata": {
        "id": "4uV2gumRaKHM"
      },
      "source": [
        "$\\begin{equation}\n",
        "f(a+b\\epsilon) = \\sum_{n=0}^{\\infty} \\frac{f^{(n)}(a)b^n\\epsilon^n}{n!} = f(a) + bf^\\prime(a)\\epsilon\n",
        "\\end{equation}$"
      ]
    },
    {
      "cell_type": "code",
      "metadata": {
        "id": "huOydQuiG85C"
      },
      "source": [
        ""
      ],
      "execution_count": 11,
      "outputs": []
    },
    {
      "cell_type": "code",
      "metadata": {
        "id": "2s98pM1FeF-y"
      },
      "source": [
        "def dualmat(x): # already converted to matrix version\n",
        "  \n",
        "  x = np.asarray(x)  \n",
        "  \n",
        "  return np.array([[x,np.zeros(x.shape)],[np.ones(x.shape),x]])"
      ],
      "execution_count": 12,
      "outputs": []
    },
    {
      "cell_type": "code",
      "metadata": {
        "id": "mXvzJ7-teF-2"
      },
      "source": [
        "def realmat(x): # already converted to matrix version\n",
        "  \n",
        "  x = np.asarray(x)\n",
        "  \n",
        "  return np.array([[x,np.zeros(x.shape)],[np.zeros(x.shape),x]])"
      ],
      "execution_count": 13,
      "outputs": []
    },
    {
      "cell_type": "code",
      "metadata": {
        "id": "Hi3-RydAdhT4"
      },
      "source": [
        "m = 0.5\n",
        "b = 15\n",
        "\n",
        "M = dualmat(m)\n",
        "B = dualmat(b)\n",
        "\n",
        "m = realmat(m)\n",
        "b = realmat(b)"
      ],
      "execution_count": 14,
      "outputs": []
    },
    {
      "cell_type": "code",
      "metadata": {
        "id": "zqxEfQus-igy",
        "colab": {
          "base_uri": "https://localhost:8080/"
        },
        "outputId": "f96b9d2a-7945-4019-df8f-06708620063d"
      },
      "source": [
        "M"
      ],
      "execution_count": 15,
      "outputs": [
        {
          "output_type": "execute_result",
          "data": {
            "text/plain": [
              "array([[0.5, 0. ],\n",
              "       [1. , 0.5]])"
            ]
          },
          "metadata": {
            "tags": []
          },
          "execution_count": 15
        }
      ]
    },
    {
      "cell_type": "code",
      "metadata": {
        "id": "Iovo45HW-ivI",
        "colab": {
          "base_uri": "https://localhost:8080/"
        },
        "outputId": "ba7a060c-4cac-41e2-a8ed-2365745156b1"
      },
      "source": [
        "m"
      ],
      "execution_count": 16,
      "outputs": [
        {
          "output_type": "execute_result",
          "data": {
            "text/plain": [
              "array([[0.5, 0. ],\n",
              "       [0. , 0.5]])"
            ]
          },
          "metadata": {
            "tags": []
          },
          "execution_count": 16
        }
      ]
    },
    {
      "cell_type": "code",
      "metadata": {
        "id": "lB_A4YW6XcfZ"
      },
      "source": [
        "x = np.arange(0,9) # still need to convert to matrix version\n",
        "y = np.array([19, 20, 20.5, 21.5, 22, 23, 23, 25.5, 24]) # still need to converted to matrix version\n",
        "\n",
        "x = realmat(x) # both x and y are just data, we're not interested in knowing how they affect the accuracy of the network\n",
        "y = realmat(y)"
      ],
      "execution_count": 17,
      "outputs": []
    },
    {
      "cell_type": "code",
      "metadata": {
        "id": "1MkZRowUZ6Dq"
      },
      "source": [
        "def partial_loss(m,b): \n",
        "  \n",
        "  L = 0\n",
        "\n",
        "  for i in range(x.shape[2]):\n",
        "    \n",
        "    L += matrix_power(((np.matmul(m,x[:,:,i]) + b) - y[:,:,i]),2) #y=m*x+b\n",
        "    \n",
        "  return L"
      ],
      "execution_count": 18,
      "outputs": []
    },
    {
      "cell_type": "code",
      "metadata": {
        "id": "DGPnYBP0Xc4u",
        "colab": {
          "base_uri": "https://localhost:8080/"
        },
        "outputId": "d0b4b195-0680-4351-e2f2-89839e41c7cc"
      },
      "source": [
        "partial_loss(M,b) # differentiating w.r.t. m"
      ],
      "execution_count": 19,
      "outputs": [
        {
          "output_type": "execute_result",
          "data": {
            "text/plain": [
              "array([[ 235.75,    0.  ],\n",
              "       [-390.  ,  235.75]])"
            ]
          },
          "metadata": {
            "tags": []
          },
          "execution_count": 19
        }
      ]
    },
    {
      "cell_type": "code",
      "metadata": {
        "id": "GJ5m0Q-fXc0z",
        "colab": {
          "base_uri": "https://localhost:8080/"
        },
        "outputId": "317d9718-432f-4683-af1c-c1f8e86d0dc8"
      },
      "source": [
        "partial_loss(m,B) # differentiating w.r.t. b "
      ],
      "execution_count": 20,
      "outputs": [
        {
          "output_type": "execute_result",
          "data": {
            "text/plain": [
              "array([[235.75,   0.  ],\n",
              "       [-91.  , 235.75]])"
            ]
          },
          "metadata": {
            "tags": []
          },
          "execution_count": 20
        }
      ]
    },
    {
      "cell_type": "code",
      "metadata": {
        "id": "V0nSR5eiF4JV"
      },
      "source": [
        "dL_dm = partial_loss(M,b)"
      ],
      "execution_count": 21,
      "outputs": []
    },
    {
      "cell_type": "code",
      "metadata": {
        "id": "tzktyGgrF5EQ",
        "colab": {
          "base_uri": "https://localhost:8080/"
        },
        "outputId": "30667457-e5e6-4376-b580-2f2253b0c602"
      },
      "source": [
        "dL_dm"
      ],
      "execution_count": 22,
      "outputs": [
        {
          "output_type": "execute_result",
          "data": {
            "text/plain": [
              "array([[ 235.75,    0.  ],\n",
              "       [-390.  ,  235.75]])"
            ]
          },
          "metadata": {
            "tags": []
          },
          "execution_count": 22
        }
      ]
    },
    {
      "cell_type": "code",
      "metadata": {
        "id": "GcVLOf7_faFF"
      },
      "source": [
        "dL_dm = partial_loss(M,b)[1,0]\n",
        "dL_db = partial_loss(m,B)[1,0]"
      ],
      "execution_count": 23,
      "outputs": []
    },
    {
      "cell_type": "code",
      "metadata": {
        "id": "ASyQF9qIf1-I",
        "colab": {
          "base_uri": "https://localhost:8080/"
        },
        "outputId": "09111d93-f567-4dfd-bdad-22a65dd56641"
      },
      "source": [
        "dL_dm"
      ],
      "execution_count": 24,
      "outputs": [
        {
          "output_type": "execute_result",
          "data": {
            "text/plain": [
              "-390.0"
            ]
          },
          "metadata": {
            "tags": []
          },
          "execution_count": 24
        }
      ]
    },
    {
      "cell_type": "code",
      "metadata": {
        "id": "Ja6D6VKNf5EH",
        "colab": {
          "base_uri": "https://localhost:8080/"
        },
        "outputId": "5c8233f3-a5c3-46e0-d81d-0473f1b832bd"
      },
      "source": [
        "dL_db"
      ],
      "execution_count": 25,
      "outputs": [
        {
          "output_type": "execute_result",
          "data": {
            "text/plain": [
              "-91.0"
            ]
          },
          "metadata": {
            "tags": []
          },
          "execution_count": 25
        }
      ]
    },
    {
      "cell_type": "code",
      "metadata": {
        "id": "GJwHeJs8mE0q"
      },
      "source": [
        "#######################"
      ],
      "execution_count": 26,
      "outputs": []
    },
    {
      "cell_type": "code",
      "metadata": {
        "id": "v3GXJZNOhCRo"
      },
      "source": [
        "m = 0\n",
        "b = 0"
      ],
      "execution_count": 27,
      "outputs": []
    },
    {
      "cell_type": "code",
      "metadata": {
        "id": "_tRkFuC2mEuA"
      },
      "source": [
        "x0 = np.arange(0,9)\n",
        "y0 = np.array([19, 20, 20.5, 21.5, 22, 23, 23, 25.5, 24])"
      ],
      "execution_count": 28,
      "outputs": []
    },
    {
      "cell_type": "code",
      "metadata": {
        "id": "CSf3Yac1eu7C"
      },
      "source": [
        "x = realmat(x0)\n",
        "y = realmat(y0)"
      ],
      "execution_count": 29,
      "outputs": []
    },
    {
      "cell_type": "code",
      "metadata": {
        "id": "cIXeAfhAhLh0"
      },
      "source": [
        "def total_loss(m,b):\n",
        "  \n",
        "  Lm = partial_loss(dualmat(m),realmat(b))\n",
        "  \n",
        "  Lb = partial_loss(realmat(m),dualmat(b))\n",
        "      \n",
        "  return Lm[1,1],Lm[1,0],Lb[1,0]"
      ],
      "execution_count": 30,
      "outputs": []
    },
    {
      "cell_type": "code",
      "metadata": {
        "id": "fMzoplQtgRUN"
      },
      "source": [
        "learning_rate = 0.001\n",
        "steps = 1000"
      ],
      "execution_count": 31,
      "outputs": []
    },
    {
      "cell_type": "code",
      "metadata": {
        "id": "B43i-MowgROz"
      },
      "source": [
        "for i in range(steps):\n",
        "  \n",
        "  L,dL_dm,dL_db = total_loss(m,b)\n",
        "  \n",
        "  m -= dL_dm * learning_rate\n",
        "  b -= dL_db * learning_rate"
      ],
      "execution_count": 32,
      "outputs": []
    },
    {
      "cell_type": "code",
      "metadata": {
        "id": "psGANaJUgRGL",
        "colab": {
          "base_uri": "https://localhost:8080/"
        },
        "outputId": "dc7c8300-a2eb-48ab-85b8-1e0a3726a297"
      },
      "source": [
        "print(m,b)"
      ],
      "execution_count": 33,
      "outputs": [
        {
          "output_type": "stream",
          "text": [
            "0.735897936413473 19.081282523560958\n"
          ],
          "name": "stdout"
        }
      ]
    },
    {
      "cell_type": "code",
      "metadata": {
        "id": "t0DRcDXAjGcA"
      },
      "source": [
        "y1 = m*x + b"
      ],
      "execution_count": 34,
      "outputs": []
    },
    {
      "cell_type": "code",
      "metadata": {
        "id": "F4VHsoyKjYzf",
        "colab": {
          "base_uri": "https://localhost:8080/"
        },
        "outputId": "39797eb6-ac1a-4dee-8d86-8c3124f0c947"
      },
      "source": [
        "y1.shape"
      ],
      "execution_count": 35,
      "outputs": [
        {
          "output_type": "execute_result",
          "data": {
            "text/plain": [
              "(2, 2, 9)"
            ]
          },
          "metadata": {
            "tags": []
          },
          "execution_count": 35
        }
      ]
    },
    {
      "cell_type": "code",
      "metadata": {
        "id": "rJ_aERavjl3V"
      },
      "source": [
        "y1 = y1[0,0,:]"
      ],
      "execution_count": 36,
      "outputs": []
    },
    {
      "cell_type": "code",
      "metadata": {
        "id": "6zgiMXwTjGcJ",
        "colab": {
          "base_uri": "https://localhost:8080/",
          "height": 282
        },
        "outputId": "073c78bd-9c55-4eca-8e11-4cc28ef04664"
      },
      "source": [
        "plt.plot(x0,y0,'o')\n",
        "plt.plot(x0,y1)"
      ],
      "execution_count": 37,
      "outputs": [
        {
          "output_type": "execute_result",
          "data": {
            "text/plain": [
              "[<matplotlib.lines.Line2D at 0x7fab4fd50e80>]"
            ]
          },
          "metadata": {
            "tags": []
          },
          "execution_count": 37
        },
        {
          "output_type": "display_data",
          "data": {
            "image/png": "[encoded data removed]",
            "text/plain": [
              "<Figure size 432x288 with 1 Axes>"
            ]
          },
          "metadata": {
            "tags": [],
            "needs_background": "light"
          }
        }
      ]
    },
    {
      "cell_type": "code",
      "metadata": {
        "id": "sc0S9bKFgW2-"
      },
      "source": [
        ""
      ],
      "execution_count": 37,
      "outputs": []
    },
    {
      "cell_type": "code",
      "metadata": {
        "id": "s-pox0o1ATgr"
      },
      "source": [
        ""
      ],
      "execution_count": 37,
      "outputs": []
    }
  ]
}