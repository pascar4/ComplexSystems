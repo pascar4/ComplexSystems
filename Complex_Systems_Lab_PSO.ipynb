{
  "nbformat": 4,
  "nbformat_minor": 0,
  "metadata": {
    "colab": {
      "name": "MPCR_PSO.ipynb",
      "provenance": [],
      "include_colab_link": true
    },
    "kernelspec": {
      "name": "python3",
      "display_name": "Python 3"
    }
  },
  "cells": [
    {
      "cell_type": "markdown",
      "metadata": {
        "id": "view-in-github",
        "colab_type": "text"
      },
      "source": [
        "<a href=\"https://colab.research.google.com/github/williamedwardhahn/ComplexSystems/blob/main/MPCR_PSO.ipynb\" target=\"_parent\"><img src=\"https://colab.research.google.com/assets/colab-badge.svg\" alt=\"Open In Colab\"/></a>"
      ]
    },
    {
      "cell_type": "code",
      "metadata": {
        "id": "el0K0hkLzn7q"
      },
      "source": [
        "import matplotlib.pyplot as plt\n",
        "import numpy as np"
      ],
      "execution_count": null,
      "outputs": []
    },
    {
      "cell_type": "code",
      "metadata": {
        "id": "FoQGDyuhzn7t"
      },
      "source": [
        "def f(x):\n",
        "    z = np.sum((x-7)**2, axis=1)\n",
        "    return z"
      ],
      "execution_count": null,
      "outputs": []
    },
    {
      "cell_type": "code",
      "metadata": {
        "id": "0O1ZkfX_zn7w"
      },
      "source": [
        "x=np.array([[7],[7],[7]])"
      ],
      "execution_count": null,
      "outputs": []
    },
    {
      "cell_type": "code",
      "metadata": {
        "id": "J5-goh5mzn7y",
        "colab": {
          "base_uri": "https://localhost:8080/"
        },
        "outputId": "46ee2e16-4b6d-440a-fa38-d6e36c646fe5"
      },
      "source": [
        "f(x)"
      ],
      "execution_count": null,
      "outputs": [
        {
          "output_type": "execute_result",
          "data": {
            "text/plain": [
              "array([0, 0, 0])"
            ]
          },
          "metadata": {
            "tags": []
          },
          "execution_count": 4
        }
      ]
    },
    {
      "cell_type": "code",
      "metadata": {
        "id": "kK3Ea4vuzn73"
      },
      "source": [
        "N = 1000 #steps"
      ],
      "execution_count": null,
      "outputs": []
    },
    {
      "cell_type": "code",
      "metadata": {
        "id": "nBGWKpDfzn75"
      },
      "source": [
        "n = 10 #agents"
      ],
      "execution_count": null,
      "outputs": []
    },
    {
      "cell_type": "code",
      "metadata": {
        "id": "xCaJaGNmzn78"
      },
      "source": [
        "s = 20 #size search space"
      ],
      "execution_count": null,
      "outputs": []
    },
    {
      "cell_type": "code",
      "metadata": {
        "id": "cwg3n4mezn7-"
      },
      "source": [
        "d = 30 #dim search space"
      ],
      "execution_count": null,
      "outputs": []
    },
    {
      "cell_type": "code",
      "metadata": {
        "id": "gJQ-mzwtzn8B"
      },
      "source": [
        "p = 0.5 #swarm parameter"
      ],
      "execution_count": null,
      "outputs": []
    },
    {
      "cell_type": "code",
      "metadata": {
        "id": "ElcKway6zn8F"
      },
      "source": [
        "r = 10*np.random.normal(0,1,(n,d,N))"
      ],
      "execution_count": null,
      "outputs": []
    },
    {
      "cell_type": "code",
      "metadata": {
        "id": "SeAxvjqZzn8I"
      },
      "source": [
        "a = (0.001)**(np.linspace(1,N,N)/N) #cooling schedule"
      ],
      "execution_count": null,
      "outputs": []
    },
    {
      "cell_type": "code",
      "metadata": {
        "id": "JoG7mqgCzn8K",
        "colab": {
          "base_uri": "https://localhost:8080/",
          "height": 282
        },
        "outputId": "10e8f4dd-b4f0-4d7d-b9ca-afbd5992aa60"
      },
      "source": [
        "plt.plot(a)"
      ],
      "execution_count": null,
      "outputs": [
        {
          "output_type": "execute_result",
          "data": {
            "text/plain": [
              "[<matplotlib.lines.Line2D at 0x7f3d6caf6320>]"
            ]
          },
          "metadata": {
            "tags": []
          },
          "execution_count": 12
        },
        {
          "output_type": "display_data",
          "data": {
            "image/png": "[encoded data removed]",
            "text/plain": [
              "<Figure size 432x288 with 1 Axes>"
            ]
          },
          "metadata": {
            "tags": [],
            "needs_background": "light"
          }
        }
      ]
    },
    {
      "cell_type": "code",
      "metadata": {
        "id": "Z8MQtztCzn8O"
      },
      "source": [
        "xn = (2*np.random.random((n,d)) - 1) * s #randomly place agents"
      ],
      "execution_count": null,
      "outputs": []
    },
    {
      "cell_type": "code",
      "metadata": {
        "id": "8_tWw4nazn8V"
      },
      "source": [
        "for i in range(N):\n",
        "    \n",
        "    xn = xn*(1-p) + xn[np.argmin(f(xn)),:]*p + a[i]*r[:,:,i]"
      ],
      "execution_count": null,
      "outputs": []
    },
    {
      "cell_type": "code",
      "metadata": {
        "id": "R8llMp07zn8f",
        "colab": {
          "base_uri": "https://localhost:8080/"
        },
        "outputId": "54c9bb82-67b1-46ba-9245-6be4af3cd482"
      },
      "source": [
        "f(xn)"
      ],
      "execution_count": null,
      "outputs": [
        {
          "output_type": "execute_result",
          "data": {
            "text/plain": [
              "array([0.00920502, 0.00847151, 0.00892989, 0.0097222 , 0.0070904 ,\n",
              "       0.00971131, 0.00894664, 0.00983834, 0.00645801, 0.00816574])"
            ]
          },
          "metadata": {
            "tags": []
          },
          "execution_count": 15
        }
      ]
    },
    {
      "cell_type": "code",
      "metadata": {
        "id": "N2D46CzgVPKk",
        "colab": {
          "base_uri": "https://localhost:8080/"
        },
        "outputId": "ff206cb9-b44a-4b98-e54d-df4db5da7070"
      },
      "source": [
        "np.sum(f(xn))"
      ],
      "execution_count": null,
      "outputs": [
        {
          "output_type": "execute_result",
          "data": {
            "text/plain": [
              "0.08653907503646066"
            ]
          },
          "metadata": {
            "tags": []
          },
          "execution_count": 16
        }
      ]
    },
    {
      "cell_type": "code",
      "metadata": {
        "id": "5OJnXb2BVPNF",
        "colab": {
          "base_uri": "https://localhost:8080/"
        },
        "outputId": "b207b6b1-53c8-4573-f74b-df59c274faae"
      },
      "source": [
        "xn[0,:]"
      ],
      "execution_count": null,
      "outputs": [
        {
          "output_type": "execute_result",
          "data": {
            "text/plain": [
              "array([6.99807704, 6.98154499, 6.96634152, 6.97890806, 7.00951912,\n",
              "       7.01564427, 7.03226774, 7.00781496, 7.00746503, 7.00259256,\n",
              "       7.00640114, 7.00749817, 6.98934576, 7.01600545, 7.01001804,\n",
              "       7.01834186, 7.02276155, 6.9806419 , 7.00195086, 7.03880144,\n",
              "       7.02031895, 6.9717673 , 6.98069215, 7.01486902, 7.0057057 ,\n",
              "       7.00107374, 7.02221905, 7.00153039, 7.00607978, 7.01032033])"
            ]
          },
          "metadata": {
            "tags": []
          },
          "execution_count": 17
        }
      ]
    },
    {
      "cell_type": "code",
      "metadata": {
        "id": "3_KgBcUUo3TI"
      },
      "source": [
        ""
      ],
      "execution_count": null,
      "outputs": []
    },
    {
      "cell_type": "code",
      "metadata": {
        "id": "G5Rt_yigo3Wu"
      },
      "source": [
        ""
      ],
      "execution_count": null,
      "outputs": []
    },
    {
      "cell_type": "code",
      "metadata": {
        "id": "HIJi_eQJo3QS"
      },
      "source": [
        ""
      ],
      "execution_count": null,
      "outputs": []
    },
    {
      "cell_type": "code",
      "metadata": {
        "id": "57bHPZ8kVPQv"
      },
      "source": [
        "x = np.linspace(0,10,10)"
      ],
      "execution_count": null,
      "outputs": []
    },
    {
      "cell_type": "code",
      "metadata": {
        "id": "_1XiaVOLVca2"
      },
      "source": [
        "noise = 2 * np.random.randn(x.shape[0])"
      ],
      "execution_count": null,
      "outputs": []
    },
    {
      "cell_type": "code",
      "metadata": {
        "id": "3PProz1pVhhs",
        "colab": {
          "base_uri": "https://localhost:8080/"
        },
        "outputId": "2b4689c2-1891-4c1f-9d09-aeb76447569d"
      },
      "source": [
        "noise"
      ],
      "execution_count": null,
      "outputs": [
        {
          "output_type": "execute_result",
          "data": {
            "text/plain": [
              "array([ 3.07356021, -1.87690009, -2.35579817, -0.62691643, -2.66921687,\n",
              "       -1.72272873,  0.11098608, -0.37763154, -2.23721111,  2.07202181])"
            ]
          },
          "metadata": {
            "tags": []
          },
          "execution_count": 20
        }
      ]
    },
    {
      "cell_type": "code",
      "metadata": {
        "id": "-Uc5umbuVPTm"
      },
      "source": [
        "y = 3*x + 5 + noise "
      ],
      "execution_count": null,
      "outputs": []
    },
    {
      "cell_type": "code",
      "metadata": {
        "id": "hZ1VfGHBVPPN",
        "colab": {
          "base_uri": "https://localhost:8080/",
          "height": 282
        },
        "outputId": "a382810f-6124-4be5-e9d0-3a63dfb86a2d"
      },
      "source": [
        "plt.plot(x,y,'.')"
      ],
      "execution_count": null,
      "outputs": [
        {
          "output_type": "execute_result",
          "data": {
            "text/plain": [
              "[<matplotlib.lines.Line2D at 0x7f3d6c5c52b0>]"
            ]
          },
          "metadata": {
            "tags": []
          },
          "execution_count": 22
        },
        {
          "output_type": "display_data",
          "data": {
            "image/png": "[encoded data removed]",
            "text/plain": [
              "<Figure size 432x288 with 1 Axes>"
            ]
          },
          "metadata": {
            "tags": [],
            "needs_background": "light"
          }
        }
      ]
    },
    {
      "cell_type": "code",
      "metadata": {
        "id": "6s4U54zqzn8h"
      },
      "source": [
        "m = 1\n",
        "b = 1  "
      ],
      "execution_count": null,
      "outputs": []
    },
    {
      "cell_type": "code",
      "metadata": {
        "id": "zSKYJJfSWI_C",
        "colab": {
          "base_uri": "https://localhost:8080/"
        },
        "outputId": "d52308a7-c730-4a61-897f-4fa75e51bac2"
      },
      "source": [
        "x"
      ],
      "execution_count": null,
      "outputs": [
        {
          "output_type": "execute_result",
          "data": {
            "text/plain": [
              "array([ 0.        ,  1.11111111,  2.22222222,  3.33333333,  4.44444444,\n",
              "        5.55555556,  6.66666667,  7.77777778,  8.88888889, 10.        ])"
            ]
          },
          "metadata": {
            "tags": []
          },
          "execution_count": 24
        }
      ]
    },
    {
      "cell_type": "code",
      "metadata": {
        "id": "66YHIR3wV8KA"
      },
      "source": [
        "def model(m,b):\n",
        "    return m*x+b"
      ],
      "execution_count": null,
      "outputs": []
    },
    {
      "cell_type": "code",
      "metadata": {
        "id": "jv1pEO8JV8MJ"
      },
      "source": [
        "y2 = model(m,b)"
      ],
      "execution_count": null,
      "outputs": []
    },
    {
      "cell_type": "code",
      "metadata": {
        "id": "fPl8J4v9OKTb",
        "colab": {
          "base_uri": "https://localhost:8080/"
        },
        "outputId": "0501f8c2-9bc1-43e6-e22b-0ade7bb31e88"
      },
      "source": [
        "y2"
      ],
      "execution_count": null,
      "outputs": [
        {
          "output_type": "execute_result",
          "data": {
            "text/plain": [
              "array([ 1.        ,  2.11111111,  3.22222222,  4.33333333,  5.44444444,\n",
              "        6.55555556,  7.66666667,  8.77777778,  9.88888889, 11.        ])"
            ]
          },
          "metadata": {
            "tags": []
          },
          "execution_count": 27
        }
      ]
    },
    {
      "cell_type": "code",
      "metadata": {
        "id": "Q-uHKoEeV8OW",
        "colab": {
          "base_uri": "https://localhost:8080/",
          "height": 282
        },
        "outputId": "92d9bcc7-c6f0-49bd-84cc-c9677e113ea4"
      },
      "source": [
        "plt.plot(x,y,'.')\n",
        "plt.plot(x,y2)"
      ],
      "execution_count": null,
      "outputs": [
        {
          "output_type": "execute_result",
          "data": {
            "text/plain": [
              "[<matplotlib.lines.Line2D at 0x7f3d6ca5f9b0>]"
            ]
          },
          "metadata": {
            "tags": []
          },
          "execution_count": 28
        },
        {
          "output_type": "display_data",
          "data": {
            "image/png": "[encoded data removed]",
            "text/plain": [
              "<Figure size 432x288 with 1 Axes>"
            ]
          },
          "metadata": {
            "tags": [],
            "needs_background": "light"
          }
        }
      ]
    },
    {
      "cell_type": "code",
      "metadata": {
        "id": "XG8fETCizn8j"
      },
      "source": [
        "y2 = model(3,5)"
      ],
      "execution_count": null,
      "outputs": []
    },
    {
      "cell_type": "code",
      "metadata": {
        "id": "eJN2cy1czn8k",
        "colab": {
          "base_uri": "https://localhost:8080/",
          "height": 282
        },
        "outputId": "8d44a36e-ad56-4845-c647-5b0e07871b11"
      },
      "source": [
        "plt.plot(x,y,'.')\n",
        "plt.plot(x,y2)"
      ],
      "execution_count": null,
      "outputs": [
        {
          "output_type": "execute_result",
          "data": {
            "text/plain": [
              "[<matplotlib.lines.Line2D at 0x7f3d6c571d68>]"
            ]
          },
          "metadata": {
            "tags": []
          },
          "execution_count": 30
        },
        {
          "output_type": "display_data",
          "data": {
            "image/png": "[encoded data removed]",
            "text/plain": [
              "<Figure size 432x288 with 1 Axes>"
            ]
          },
          "metadata": {
            "tags": [],
            "needs_background": "light"
          }
        }
      ]
    },
    {
      "cell_type": "code",
      "metadata": {
        "id": "3TX5Xsewzn8m"
      },
      "source": [
        ""
      ],
      "execution_count": null,
      "outputs": []
    },
    {
      "cell_type": "code",
      "metadata": {
        "id": "ri4h0BkTWucl"
      },
      "source": [
        "def loss(y,y2):\n",
        "    return np.sum((y - y2)**2) "
      ],
      "execution_count": null,
      "outputs": []
    },
    {
      "cell_type": "code",
      "metadata": {
        "id": "_1_fpET5Wugr"
      },
      "source": [
        ""
      ],
      "execution_count": null,
      "outputs": []
    },
    {
      "cell_type": "code",
      "metadata": {
        "id": "ntoXF_mgXKov",
        "colab": {
          "base_uri": "https://localhost:8080/"
        },
        "outputId": "381b0b8f-bbb3-4edb-cf5d-2e5fe2b2d856"
      },
      "source": [
        "for m in range(-5,6):\n",
        "    for b in range(-5,6):\n",
        "        print(m,b)\n",
        "        y2 = model(m,b)\n",
        "        print(loss(y,y2))"
      ],
      "execution_count": null,
      "outputs": [
        {
          "output_type": "stream",
          "text": [
            "-5 -5\n",
            "30909.459913899736\n",
            "-5 -4\n",
            "29932.679583598227\n",
            "-5 -3\n",
            "28975.899253296728\n",
            "-5 -2\n",
            "28039.11892299522\n",
            "-5 -1\n",
            "27122.338592693708\n",
            "-5 0\n",
            "26225.558262392206\n",
            "-5 1\n",
            "25348.7779320907\n",
            "-5 2\n",
            "24491.997601789193\n",
            "-5 3\n",
            "23655.217271487687\n",
            "-5 4\n",
            "22838.43694118618\n",
            "-5 5\n",
            "22041.656610884675\n",
            "-4 -5\n",
            "24696.097144570158\n",
            "-4 -4\n",
            "23819.316814268648\n",
            "-4 -3\n",
            "22962.536483967146\n",
            "-4 -2\n",
            "22125.756153665636\n",
            "-4 -1\n",
            "21308.975823364133\n",
            "-4 0\n",
            "20512.195493062623\n",
            "-4 1\n",
            "19735.415162761117\n",
            "-4 2\n",
            "18978.63483245961\n",
            "-4 3\n",
            "18241.854502158105\n",
            "-4 4\n",
            "17525.0741718566\n",
            "-4 5\n",
            "16828.293841555093\n",
            "-3 -5\n",
            "19186.438078944277\n",
            "-3 -4\n",
            "18409.65774864277\n",
            "-3 -3\n",
            "17652.87741834126\n",
            "-3 -2\n",
            "16916.097088039758\n",
            "-3 -1\n",
            "16199.316757738252\n",
            "-3 0\n",
            "15502.536427436744\n",
            "-3 1\n",
            "14825.75609713524\n",
            "-3 2\n",
            "14168.975766833732\n",
            "-3 3\n",
            "13532.195436532225\n",
            "-3 4\n",
            "12915.41510623072\n",
            "-3 5\n",
            "12318.634775929211\n",
            "-2 -5\n",
            "14380.4827170221\n",
            "-2 -4\n",
            "13703.702386720593\n",
            "-2 -3\n",
            "13046.922056419087\n",
            "-2 -2\n",
            "12410.141726117581\n",
            "-2 -1\n",
            "11793.361395816075\n",
            "-2 0\n",
            "11196.581065514567\n",
            "-2 1\n",
            "10619.800735213063\n",
            "-2 2\n",
            "10063.020404911556\n",
            "-2 3\n",
            "9526.24007461005\n",
            "-2 4\n",
            "9009.459744308544\n",
            "-2 5\n",
            "8512.679414007036\n",
            "-1 -5\n",
            "10278.231058803629\n",
            "-1 -4\n",
            "9701.450728502125\n",
            "-1 -3\n",
            "9144.670398200618\n",
            "-1 -2\n",
            "8607.89006789911\n",
            "-1 -1\n",
            "8091.109737597604\n",
            "-1 0\n",
            "7594.329407296098\n",
            "-1 1\n",
            "7117.549076994591\n",
            "-1 2\n",
            "6660.768746693086\n",
            "-1 3\n",
            "6223.98841639158\n",
            "-1 4\n",
            "5807.208086090073\n",
            "-1 5\n",
            "5410.427755788566\n",
            "0 -5\n",
            "6879.6831042888625\n",
            "0 -4\n",
            "6402.902773987355\n",
            "0 -3\n",
            "5946.12244368585\n",
            "0 -2\n",
            "5509.342113384343\n",
            "0 -1\n",
            "5092.561783082837\n",
            "0 0\n",
            "4695.781452781331\n",
            "0 1\n",
            "4319.001122479824\n",
            "0 2\n",
            "3962.220792178318\n",
            "0 3\n",
            "3625.440461876812\n",
            "0 4\n",
            "3308.6601315753055\n",
            "0 5\n",
            "3011.8798012738\n",
            "1 -5\n",
            "4184.838853477798\n",
            "1 -4\n",
            "3808.0585231762916\n",
            "1 -3\n",
            "3451.278192874786\n",
            "1 -2\n",
            "3114.4978625732792\n",
            "1 -1\n",
            "2797.7175322717735\n",
            "1 0\n",
            "2500.937201970267\n",
            "1 1\n",
            "2224.156871668761\n",
            "1 2\n",
            "1967.3765413672547\n",
            "1 3\n",
            "1730.5962110657485\n",
            "1 4\n",
            "1513.8158807642424\n",
            "1 5\n",
            "1317.035550462736\n",
            "2 -5\n",
            "2193.6983063704383\n",
            "2 -4\n",
            "1916.9179760689321\n",
            "2 -3\n",
            "1660.137645767426\n",
            "2 -2\n",
            "1423.3573154659198\n",
            "2 -1\n",
            "1206.5769851644136\n",
            "2 0\n",
            "1009.7966548629072\n",
            "2 1\n",
            "833.016324561401\n",
            "2 2\n",
            "676.2359942598949\n",
            "2 3\n",
            "539.4556639583888\n",
            "2 4\n",
            "422.6753336568826\n",
            "2 5\n",
            "325.8950033553764\n",
            "3 -5\n",
            "906.2614629667822\n",
            "3 -4\n",
            "729.4811326652762\n",
            "3 -3\n",
            "572.70080236377\n",
            "3 -2\n",
            "435.92047206226374\n",
            "3 -1\n",
            "319.1401417607576\n",
            "3 0\n",
            "222.35981145925138\n",
            "3 1\n",
            "145.57948115774522\n",
            "3 2\n",
            "88.79915085623901\n",
            "3 3\n",
            "52.01882055473283\n",
            "3 4\n",
            "35.238490253226644\n",
            "3 5\n",
            "38.45815995172046\n",
            "4 -5\n",
            "322.52832326683006\n",
            "4 -4\n",
            "245.74799296532387\n",
            "4 -3\n",
            "188.96766266381772\n",
            "4 -2\n",
            "152.18733236231148\n",
            "4 -1\n",
            "135.40700206080535\n",
            "4 0\n",
            "138.62667175929914\n",
            "4 1\n",
            "161.846341457793\n",
            "4 2\n",
            "205.0660111562868\n",
            "4 3\n",
            "268.28568085478065\n",
            "4 4\n",
            "351.5053505532744\n",
            "4 5\n",
            "454.7250202517683\n",
            "5 -5\n",
            "442.4988872705815\n",
            "5 -4\n",
            "465.7185569690754\n",
            "5 -3\n",
            "508.93822666756915\n",
            "5 -2\n",
            "572.157896366063\n",
            "5 -1\n",
            "655.3775660645567\n",
            "5 0\n",
            "758.5972357630505\n",
            "5 1\n",
            "881.8169054615444\n",
            "5 2\n",
            "1025.0365751600382\n",
            "5 3\n",
            "1188.256244858532\n",
            "5 4\n",
            "1371.475914557026\n",
            "5 5\n",
            "1574.6955842555199\n"
          ],
          "name": "stdout"
        }
      ]
    },
    {
      "cell_type": "code",
      "metadata": {
        "id": "348S0IN1X3nr"
      },
      "source": [
        ""
      ],
      "execution_count": null,
      "outputs": []
    },
    {
      "cell_type": "code",
      "metadata": {
        "id": "OjIboa0zX4BY"
      },
      "source": [
        "# for m in range(-5,6):\n",
        "#     for b in range(-5,6):\n",
        "#         print(m,b)\n",
        "#         print(loss(y,model(m,b)))"
      ],
      "execution_count": null,
      "outputs": []
    },
    {
      "cell_type": "code",
      "metadata": {
        "id": "cWMHC2_PXKsx"
      },
      "source": [
        ""
      ],
      "execution_count": null,
      "outputs": []
    },
    {
      "cell_type": "code",
      "metadata": {
        "id": "kNND1JgHY1Y5"
      },
      "source": [
        ""
      ],
      "execution_count": null,
      "outputs": []
    },
    {
      "cell_type": "code",
      "metadata": {
        "id": "xA1tF-y2Y1c4"
      },
      "source": [
        ""
      ],
      "execution_count": null,
      "outputs": []
    },
    {
      "cell_type": "code",
      "metadata": {
        "id": "0cAdR1oCY1fB"
      },
      "source": [
        ""
      ],
      "execution_count": null,
      "outputs": []
    },
    {
      "cell_type": "code",
      "metadata": {
        "id": "tjlUwQGlY1hQ"
      },
      "source": [
        ""
      ],
      "execution_count": null,
      "outputs": []
    },
    {
      "cell_type": "code",
      "metadata": {
        "id": "OGthWex5Y1k6"
      },
      "source": [
        ""
      ],
      "execution_count": null,
      "outputs": []
    },
    {
      "cell_type": "code",
      "metadata": {
        "id": "NQnoPBzZY1ol"
      },
      "source": [
        ""
      ],
      "execution_count": null,
      "outputs": []
    },
    {
      "cell_type": "code",
      "metadata": {
        "id": "gCqrxr3LY1nX"
      },
      "source": [
        ""
      ],
      "execution_count": null,
      "outputs": []
    },
    {
      "cell_type": "code",
      "metadata": {
        "id": "bPc1auUQY1jR"
      },
      "source": [
        ""
      ],
      "execution_count": null,
      "outputs": []
    },
    {
      "cell_type": "code",
      "metadata": {
        "id": "cDaOCb92ZEPT"
      },
      "source": [
        "N = 50 #steps\n",
        "n = 15 #agents\n",
        "s = 10 #size search space\n",
        "d = 2 #dim search space\n",
        "p = 0.2 #swarm parameter\n",
        "r = np.random.normal(0,1,(n,d,N))\n",
        "a = (0.001)**(np.linspace(1,N,N)/N) #cooling schedule"
      ],
      "execution_count": null,
      "outputs": []
    },
    {
      "cell_type": "code",
      "metadata": {
        "id": "7-8i6f2uZKqg",
        "colab": {
          "base_uri": "https://localhost:8080/",
          "height": 282
        },
        "outputId": "02bbee64-1e3a-4c00-a0fb-a6340c05d8dc"
      },
      "source": [
        "x = np.linspace(0,10,10)\n",
        "noise = 2 * np.random.randn(x.shape[0])\n",
        "y = 3*x + 5 + noise\n",
        "plt.plot(x,y,'.')"
      ],
      "execution_count": null,
      "outputs": [
        {
          "output_type": "execute_result",
          "data": {
            "text/plain": [
              "[<matplotlib.lines.Line2D at 0x7f3d6c484a20>]"
            ]
          },
          "metadata": {
            "tags": []
          },
          "execution_count": 35
        },
        {
          "output_type": "display_data",
          "data": {
            "image/png": "[encoded data removed]",
            "text/plain": [
              "<Figure size 432x288 with 1 Axes>"
            ]
          },
          "metadata": {
            "tags": [],
            "needs_background": "light"
          }
        }
      ]
    },
    {
      "cell_type": "code",
      "metadata": {
        "id": "QqhAG0uRZcc9"
      },
      "source": [
        "xn = (2*np.random.random((n,d)) - 1) * s #randomly place agents"
      ],
      "execution_count": null,
      "outputs": []
    },
    {
      "cell_type": "code",
      "metadata": {
        "id": "W3bhDrqiWul-"
      },
      "source": [
        "L = np.zeros(N,)\n",
        "\n",
        "for i in range(N):\n",
        "    \n",
        "    y2 = x * xn[:,0][:,None] + xn[:,1][:,None] #y=mx+b\n",
        "    \n",
        "    loss = np.sum(((y2) - y)**2,1) #mse\n",
        "\n",
        "    best_agent_number = np.argmin(loss)\n",
        "\n",
        "    xn = xn*(1-p) + xn[best_agent_number,:]*p + a[i]*r[:,:,i]\n",
        "\n",
        "    L[i] = np.mean(loss)"
      ],
      "execution_count": null,
      "outputs": []
    },
    {
      "cell_type": "code",
      "metadata": {
        "id": "hUVtSoMJEdYi",
        "colab": {
          "base_uri": "https://localhost:8080/"
        },
        "outputId": "86957cf2-4b3e-4738-beac-d39435be1f9b"
      },
      "source": [
        "xn"
      ],
      "execution_count": null,
      "outputs": [
        {
          "output_type": "execute_result",
          "data": {
            "text/plain": [
              "array([[3.35045923, 2.9807704 ],\n",
              "       [3.35429939, 2.98014866],\n",
              "       [3.35122209, 2.97699474],\n",
              "       [3.35514382, 2.98124188],\n",
              "       [3.35317086, 2.97672957],\n",
              "       [3.34902455, 2.9820091 ],\n",
              "       [3.3496531 , 2.97993992],\n",
              "       [3.35207581, 2.98467054],\n",
              "       [3.35256592, 2.98146094],\n",
              "       [3.35197132, 2.97963462],\n",
              "       [3.35585573, 2.97687508],\n",
              "       [3.35361003, 2.98325873],\n",
              "       [3.35277823, 2.98343129],\n",
              "       [3.35323687, 2.97773005],\n",
              "       [3.35115443, 2.9766637 ]])"
            ]
          },
          "metadata": {
            "tags": []
          },
          "execution_count": 38
        }
      ]
    },
    {
      "cell_type": "code",
      "metadata": {
        "id": "iJV61UbgEdV8",
        "colab": {
          "base_uri": "https://localhost:8080/",
          "height": 282
        },
        "outputId": "5e5942e9-ed57-4162-d1ee-d520fe5a095c"
      },
      "source": [
        "plt.plot(L)"
      ],
      "execution_count": null,
      "outputs": [
        {
          "output_type": "execute_result",
          "data": {
            "text/plain": [
              "[<matplotlib.lines.Line2D at 0x7f3d6c465c18>]"
            ]
          },
          "metadata": {
            "tags": []
          },
          "execution_count": 39
        },
        {
          "output_type": "display_data",
          "data": {
            "image/png": "[encoded data removed]",
            "text/plain": [
              "<Figure size 432x288 with 1 Axes>"
            ]
          },
          "metadata": {
            "tags": [],
            "needs_background": "light"
          }
        }
      ]
    },
    {
      "cell_type": "code",
      "metadata": {
        "id": "WjoqiiYUVhFg",
        "colab": {
          "base_uri": "https://localhost:8080/",
          "height": 282
        },
        "outputId": "b8829d3a-8b8d-4bf0-8cb1-fc5421f464dc"
      },
      "source": [
        "plt.plot(L)"
      ],
      "execution_count": null,
      "outputs": [
        {
          "output_type": "execute_result",
          "data": {
            "text/plain": [
              "[<matplotlib.lines.Line2D at 0x7f3d6c3d6198>]"
            ]
          },
          "metadata": {
            "tags": []
          },
          "execution_count": 40
        },
        {
          "output_type": "display_data",
          "data": {
            "image/png": "[encoded data removed]",
            "text/plain": [
              "<Figure size 432x288 with 1 Axes>"
            ]
          },
          "metadata": {
            "tags": [],
            "needs_background": "light"
          }
        }
      ]
    },
    {
      "cell_type": "code",
      "metadata": {
        "id": "B03GXgkt9j6P",
        "colab": {
          "base_uri": "https://localhost:8080/"
        },
        "outputId": "36f4f44b-e5d6-4413-c613-a5a2c36aa35f"
      },
      "source": [
        "xn"
      ],
      "execution_count": null,
      "outputs": [
        {
          "output_type": "execute_result",
          "data": {
            "text/plain": [
              "array([[3.35045923, 2.9807704 ],\n",
              "       [3.35429939, 2.98014866],\n",
              "       [3.35122209, 2.97699474],\n",
              "       [3.35514382, 2.98124188],\n",
              "       [3.35317086, 2.97672957],\n",
              "       [3.34902455, 2.9820091 ],\n",
              "       [3.3496531 , 2.97993992],\n",
              "       [3.35207581, 2.98467054],\n",
              "       [3.35256592, 2.98146094],\n",
              "       [3.35197132, 2.97963462],\n",
              "       [3.35585573, 2.97687508],\n",
              "       [3.35361003, 2.98325873],\n",
              "       [3.35277823, 2.98343129],\n",
              "       [3.35323687, 2.97773005],\n",
              "       [3.35115443, 2.9766637 ]])"
            ]
          },
          "metadata": {
            "tags": []
          },
          "execution_count": 41
        }
      ]
    },
    {
      "cell_type": "code",
      "metadata": {
        "id": "MXbSssoFEdUa"
      },
      "source": [
        "m,b = np.mean(xn,0)"
      ],
      "execution_count": null,
      "outputs": []
    },
    {
      "cell_type": "code",
      "metadata": {
        "id": "m9EB8jZYGkmF"
      },
      "source": [
        "y2 = m*x+b"
      ],
      "execution_count": null,
      "outputs": []
    },
    {
      "cell_type": "code",
      "metadata": {
        "id": "O0lLPwSHEdSx",
        "colab": {
          "base_uri": "https://localhost:8080/",
          "height": 282
        },
        "outputId": "120c4cd3-c35e-4c00-a832-e85cc4073d4a"
      },
      "source": [
        "\n",
        "plt.plot(x,y,'.')\n",
        "plt.plot(x,y2)"
      ],
      "execution_count": null,
      "outputs": [
        {
          "output_type": "execute_result",
          "data": {
            "text/plain": [
              "[<matplotlib.lines.Line2D at 0x7f3d6c39c5f8>]"
            ]
          },
          "metadata": {
            "tags": []
          },
          "execution_count": 44
        },
        {
          "output_type": "display_data",
          "data": {
            "image/png": "[encoded data removed]",
            "text/plain": [
              "<Figure size 432x288 with 1 Axes>"
            ]
          },
          "metadata": {
            "tags": [],
            "needs_background": "light"
          }
        }
      ]
    },
    {
      "cell_type": "code",
      "metadata": {
        "id": "c0bCcNXBEdNe"
      },
      "source": [
        ""
      ],
      "execution_count": null,
      "outputs": []
    },
    {
      "cell_type": "code",
      "metadata": {
        "id": "G4RHwLpbZpMe"
      },
      "source": [
        ""
      ],
      "execution_count": null,
      "outputs": []
    },
    {
      "cell_type": "code",
      "metadata": {
        "id": "F5G2fmE9epcS"
      },
      "source": [
        ""
      ],
      "execution_count": null,
      "outputs": []
    },
    {
      "cell_type": "code",
      "metadata": {
        "id": "Zl7OckrAepkO"
      },
      "source": [
        ""
      ],
      "execution_count": null,
      "outputs": []
    },
    {
      "cell_type": "code",
      "metadata": {
        "id": "K3XbbrTnepyJ"
      },
      "source": [
        ""
      ],
      "execution_count": null,
      "outputs": []
    },
    {
      "cell_type": "code",
      "metadata": {
        "id": "FJ-jUNNgep33"
      },
      "source": [
        ""
      ],
      "execution_count": null,
      "outputs": []
    },
    {
      "cell_type": "code",
      "metadata": {
        "id": "EGOAYY_Pep9i",
        "colab": {
          "base_uri": "https://localhost:8080/",
          "height": 282
        },
        "outputId": "c02d6f7f-bb28-460d-b3cd-ea988ee8be0a"
      },
      "source": [
        "plt.plot(x,y,'.')"
      ],
      "execution_count": null,
      "outputs": [
        {
          "output_type": "execute_result",
          "data": {
            "text/plain": [
              "[<matplotlib.lines.Line2D at 0x7f3d6c326588>]"
            ]
          },
          "metadata": {
            "tags": []
          },
          "execution_count": 45
        },
        {
          "output_type": "display_data",
          "data": {
            "image/png": "[encoded data removed]",
            "text/plain": [
              "<Figure size 432x288 with 1 Axes>"
            ]
          },
          "metadata": {
            "tags": [],
            "needs_background": "light"
          }
        }
      ]
    },
    {
      "cell_type": "code",
      "metadata": {
        "id": "kmiJQ0xzeqQY"
      },
      "source": [
        "import matplotlib.pyplot as plt\n",
        "import numpy as np\n",
        "import torch\n",
        "from torch import tensor \n",
        "from torch.autograd import Variable\n",
        "from torch import randn"
      ],
      "execution_count": null,
      "outputs": []
    },
    {
      "cell_type": "code",
      "metadata": {
        "id": "TZ15UA-FHBAx"
      },
      "source": [
        "x = torch.Tensor(x) # Convert the numpy vectors to pytorch tensors \n",
        "y = torch.Tensor(y)"
      ],
      "execution_count": null,
      "outputs": []
    },
    {
      "cell_type": "code",
      "metadata": {
        "id": "CCA8fty95lUe"
      },
      "source": [
        "m = Variable(randn(1,1), requires_grad=True) # Initialize pytorch variables, i.e. values you want to optimize. In this case with normally distributed random numbers, one for m the slope and one for b the interscept\n",
        "b = Variable(randn(1,1), requires_grad=True)"
      ],
      "execution_count": null,
      "outputs": []
    },
    {
      "cell_type": "code",
      "metadata": {
        "id": "tYIw7h7sILGR"
      },
      "source": [
        "learning_rate = 0.001 # Descend Gradient Slowly so as to Not Overshoot Minima and Oscillate"
      ],
      "execution_count": null,
      "outputs": []
    },
    {
      "cell_type": "code",
      "metadata": {
        "id": "k-unh_nMIceu"
      },
      "source": [
        "for t in range(1000):\n",
        "\n",
        "    y_pred = m * x + b  # Define Model \n",
        "    \n",
        "    loss = (y_pred - y).pow(2).sum() # Define Loss Function as Sum of the Squares of the Differences \n",
        "\n",
        "    loss.backward() # Calculate Gradient, dLoss/dp for Each Parameter p \n",
        "\n",
        "    m.data -= learning_rate * m.grad.data # Gradient Descent\n",
        "    b.data -= learning_rate * b.grad.data\n",
        "\n",
        "    m.grad.zero_() # Reset Gradient Value\n",
        "    b.grad.zero_()"
      ],
      "execution_count": null,
      "outputs": []
    },
    {
      "cell_type": "code",
      "metadata": {
        "id": "3vGeTmg7Dje1",
        "colab": {
          "base_uri": "https://localhost:8080/"
        },
        "outputId": "4d943488-ab3c-45fa-dc51-e4781a68144c"
      },
      "source": [
        "print(t, loss.item(),m.item(),b.item())"
      ],
      "execution_count": null,
      "outputs": [
        {
          "output_type": "stream",
          "text": [
            "999 42.663230895996094 3.3508870601654053 2.9857840538024902\n"
          ],
          "name": "stdout"
        }
      ]
    },
    {
      "cell_type": "code",
      "metadata": {
        "id": "VPrsr7nOR-pj"
      },
      "source": [
        "m = m.item()\n",
        "b = b.item()"
      ],
      "execution_count": null,
      "outputs": []
    },
    {
      "cell_type": "code",
      "metadata": {
        "id": "jhYDFv09SHz-",
        "colab": {
          "base_uri": "https://localhost:8080/"
        },
        "outputId": "7ed788e0-69ca-456c-c061-6b17bad07a1f"
      },
      "source": [
        "m,b"
      ],
      "execution_count": null,
      "outputs": [
        {
          "output_type": "execute_result",
          "data": {
            "text/plain": [
              "(3.3508870601654053, 2.9857840538024902)"
            ]
          },
          "metadata": {
            "tags": []
          },
          "execution_count": 53
        }
      ]
    },
    {
      "cell_type": "code",
      "metadata": {
        "id": "zGylWjQZeqZ_",
        "colab": {
          "base_uri": "https://localhost:8080/",
          "height": 282
        },
        "outputId": "b494d43e-6751-42ad-f868-212e8b0c1b93"
      },
      "source": [
        "y2 = m*x+b\n",
        "plt.plot(x,y,'.')\n",
        "plt.plot(x,y2)"
      ],
      "execution_count": null,
      "outputs": [
        {
          "output_type": "execute_result",
          "data": {
            "text/plain": [
              "[<matplotlib.lines.Line2D at 0x7f3d223c6b38>]"
            ]
          },
          "metadata": {
            "tags": []
          },
          "execution_count": 54
        },
        {
          "output_type": "display_data",
          "data": {
            "image/png": "[encoded data removed]",
            "text/plain": [
              "<Figure size 432x288 with 1 Axes>"
            ]
          },
          "metadata": {
            "tags": [],
            "needs_background": "light"
          }
        }
      ]
    },
    {
      "cell_type": "code",
      "metadata": {
        "id": "9PCovetVeqpa"
      },
      "source": [
        ""
      ],
      "execution_count": null,
      "outputs": []
    },
    {
      "cell_type": "code",
      "metadata": {
        "id": "eVAxfx11eqmz"
      },
      "source": [
        ""
      ],
      "execution_count": null,
      "outputs": []
    },
    {
      "cell_type": "code",
      "metadata": {
        "id": "Fw31YIE6qfkm"
      },
      "source": [
        ""
      ],
      "execution_count": null,
      "outputs": []
    },
    {
      "cell_type": "code",
      "metadata": {
        "id": "GsmGzfEpqfhl"
      },
      "source": [
        ""
      ],
      "execution_count": null,
      "outputs": []
    },
    {
      "cell_type": "code",
      "metadata": {
        "id": "UhjSKJ_tqfev"
      },
      "source": [
        ""
      ],
      "execution_count": null,
      "outputs": []
    },
    {
      "cell_type": "code",
      "metadata": {
        "id": "yBL8Apl9qfcr"
      },
      "source": [
        ""
      ],
      "execution_count": null,
      "outputs": []
    },
    {
      "cell_type": "code",
      "metadata": {
        "id": "9adP4k1Rqfaj"
      },
      "source": [
        ""
      ],
      "execution_count": null,
      "outputs": []
    },
    {
      "cell_type": "code",
      "metadata": {
        "id": "JVQKmIpYqfXp"
      },
      "source": [
        ""
      ],
      "execution_count": null,
      "outputs": []
    },
    {
      "cell_type": "code",
      "metadata": {
        "id": "0WpoW--YqfVU"
      },
      "source": [
        ""
      ],
      "execution_count": null,
      "outputs": []
    },
    {
      "cell_type": "code",
      "metadata": {
        "id": "uUKh8KSqqfSq"
      },
      "source": [
        ""
      ],
      "execution_count": null,
      "outputs": []
    },
    {
      "cell_type": "code",
      "metadata": {
        "id": "WLR99kWLqfQH"
      },
      "source": [
        ""
      ],
      "execution_count": null,
      "outputs": []
    },
    {
      "cell_type": "code",
      "metadata": {
        "id": "b2ZkDir6qfNv"
      },
      "source": [
        ""
      ],
      "execution_count": null,
      "outputs": []
    },
    {
      "cell_type": "code",
      "metadata": {
        "id": "_BY72hZueqkB"
      },
      "source": [
        ""
      ],
      "execution_count": null,
      "outputs": []
    },
    {
      "cell_type": "code",
      "metadata": {
        "id": "hZoC2IXueqhA",
        "colab": {
          "base_uri": "https://localhost:8080/",
          "height": 282
        },
        "outputId": "6cca805c-2fa3-4592-bca8-d6f110476516"
      },
      "source": [
        "x = np.linspace(0,10,10)\n",
        "noise = 2 * np.random.randn(x.shape[0])\n",
        "y = 3*x + 5 + noise\n",
        "plt.plot(x,y,'.')"
      ],
      "execution_count": null,
      "outputs": [
        {
          "output_type": "execute_result",
          "data": {
            "text/plain": [
              "[<matplotlib.lines.Line2D at 0x7f3d21b70518>]"
            ]
          },
          "metadata": {
            "tags": []
          },
          "execution_count": 55
        },
        {
          "output_type": "display_data",
          "data": {
            "image/png": "[encoded data removed]",
            "text/plain": [
              "<Figure size 432x288 with 1 Axes>"
            ]
          },
          "metadata": {
            "tags": [],
            "needs_background": "light"
          }
        }
      ]
    },
    {
      "cell_type": "code",
      "metadata": {
        "id": "j-CMVNBneqfR"
      },
      "source": [
        "p = Variable(torch.rand(1,1), requires_grad=True)   #swarm parameter\n",
        "\n",
        "N = 20   #steps\n",
        "n = 15     #agents\n",
        "s = 10     #size search space\n",
        "d = 2      #dim search space\n",
        "r = np.random.normal(0,1,(n,d,N))\n",
        "a = (0.001)**(np.linspace(1,N,N)/N) #cooling schedule\n",
        "xn = (2*np.random.random((n,d)) - 1) * s #randomly place agents"
      ],
      "execution_count": null,
      "outputs": []
    },
    {
      "cell_type": "code",
      "metadata": {
        "id": "lBMlen0stuL9"
      },
      "source": [
        "learning_rate = 0.000001"
      ],
      "execution_count": null,
      "outputs": []
    },
    {
      "cell_type": "code",
      "metadata": {
        "id": "cSMQZlpIq0Yo"
      },
      "source": [
        "x =  torch.Tensor(x) # Convert the numpy vectors to pytorch tensors \n",
        "y =  torch.Tensor(y)"
      ],
      "execution_count": null,
      "outputs": []
    },
    {
      "cell_type": "code",
      "metadata": {
        "id": "jFvlME6FuCHG",
        "colab": {
          "base_uri": "https://localhost:8080/",
          "height": 282
        },
        "outputId": "6e247195-423c-4f26-c1b3-87133f8d91c2"
      },
      "source": [
        "plt.plot(a)"
      ],
      "execution_count": null,
      "outputs": [
        {
          "output_type": "execute_result",
          "data": {
            "text/plain": [
              "[<matplotlib.lines.Line2D at 0x7f3d21ad55c0>]"
            ]
          },
          "metadata": {
            "tags": []
          },
          "execution_count": 59
        },
        {
          "output_type": "display_data",
          "data": {
            "image/png": "[encoded data removed]",
            "text/plain": [
              "<Figure size 432x288 with 1 Axes>"
            ]
          },
          "metadata": {
            "tags": [],
            "needs_background": "light"
          }
        }
      ]
    },
    {
      "cell_type": "code",
      "metadata": {
        "id": "pQ03bGr9eqdA",
        "colab": {
          "base_uri": "https://localhost:8080/"
        },
        "outputId": "ab0879fb-6b66-4a25-8328-5e33066bf6a0"
      },
      "source": [
        "r = np.random.normal(0,1,(n,d,N))\n",
        "a = (0.001)**(np.linspace(1,N,N)/N) #cooling schedule\n",
        "r =  torch.Tensor(r)\n",
        "a =  torch.Tensor(a)\n",
        "\n",
        "P = np.zeros(1000,)\n",
        "\n",
        "for j in range(1000):\n",
        "\n",
        "    xn = (2*np.random.random((n,d)) - 1) * s #randomly place agents\n",
        "    \n",
        "    xn = torch.Tensor(xn)\n",
        "    \n",
        "    #PSO\n",
        "    for i in range(N):\n",
        "        \n",
        "        y2 = x * xn[:,0][:,None] + xn[:,1][:,None] #y=mx+b\n",
        "        \n",
        "        loss = (y2 - y).pow(2).sum(1) \n",
        "\n",
        "        xn = xn*(1-p) + xn[torch.argmin(loss),:]*p + a[i]*r[:,:,i]\n",
        "\n",
        "    (loss.sum()).backward(retain_graph=True)\n",
        "    p.data -= learning_rate * p.grad.data\n",
        "    p.grad.zero_()\n",
        "    print(p)\n",
        "    P[j] = p.item() "
      ],
      "execution_count": null,
      "outputs": [
        {
          "output_type": "stream",
          "text": [
            "tensor([[0.2319]], requires_grad=True)\n",
            "tensor([[0.2322]], requires_grad=True)\n",
            "tensor([[0.2328]], requires_grad=True)\n",
            "tensor([[0.2370]], requires_grad=True)\n",
            "tensor([[0.2373]], requires_grad=True)\n",
            "tensor([[0.2377]], requires_grad=True)\n",
            "tensor([[0.2375]], requires_grad=True)\n",
            "tensor([[0.2319]], requires_grad=True)\n",
            "tensor([[0.2329]], requires_grad=True)\n",
            "tensor([[0.2316]], requires_grad=True)\n",
            "tensor([[0.2306]], requires_grad=True)\n",
            "tensor([[0.2313]], requires_grad=True)\n",
            "tensor([[0.2305]], requires_grad=True)\n",
            "tensor([[0.2295]], requires_grad=True)\n",
            "tensor([[0.2250]], requires_grad=True)\n",
            "tensor([[0.2256]], requires_grad=True)\n",
            "tensor([[0.2253]], requires_grad=True)\n",
            "tensor([[0.2250]], requires_grad=True)\n",
            "tensor([[0.2264]], requires_grad=True)\n",
            "tensor([[0.2274]], requires_grad=True)\n",
            "tensor([[0.2260]], requires_grad=True)\n",
            "tensor([[0.2276]], requires_grad=True)\n",
            "tensor([[0.2273]], requires_grad=True)\n",
            "tensor([[0.2284]], requires_grad=True)\n",
            "tensor([[0.2293]], requires_grad=True)\n",
            "tensor([[0.2285]], requires_grad=True)\n",
            "tensor([[0.2294]], requires_grad=True)\n",
            "tensor([[0.2250]], requires_grad=True)\n",
            "tensor([[0.2243]], requires_grad=True)\n",
            "tensor([[0.2251]], requires_grad=True)\n",
            "tensor([[0.2246]], requires_grad=True)\n",
            "tensor([[0.2258]], requires_grad=True)\n",
            "tensor([[0.2252]], requires_grad=True)\n",
            "tensor([[0.2234]], requires_grad=True)\n",
            "tensor([[0.2259]], requires_grad=True)\n",
            "tensor([[0.2245]], requires_grad=True)\n",
            "tensor([[0.2249]], requires_grad=True)\n",
            "tensor([[0.2251]], requires_grad=True)\n",
            "tensor([[0.2198]], requires_grad=True)\n",
            "tensor([[0.2208]], requires_grad=True)\n",
            "tensor([[0.2208]], requires_grad=True)\n",
            "tensor([[0.2202]], requires_grad=True)\n",
            "tensor([[0.2174]], requires_grad=True)\n",
            "tensor([[0.2189]], requires_grad=True)\n",
            "tensor([[0.2185]], requires_grad=True)\n",
            "tensor([[0.2140]], requires_grad=True)\n",
            "tensor([[0.2142]], requires_grad=True)\n",
            "tensor([[0.2102]], requires_grad=True)\n",
            "tensor([[0.2124]], requires_grad=True)\n",
            "tensor([[0.2124]], requires_grad=True)\n",
            "tensor([[0.2144]], requires_grad=True)\n",
            "tensor([[0.2115]], requires_grad=True)\n",
            "tensor([[0.2138]], requires_grad=True)\n",
            "tensor([[0.2173]], requires_grad=True)\n",
            "tensor([[0.2160]], requires_grad=True)\n",
            "tensor([[0.2116]], requires_grad=True)\n",
            "tensor([[0.2130]], requires_grad=True)\n",
            "tensor([[0.2138]], requires_grad=True)\n",
            "tensor([[0.2175]], requires_grad=True)\n",
            "tensor([[0.2202]], requires_grad=True)\n",
            "tensor([[0.2209]], requires_grad=True)\n",
            "tensor([[0.2270]], requires_grad=True)\n",
            "tensor([[0.2278]], requires_grad=True)\n",
            "tensor([[0.2235]], requires_grad=True)\n",
            "tensor([[0.2230]], requires_grad=True)\n",
            "tensor([[0.2210]], requires_grad=True)\n",
            "tensor([[0.2205]], requires_grad=True)\n",
            "tensor([[0.2205]], requires_grad=True)\n",
            "tensor([[0.2205]], requires_grad=True)\n",
            "tensor([[0.2175]], requires_grad=True)\n",
            "tensor([[0.2172]], requires_grad=True)\n",
            "tensor([[0.2180]], requires_grad=True)\n",
            "tensor([[0.2201]], requires_grad=True)\n",
            "tensor([[0.2205]], requires_grad=True)\n",
            "tensor([[0.2206]], requires_grad=True)\n",
            "tensor([[0.2218]], requires_grad=True)\n",
            "tensor([[0.2229]], requires_grad=True)\n",
            "tensor([[0.2238]], requires_grad=True)\n",
            "tensor([[0.2168]], requires_grad=True)\n",
            "tensor([[0.2177]], requires_grad=True)\n",
            "tensor([[0.2171]], requires_grad=True)\n",
            "tensor([[0.2189]], requires_grad=True)\n",
            "tensor([[0.2176]], requires_grad=True)\n",
            "tensor([[0.2191]], requires_grad=True)\n",
            "tensor([[0.2202]], requires_grad=True)\n",
            "tensor([[0.2199]], requires_grad=True)\n",
            "tensor([[0.2197]], requires_grad=True)\n",
            "tensor([[0.2116]], requires_grad=True)\n",
            "tensor([[0.2103]], requires_grad=True)\n",
            "tensor([[0.2123]], requires_grad=True)\n",
            "tensor([[0.2129]], requires_grad=True)\n",
            "tensor([[0.2142]], requires_grad=True)\n",
            "tensor([[0.2086]], requires_grad=True)\n",
            "tensor([[0.2102]], requires_grad=True)\n",
            "tensor([[0.2112]], requires_grad=True)\n",
            "tensor([[0.2121]], requires_grad=True)\n",
            "tensor([[0.2133]], requires_grad=True)\n",
            "tensor([[0.2157]], requires_grad=True)\n",
            "tensor([[0.2189]], requires_grad=True)\n",
            "tensor([[0.2158]], requires_grad=True)\n",
            "tensor([[0.2114]], requires_grad=True)\n",
            "tensor([[0.2100]], requires_grad=True)\n",
            "tensor([[0.2113]], requires_grad=True)\n",
            "tensor([[0.2126]], requires_grad=True)\n",
            "tensor([[0.2129]], requires_grad=True)\n",
            "tensor([[0.2133]], requires_grad=True)\n",
            "tensor([[0.2118]], requires_grad=True)\n",
            "tensor([[0.2129]], requires_grad=True)\n",
            "tensor([[0.2108]], requires_grad=True)\n",
            "tensor([[0.2123]], requires_grad=True)\n",
            "tensor([[0.2131]], requires_grad=True)\n",
            "tensor([[0.2122]], requires_grad=True)\n",
            "tensor([[0.2129]], requires_grad=True)\n",
            "tensor([[0.2152]], requires_grad=True)\n",
            "tensor([[0.2159]], requires_grad=True)\n",
            "tensor([[0.2205]], requires_grad=True)\n",
            "tensor([[0.2224]], requires_grad=True)\n",
            "tensor([[0.2133]], requires_grad=True)\n",
            "tensor([[0.2152]], requires_grad=True)\n",
            "tensor([[0.2172]], requires_grad=True)\n",
            "tensor([[0.2182]], requires_grad=True)\n",
            "tensor([[0.2179]], requires_grad=True)\n",
            "tensor([[0.2176]], requires_grad=True)\n",
            "tensor([[0.2190]], requires_grad=True)\n",
            "tensor([[0.2184]], requires_grad=True)\n",
            "tensor([[0.2177]], requires_grad=True)\n",
            "tensor([[0.2089]], requires_grad=True)\n",
            "tensor([[0.2088]], requires_grad=True)\n",
            "tensor([[0.2087]], requires_grad=True)\n",
            "tensor([[0.2107]], requires_grad=True)\n",
            "tensor([[0.2114]], requires_grad=True)\n",
            "tensor([[0.2098]], requires_grad=True)\n",
            "tensor([[0.2027]], requires_grad=True)\n",
            "tensor([[0.2001]], requires_grad=True)\n",
            "tensor([[0.1969]], requires_grad=True)\n",
            "tensor([[0.1996]], requires_grad=True)\n",
            "tensor([[0.2064]], requires_grad=True)\n",
            "tensor([[0.2085]], requires_grad=True)\n",
            "tensor([[0.2094]], requires_grad=True)\n",
            "tensor([[0.2098]], requires_grad=True)\n",
            "tensor([[0.2110]], requires_grad=True)\n",
            "tensor([[0.2119]], requires_grad=True)\n",
            "tensor([[0.2009]], requires_grad=True)\n",
            "tensor([[0.1888]], requires_grad=True)\n",
            "tensor([[0.1926]], requires_grad=True)\n",
            "tensor([[0.1950]], requires_grad=True)\n",
            "tensor([[0.2033]], requires_grad=True)\n",
            "tensor([[0.2058]], requires_grad=True)\n",
            "tensor([[0.2064]], requires_grad=True)\n",
            "tensor([[0.2080]], requires_grad=True)\n",
            "tensor([[0.2042]], requires_grad=True)\n",
            "tensor([[0.2080]], requires_grad=True)\n",
            "tensor([[0.2085]], requires_grad=True)\n",
            "tensor([[0.2109]], requires_grad=True)\n",
            "tensor([[0.2139]], requires_grad=True)\n",
            "tensor([[0.2148]], requires_grad=True)\n",
            "tensor([[0.2182]], requires_grad=True)\n",
            "tensor([[0.2183]], requires_grad=True)\n",
            "tensor([[0.2190]], requires_grad=True)\n",
            "tensor([[0.2193]], requires_grad=True)\n",
            "tensor([[0.2196]], requires_grad=True)\n",
            "tensor([[0.2219]], requires_grad=True)\n",
            "tensor([[0.2224]], requires_grad=True)\n",
            "tensor([[0.2246]], requires_grad=True)\n",
            "tensor([[0.2225]], requires_grad=True)\n",
            "tensor([[0.2230]], requires_grad=True)\n",
            "tensor([[0.2223]], requires_grad=True)\n",
            "tensor([[0.2198]], requires_grad=True)\n",
            "tensor([[0.2198]], requires_grad=True)\n",
            "tensor([[0.2188]], requires_grad=True)\n",
            "tensor([[0.2189]], requires_grad=True)\n",
            "tensor([[0.2148]], requires_grad=True)\n",
            "tensor([[0.2162]], requires_grad=True)\n",
            "tensor([[0.2177]], requires_grad=True)\n",
            "tensor([[0.2146]], requires_grad=True)\n",
            "tensor([[0.2169]], requires_grad=True)\n",
            "tensor([[0.2176]], requires_grad=True)\n",
            "tensor([[0.2098]], requires_grad=True)\n",
            "tensor([[0.2106]], requires_grad=True)\n",
            "tensor([[0.2111]], requires_grad=True)\n",
            "tensor([[0.2072]], requires_grad=True)\n",
            "tensor([[0.2094]], requires_grad=True)\n",
            "tensor([[0.1998]], requires_grad=True)\n",
            "tensor([[0.1942]], requires_grad=True)\n",
            "tensor([[0.1970]], requires_grad=True)\n",
            "tensor([[0.1989]], requires_grad=True)\n",
            "tensor([[0.2031]], requires_grad=True)\n",
            "tensor([[0.2051]], requires_grad=True)\n",
            "tensor([[0.2040]], requires_grad=True)\n",
            "tensor([[0.2038]], requires_grad=True)\n",
            "tensor([[0.2048]], requires_grad=True)\n",
            "tensor([[0.2025]], requires_grad=True)\n",
            "tensor([[0.2025]], requires_grad=True)\n",
            "tensor([[0.2026]], requires_grad=True)\n",
            "tensor([[0.2068]], requires_grad=True)\n",
            "tensor([[0.2093]], requires_grad=True)\n",
            "tensor([[0.2071]], requires_grad=True)\n",
            "tensor([[0.2087]], requires_grad=True)\n",
            "tensor([[0.2104]], requires_grad=True)\n",
            "tensor([[0.2097]], requires_grad=True)\n",
            "tensor([[0.2115]], requires_grad=True)\n",
            "tensor([[0.2132]], requires_grad=True)\n",
            "tensor([[0.2153]], requires_grad=True)\n",
            "tensor([[0.2187]], requires_grad=True)\n",
            "tensor([[0.2229]], requires_grad=True)\n",
            "tensor([[0.2284]], requires_grad=True)\n",
            "tensor([[0.2189]], requires_grad=True)\n",
            "tensor([[0.2197]], requires_grad=True)\n",
            "tensor([[0.2221]], requires_grad=True)\n",
            "tensor([[0.2240]], requires_grad=True)\n",
            "tensor([[0.2205]], requires_grad=True)\n",
            "tensor([[0.2174]], requires_grad=True)\n",
            "tensor([[0.2167]], requires_grad=True)\n",
            "tensor([[0.2119]], requires_grad=True)\n",
            "tensor([[0.2132]], requires_grad=True)\n",
            "tensor([[0.2135]], requires_grad=True)\n",
            "tensor([[0.2167]], requires_grad=True)\n",
            "tensor([[0.2155]], requires_grad=True)\n",
            "tensor([[0.2160]], requires_grad=True)\n",
            "tensor([[0.2172]], requires_grad=True)\n",
            "tensor([[0.2163]], requires_grad=True)\n",
            "tensor([[0.2173]], requires_grad=True)\n",
            "tensor([[0.2143]], requires_grad=True)\n",
            "tensor([[0.2139]], requires_grad=True)\n",
            "tensor([[0.2155]], requires_grad=True)\n",
            "tensor([[0.2170]], requires_grad=True)\n",
            "tensor([[0.2154]], requires_grad=True)\n",
            "tensor([[0.2164]], requires_grad=True)\n",
            "tensor([[0.2174]], requires_grad=True)\n",
            "tensor([[0.2201]], requires_grad=True)\n",
            "tensor([[0.2181]], requires_grad=True)\n",
            "tensor([[0.2158]], requires_grad=True)\n",
            "tensor([[0.2175]], requires_grad=True)\n",
            "tensor([[0.2187]], requires_grad=True)\n",
            "tensor([[0.2166]], requires_grad=True)\n",
            "tensor([[0.2182]], requires_grad=True)\n",
            "tensor([[0.2139]], requires_grad=True)\n",
            "tensor([[0.2162]], requires_grad=True)\n",
            "tensor([[0.2000]], requires_grad=True)\n",
            "tensor([[0.1974]], requires_grad=True)\n",
            "tensor([[0.2050]], requires_grad=True)\n",
            "tensor([[0.2034]], requires_grad=True)\n",
            "tensor([[0.2055]], requires_grad=True)\n",
            "tensor([[0.2073]], requires_grad=True)\n",
            "tensor([[0.2125]], requires_grad=True)\n",
            "tensor([[0.2138]], requires_grad=True)\n",
            "tensor([[0.2144]], requires_grad=True)\n",
            "tensor([[0.2114]], requires_grad=True)\n",
            "tensor([[0.2124]], requires_grad=True)\n",
            "tensor([[0.2135]], requires_grad=True)\n",
            "tensor([[0.2067]], requires_grad=True)\n",
            "tensor([[0.2102]], requires_grad=True)\n",
            "tensor([[0.2106]], requires_grad=True)\n",
            "tensor([[0.2094]], requires_grad=True)\n",
            "tensor([[0.2107]], requires_grad=True)\n",
            "tensor([[0.2122]], requires_grad=True)\n",
            "tensor([[0.2150]], requires_grad=True)\n",
            "tensor([[0.2171]], requires_grad=True)\n",
            "tensor([[0.2103]], requires_grad=True)\n",
            "tensor([[0.2095]], requires_grad=True)\n",
            "tensor([[0.2073]], requires_grad=True)\n",
            "tensor([[0.2093]], requires_grad=True)\n",
            "tensor([[0.2108]], requires_grad=True)\n",
            "tensor([[0.2134]], requires_grad=True)\n",
            "tensor([[0.2141]], requires_grad=True)\n",
            "tensor([[0.2153]], requires_grad=True)\n",
            "tensor([[0.2158]], requires_grad=True)\n",
            "tensor([[0.2170]], requires_grad=True)\n",
            "tensor([[0.2176]], requires_grad=True)\n",
            "tensor([[0.2185]], requires_grad=True)\n",
            "tensor([[0.2196]], requires_grad=True)\n",
            "tensor([[0.2201]], requires_grad=True)\n",
            "tensor([[0.2202]], requires_grad=True)\n",
            "tensor([[0.2235]], requires_grad=True)\n",
            "tensor([[0.2263]], requires_grad=True)\n",
            "tensor([[0.2234]], requires_grad=True)\n",
            "tensor([[0.2235]], requires_grad=True)\n",
            "tensor([[0.2201]], requires_grad=True)\n",
            "tensor([[0.2223]], requires_grad=True)\n",
            "tensor([[0.2230]], requires_grad=True)\n",
            "tensor([[0.2246]], requires_grad=True)\n",
            "tensor([[0.2216]], requires_grad=True)\n",
            "tensor([[0.2223]], requires_grad=True)\n",
            "tensor([[0.2236]], requires_grad=True)\n",
            "tensor([[0.2211]], requires_grad=True)\n",
            "tensor([[0.2215]], requires_grad=True)\n",
            "tensor([[0.2198]], requires_grad=True)\n",
            "tensor([[0.2144]], requires_grad=True)\n",
            "tensor([[0.2162]], requires_grad=True)\n",
            "tensor([[0.2144]], requires_grad=True)\n",
            "tensor([[0.2157]], requires_grad=True)\n",
            "tensor([[0.2037]], requires_grad=True)\n",
            "tensor([[0.2033]], requires_grad=True)\n",
            "tensor([[0.2041]], requires_grad=True)\n",
            "tensor([[0.2059]], requires_grad=True)\n",
            "tensor([[0.2032]], requires_grad=True)\n",
            "tensor([[0.2039]], requires_grad=True)\n",
            "tensor([[0.2033]], requires_grad=True)\n",
            "tensor([[0.2054]], requires_grad=True)\n",
            "tensor([[0.2047]], requires_grad=True)\n",
            "tensor([[0.2077]], requires_grad=True)\n",
            "tensor([[0.2059]], requires_grad=True)\n",
            "tensor([[0.2095]], requires_grad=True)\n",
            "tensor([[0.2125]], requires_grad=True)\n",
            "tensor([[0.2121]], requires_grad=True)\n",
            "tensor([[0.2136]], requires_grad=True)\n",
            "tensor([[0.2133]], requires_grad=True)\n",
            "tensor([[0.2145]], requires_grad=True)\n",
            "tensor([[0.2172]], requires_grad=True)\n",
            "tensor([[0.2190]], requires_grad=True)\n",
            "tensor([[0.2217]], requires_grad=True)\n",
            "tensor([[0.2232]], requires_grad=True)\n",
            "tensor([[0.2161]], requires_grad=True)\n",
            "tensor([[0.2201]], requires_grad=True)\n",
            "tensor([[0.2217]], requires_grad=True)\n",
            "tensor([[0.2197]], requires_grad=True)\n",
            "tensor([[0.2210]], requires_grad=True)\n",
            "tensor([[0.2217]], requires_grad=True)\n",
            "tensor([[0.2221]], requires_grad=True)\n",
            "tensor([[0.2232]], requires_grad=True)\n",
            "tensor([[0.2218]], requires_grad=True)\n",
            "tensor([[0.2219]], requires_grad=True)\n",
            "tensor([[0.2224]], requires_grad=True)\n",
            "tensor([[0.2206]], requires_grad=True)\n",
            "tensor([[0.2230]], requires_grad=True)\n",
            "tensor([[0.2192]], requires_grad=True)\n",
            "tensor([[0.2198]], requires_grad=True)\n",
            "tensor([[0.2213]], requires_grad=True)\n",
            "tensor([[0.2215]], requires_grad=True)\n",
            "tensor([[0.2136]], requires_grad=True)\n",
            "tensor([[0.2136]], requires_grad=True)\n",
            "tensor([[0.2151]], requires_grad=True)\n",
            "tensor([[0.2075]], requires_grad=True)\n",
            "tensor([[0.2044]], requires_grad=True)\n",
            "tensor([[0.2053]], requires_grad=True)\n",
            "tensor([[0.2068]], requires_grad=True)\n",
            "tensor([[0.2058]], requires_grad=True)\n",
            "tensor([[0.2076]], requires_grad=True)\n",
            "tensor([[0.2129]], requires_grad=True)\n",
            "tensor([[0.2107]], requires_grad=True)\n",
            "tensor([[0.2114]], requires_grad=True)\n",
            "tensor([[0.2114]], requires_grad=True)\n",
            "tensor([[0.2100]], requires_grad=True)\n",
            "tensor([[0.2035]], requires_grad=True)\n",
            "tensor([[0.1932]], requires_grad=True)\n",
            "tensor([[0.1831]], requires_grad=True)\n",
            "tensor([[0.1859]], requires_grad=True)\n",
            "tensor([[0.1948]], requires_grad=True)\n",
            "tensor([[0.1971]], requires_grad=True)\n",
            "tensor([[0.1913]], requires_grad=True)\n",
            "tensor([[0.1953]], requires_grad=True)\n",
            "tensor([[0.2025]], requires_grad=True)\n",
            "tensor([[0.2087]], requires_grad=True)\n",
            "tensor([[0.2085]], requires_grad=True)\n",
            "tensor([[0.2108]], requires_grad=True)\n",
            "tensor([[0.2120]], requires_grad=True)\n",
            "tensor([[0.2133]], requires_grad=True)\n",
            "tensor([[0.2143]], requires_grad=True)\n",
            "tensor([[0.2136]], requires_grad=True)\n",
            "tensor([[0.2148]], requires_grad=True)\n",
            "tensor([[0.2161]], requires_grad=True)\n",
            "tensor([[0.2177]], requires_grad=True)\n",
            "tensor([[0.2171]], requires_grad=True)\n",
            "tensor([[0.2202]], requires_grad=True)\n",
            "tensor([[0.2149]], requires_grad=True)\n",
            "tensor([[0.2139]], requires_grad=True)\n",
            "tensor([[0.2106]], requires_grad=True)\n",
            "tensor([[0.2142]], requires_grad=True)\n",
            "tensor([[0.2136]], requires_grad=True)\n",
            "tensor([[0.2162]], requires_grad=True)\n",
            "tensor([[0.2139]], requires_grad=True)\n",
            "tensor([[0.2148]], requires_grad=True)\n",
            "tensor([[0.2148]], requires_grad=True)\n",
            "tensor([[0.2153]], requires_grad=True)\n",
            "tensor([[0.2124]], requires_grad=True)\n",
            "tensor([[0.2148]], requires_grad=True)\n",
            "tensor([[0.2156]], requires_grad=True)\n",
            "tensor([[0.2163]], requires_grad=True)\n",
            "tensor([[0.2182]], requires_grad=True)\n",
            "tensor([[0.2202]], requires_grad=True)\n",
            "tensor([[0.2216]], requires_grad=True)\n",
            "tensor([[0.2239]], requires_grad=True)\n",
            "tensor([[0.2264]], requires_grad=True)\n",
            "tensor([[0.2217]], requires_grad=True)\n",
            "tensor([[0.2177]], requires_grad=True)\n",
            "tensor([[0.2180]], requires_grad=True)\n",
            "tensor([[0.2192]], requires_grad=True)\n",
            "tensor([[0.2116]], requires_grad=True)\n",
            "tensor([[0.2106]], requires_grad=True)\n",
            "tensor([[0.2146]], requires_grad=True)\n",
            "tensor([[0.2161]], requires_grad=True)\n",
            "tensor([[0.2200]], requires_grad=True)\n",
            "tensor([[0.2130]], requires_grad=True)\n",
            "tensor([[0.2076]], requires_grad=True)\n",
            "tensor([[0.2090]], requires_grad=True)\n",
            "tensor([[0.2072]], requires_grad=True)\n",
            "tensor([[0.2082]], requires_grad=True)\n",
            "tensor([[0.2092]], requires_grad=True)\n",
            "tensor([[0.2085]], requires_grad=True)\n",
            "tensor([[0.2085]], requires_grad=True)\n",
            "tensor([[0.2085]], requires_grad=True)\n",
            "tensor([[0.2106]], requires_grad=True)\n",
            "tensor([[0.2117]], requires_grad=True)\n",
            "tensor([[0.2118]], requires_grad=True)\n",
            "tensor([[0.2069]], requires_grad=True)\n",
            "tensor([[0.2087]], requires_grad=True)\n",
            "tensor([[0.2295]], requires_grad=True)\n",
            "tensor([[0.2321]], requires_grad=True)\n",
            "tensor([[0.2316]], requires_grad=True)\n",
            "tensor([[0.2318]], requires_grad=True)\n",
            "tensor([[0.2269]], requires_grad=True)\n",
            "tensor([[0.2277]], requires_grad=True)\n",
            "tensor([[0.2282]], requires_grad=True)\n",
            "tensor([[0.2266]], requires_grad=True)\n",
            "tensor([[0.2267]], requires_grad=True)\n",
            "tensor([[0.2269]], requires_grad=True)\n",
            "tensor([[0.2269]], requires_grad=True)\n",
            "tensor([[0.2259]], requires_grad=True)\n",
            "tensor([[0.2196]], requires_grad=True)\n",
            "tensor([[0.2207]], requires_grad=True)\n",
            "tensor([[0.2225]], requires_grad=True)\n",
            "tensor([[0.2197]], requires_grad=True)\n",
            "tensor([[0.2187]], requires_grad=True)\n",
            "tensor([[0.2196]], requires_grad=True)\n",
            "tensor([[0.2203]], requires_grad=True)\n",
            "tensor([[0.2192]], requires_grad=True)\n",
            "tensor([[0.2212]], requires_grad=True)\n",
            "tensor([[0.2174]], requires_grad=True)\n",
            "tensor([[0.2164]], requires_grad=True)\n",
            "tensor([[0.2149]], requires_grad=True)\n",
            "tensor([[0.2159]], requires_grad=True)\n",
            "tensor([[0.2157]], requires_grad=True)\n",
            "tensor([[0.2138]], requires_grad=True)\n",
            "tensor([[0.2115]], requires_grad=True)\n",
            "tensor([[0.2118]], requires_grad=True)\n",
            "tensor([[0.2130]], requires_grad=True)\n",
            "tensor([[0.2033]], requires_grad=True)\n",
            "tensor([[0.2065]], requires_grad=True)\n",
            "tensor([[0.2011]], requires_grad=True)\n",
            "tensor([[0.1932]], requires_grad=True)\n",
            "tensor([[0.1953]], requires_grad=True)\n",
            "tensor([[0.1976]], requires_grad=True)\n",
            "tensor([[0.2005]], requires_grad=True)\n",
            "tensor([[0.2085]], requires_grad=True)\n",
            "tensor([[0.2152]], requires_grad=True)\n",
            "tensor([[0.2178]], requires_grad=True)\n",
            "tensor([[0.2188]], requires_grad=True)\n",
            "tensor([[0.2231]], requires_grad=True)\n",
            "tensor([[0.2246]], requires_grad=True)\n",
            "tensor([[0.2264]], requires_grad=True)\n",
            "tensor([[0.2236]], requires_grad=True)\n",
            "tensor([[0.2241]], requires_grad=True)\n",
            "tensor([[0.2277]], requires_grad=True)\n",
            "tensor([[0.2268]], requires_grad=True)\n",
            "tensor([[0.2252]], requires_grad=True)\n",
            "tensor([[0.2258]], requires_grad=True)\n",
            "tensor([[0.2242]], requires_grad=True)\n",
            "tensor([[0.2230]], requires_grad=True)\n",
            "tensor([[0.2255]], requires_grad=True)\n",
            "tensor([[0.2293]], requires_grad=True)\n",
            "tensor([[0.2287]], requires_grad=True)\n",
            "tensor([[0.2243]], requires_grad=True)\n",
            "tensor([[0.2272]], requires_grad=True)\n",
            "tensor([[0.2249]], requires_grad=True)\n",
            "tensor([[0.2197]], requires_grad=True)\n",
            "tensor([[0.2212]], requires_grad=True)\n",
            "tensor([[0.2214]], requires_grad=True)\n",
            "tensor([[0.2237]], requires_grad=True)\n",
            "tensor([[0.2104]], requires_grad=True)\n",
            "tensor([[0.2119]], requires_grad=True)\n",
            "tensor([[0.2138]], requires_grad=True)\n",
            "tensor([[0.2134]], requires_grad=True)\n",
            "tensor([[0.2102]], requires_grad=True)\n",
            "tensor([[0.2075]], requires_grad=True)\n",
            "tensor([[0.2100]], requires_grad=True)\n",
            "tensor([[0.2072]], requires_grad=True)\n",
            "tensor([[0.2041]], requires_grad=True)\n",
            "tensor([[0.2058]], requires_grad=True)\n",
            "tensor([[0.2059]], requires_grad=True)\n",
            "tensor([[0.2064]], requires_grad=True)\n",
            "tensor([[0.2066]], requires_grad=True)\n",
            "tensor([[0.2082]], requires_grad=True)\n",
            "tensor([[0.2012]], requires_grad=True)\n",
            "tensor([[0.1969]], requires_grad=True)\n",
            "tensor([[0.1998]], requires_grad=True)\n",
            "tensor([[0.2000]], requires_grad=True)\n",
            "tensor([[0.2050]], requires_grad=True)\n",
            "tensor([[0.1990]], requires_grad=True)\n",
            "tensor([[0.2058]], requires_grad=True)\n",
            "tensor([[0.2087]], requires_grad=True)\n",
            "tensor([[0.2099]], requires_grad=True)\n",
            "tensor([[0.2127]], requires_grad=True)\n",
            "tensor([[0.2149]], requires_grad=True)\n",
            "tensor([[0.2137]], requires_grad=True)\n",
            "tensor([[0.2048]], requires_grad=True)\n",
            "tensor([[0.1995]], requires_grad=True)\n",
            "tensor([[0.2026]], requires_grad=True)\n",
            "tensor([[0.1972]], requires_grad=True)\n",
            "tensor([[0.2008]], requires_grad=True)\n",
            "tensor([[0.2027]], requires_grad=True)\n",
            "tensor([[0.2054]], requires_grad=True)\n",
            "tensor([[0.2066]], requires_grad=True)\n",
            "tensor([[0.2097]], requires_grad=True)\n",
            "tensor([[0.2114]], requires_grad=True)\n",
            "tensor([[0.2137]], requires_grad=True)\n",
            "tensor([[0.2123]], requires_grad=True)\n",
            "tensor([[0.2119]], requires_grad=True)\n",
            "tensor([[0.2064]], requires_grad=True)\n",
            "tensor([[0.2100]], requires_grad=True)\n",
            "tensor([[0.2063]], requires_grad=True)\n",
            "tensor([[0.2079]], requires_grad=True)\n",
            "tensor([[0.2107]], requires_grad=True)\n",
            "tensor([[0.2128]], requires_grad=True)\n",
            "tensor([[0.2135]], requires_grad=True)\n",
            "tensor([[0.2147]], requires_grad=True)\n",
            "tensor([[0.2169]], requires_grad=True)\n",
            "tensor([[0.2167]], requires_grad=True)\n",
            "tensor([[0.2179]], requires_grad=True)\n",
            "tensor([[0.2183]], requires_grad=True)\n",
            "tensor([[0.2208]], requires_grad=True)\n",
            "tensor([[0.2215]], requires_grad=True)\n",
            "tensor([[0.2218]], requires_grad=True)\n",
            "tensor([[0.2231]], requires_grad=True)\n",
            "tensor([[0.2248]], requires_grad=True)\n",
            "tensor([[0.2252]], requires_grad=True)\n",
            "tensor([[0.2254]], requires_grad=True)\n",
            "tensor([[0.2271]], requires_grad=True)\n",
            "tensor([[0.2301]], requires_grad=True)\n",
            "tensor([[0.2314]], requires_grad=True)\n",
            "tensor([[0.2323]], requires_grad=True)\n",
            "tensor([[0.2317]], requires_grad=True)\n",
            "tensor([[0.2321]], requires_grad=True)\n",
            "tensor([[0.2330]], requires_grad=True)\n",
            "tensor([[0.2329]], requires_grad=True)\n",
            "tensor([[0.2334]], requires_grad=True)\n",
            "tensor([[0.2346]], requires_grad=True)\n",
            "tensor([[0.2356]], requires_grad=True)\n",
            "tensor([[0.2324]], requires_grad=True)\n",
            "tensor([[0.2338]], requires_grad=True)\n",
            "tensor([[0.2260]], requires_grad=True)\n",
            "tensor([[0.2268]], requires_grad=True)\n",
            "tensor([[0.2299]], requires_grad=True)\n",
            "tensor([[0.2302]], requires_grad=True)\n",
            "tensor([[0.2292]], requires_grad=True)\n",
            "tensor([[0.2320]], requires_grad=True)\n",
            "tensor([[0.2345]], requires_grad=True)\n",
            "tensor([[0.2394]], requires_grad=True)\n",
            "tensor([[0.2420]], requires_grad=True)\n",
            "tensor([[0.2430]], requires_grad=True)\n",
            "tensor([[0.2426]], requires_grad=True)\n",
            "tensor([[0.2404]], requires_grad=True)\n",
            "tensor([[0.2279]], requires_grad=True)\n",
            "tensor([[0.2288]], requires_grad=True)\n",
            "tensor([[0.2286]], requires_grad=True)\n",
            "tensor([[0.2297]], requires_grad=True)\n",
            "tensor([[0.2297]], requires_grad=True)\n",
            "tensor([[0.2198]], requires_grad=True)\n",
            "tensor([[0.2204]], requires_grad=True)\n",
            "tensor([[0.2215]], requires_grad=True)\n",
            "tensor([[0.2222]], requires_grad=True)\n",
            "tensor([[0.2141]], requires_grad=True)\n",
            "tensor([[0.2164]], requires_grad=True)\n",
            "tensor([[0.2249]], requires_grad=True)\n",
            "tensor([[0.2245]], requires_grad=True)\n",
            "tensor([[0.2248]], requires_grad=True)\n",
            "tensor([[0.2248]], requires_grad=True)\n",
            "tensor([[0.2265]], requires_grad=True)\n",
            "tensor([[0.2095]], requires_grad=True)\n",
            "tensor([[0.2112]], requires_grad=True)\n",
            "tensor([[0.2123]], requires_grad=True)\n",
            "tensor([[0.2139]], requires_grad=True)\n",
            "tensor([[0.2134]], requires_grad=True)\n",
            "tensor([[0.2156]], requires_grad=True)\n",
            "tensor([[0.2185]], requires_grad=True)\n",
            "tensor([[0.2195]], requires_grad=True)\n",
            "tensor([[0.2193]], requires_grad=True)\n",
            "tensor([[0.2178]], requires_grad=True)\n",
            "tensor([[0.2170]], requires_grad=True)\n",
            "tensor([[0.2183]], requires_grad=True)\n",
            "tensor([[0.2133]], requires_grad=True)\n",
            "tensor([[0.2142]], requires_grad=True)\n",
            "tensor([[0.2127]], requires_grad=True)\n",
            "tensor([[0.2143]], requires_grad=True)\n",
            "tensor([[0.2190]], requires_grad=True)\n",
            "tensor([[0.2175]], requires_grad=True)\n",
            "tensor([[0.2196]], requires_grad=True)\n",
            "tensor([[0.2121]], requires_grad=True)\n",
            "tensor([[0.2132]], requires_grad=True)\n",
            "tensor([[0.2113]], requires_grad=True)\n",
            "tensor([[0.2073]], requires_grad=True)\n",
            "tensor([[0.2086]], requires_grad=True)\n",
            "tensor([[0.2120]], requires_grad=True)\n",
            "tensor([[0.2051]], requires_grad=True)\n",
            "tensor([[0.2061]], requires_grad=True)\n",
            "tensor([[0.2123]], requires_grad=True)\n",
            "tensor([[0.2136]], requires_grad=True)\n",
            "tensor([[0.2040]], requires_grad=True)\n",
            "tensor([[0.1954]], requires_grad=True)\n",
            "tensor([[0.1980]], requires_grad=True)\n",
            "tensor([[0.1972]], requires_grad=True)\n",
            "tensor([[0.1974]], requires_grad=True)\n",
            "tensor([[0.2001]], requires_grad=True)\n",
            "tensor([[0.1894]], requires_grad=True)\n",
            "tensor([[0.1945]], requires_grad=True)\n",
            "tensor([[0.1928]], requires_grad=True)\n",
            "tensor([[0.1953]], requires_grad=True)\n",
            "tensor([[0.1986]], requires_grad=True)\n",
            "tensor([[0.2020]], requires_grad=True)\n",
            "tensor([[0.2010]], requires_grad=True)\n",
            "tensor([[0.2029]], requires_grad=True)\n",
            "tensor([[0.2064]], requires_grad=True)\n",
            "tensor([[0.2074]], requires_grad=True)\n",
            "tensor([[0.2097]], requires_grad=True)\n",
            "tensor([[0.2100]], requires_grad=True)\n",
            "tensor([[0.2101]], requires_grad=True)\n",
            "tensor([[0.2150]], requires_grad=True)\n",
            "tensor([[0.2095]], requires_grad=True)\n",
            "tensor([[0.2089]], requires_grad=True)\n",
            "tensor([[0.2098]], requires_grad=True)\n",
            "tensor([[0.2101]], requires_grad=True)\n",
            "tensor([[0.2117]], requires_grad=True)\n",
            "tensor([[0.2175]], requires_grad=True)\n",
            "tensor([[0.2206]], requires_grad=True)\n",
            "tensor([[0.2155]], requires_grad=True)\n",
            "tensor([[0.2163]], requires_grad=True)\n",
            "tensor([[0.2155]], requires_grad=True)\n",
            "tensor([[0.1988]], requires_grad=True)\n",
            "tensor([[0.2056]], requires_grad=True)\n",
            "tensor([[0.2073]], requires_grad=True)\n",
            "tensor([[0.2050]], requires_grad=True)\n",
            "tensor([[0.2033]], requires_grad=True)\n",
            "tensor([[0.2110]], requires_grad=True)\n",
            "tensor([[0.2066]], requires_grad=True)\n",
            "tensor([[0.2077]], requires_grad=True)\n",
            "tensor([[0.2089]], requires_grad=True)\n",
            "tensor([[0.2097]], requires_grad=True)\n",
            "tensor([[0.2110]], requires_grad=True)\n",
            "tensor([[0.2089]], requires_grad=True)\n",
            "tensor([[0.2093]], requires_grad=True)\n",
            "tensor([[0.2114]], requires_grad=True)\n",
            "tensor([[0.2104]], requires_grad=True)\n",
            "tensor([[0.2094]], requires_grad=True)\n",
            "tensor([[0.2135]], requires_grad=True)\n",
            "tensor([[0.2116]], requires_grad=True)\n",
            "tensor([[0.2117]], requires_grad=True)\n",
            "tensor([[0.2130]], requires_grad=True)\n",
            "tensor([[0.2065]], requires_grad=True)\n",
            "tensor([[0.2084]], requires_grad=True)\n",
            "tensor([[0.2042]], requires_grad=True)\n",
            "tensor([[0.2063]], requires_grad=True)\n",
            "tensor([[0.2069]], requires_grad=True)\n",
            "tensor([[0.2072]], requires_grad=True)\n",
            "tensor([[0.2065]], requires_grad=True)\n",
            "tensor([[0.2088]], requires_grad=True)\n",
            "tensor([[0.2026]], requires_grad=True)\n",
            "tensor([[0.2041]], requires_grad=True)\n",
            "tensor([[0.2089]], requires_grad=True)\n",
            "tensor([[0.2099]], requires_grad=True)\n",
            "tensor([[0.2070]], requires_grad=True)\n",
            "tensor([[0.2095]], requires_grad=True)\n",
            "tensor([[0.2034]], requires_grad=True)\n",
            "tensor([[0.2095]], requires_grad=True)\n",
            "tensor([[0.2111]], requires_grad=True)\n",
            "tensor([[0.2103]], requires_grad=True)\n",
            "tensor([[0.2114]], requires_grad=True)\n",
            "tensor([[0.2121]], requires_grad=True)\n",
            "tensor([[0.2138]], requires_grad=True)\n",
            "tensor([[0.2137]], requires_grad=True)\n",
            "tensor([[0.2144]], requires_grad=True)\n",
            "tensor([[0.2155]], requires_grad=True)\n",
            "tensor([[0.2149]], requires_grad=True)\n",
            "tensor([[0.2176]], requires_grad=True)\n",
            "tensor([[0.2201]], requires_grad=True)\n",
            "tensor([[0.2143]], requires_grad=True)\n",
            "tensor([[0.2129]], requires_grad=True)\n",
            "tensor([[0.2153]], requires_grad=True)\n",
            "tensor([[0.2148]], requires_grad=True)\n",
            "tensor([[0.2129]], requires_grad=True)\n",
            "tensor([[0.2119]], requires_grad=True)\n",
            "tensor([[0.2114]], requires_grad=True)\n",
            "tensor([[0.2125]], requires_grad=True)\n",
            "tensor([[0.2101]], requires_grad=True)\n",
            "tensor([[0.2126]], requires_grad=True)\n",
            "tensor([[0.2164]], requires_grad=True)\n",
            "tensor([[0.2147]], requires_grad=True)\n",
            "tensor([[0.2139]], requires_grad=True)\n",
            "tensor([[0.2155]], requires_grad=True)\n",
            "tensor([[0.2109]], requires_grad=True)\n",
            "tensor([[0.2110]], requires_grad=True)\n",
            "tensor([[0.1981]], requires_grad=True)\n",
            "tensor([[0.2001]], requires_grad=True)\n",
            "tensor([[0.2013]], requires_grad=True)\n",
            "tensor([[0.2045]], requires_grad=True)\n",
            "tensor([[0.2056]], requires_grad=True)\n",
            "tensor([[0.2050]], requires_grad=True)\n",
            "tensor([[0.2066]], requires_grad=True)\n",
            "tensor([[0.2032]], requires_grad=True)\n",
            "tensor([[0.2058]], requires_grad=True)\n",
            "tensor([[0.2039]], requires_grad=True)\n",
            "tensor([[0.2040]], requires_grad=True)\n",
            "tensor([[0.2037]], requires_grad=True)\n",
            "tensor([[0.2046]], requires_grad=True)\n",
            "tensor([[0.2066]], requires_grad=True)\n",
            "tensor([[0.2081]], requires_grad=True)\n",
            "tensor([[0.2094]], requires_grad=True)\n",
            "tensor([[0.2119]], requires_grad=True)\n",
            "tensor([[0.2207]], requires_grad=True)\n",
            "tensor([[0.2152]], requires_grad=True)\n",
            "tensor([[0.2167]], requires_grad=True)\n",
            "tensor([[0.2038]], requires_grad=True)\n",
            "tensor([[0.2054]], requires_grad=True)\n",
            "tensor([[0.2058]], requires_grad=True)\n",
            "tensor([[0.2048]], requires_grad=True)\n",
            "tensor([[0.2034]], requires_grad=True)\n",
            "tensor([[0.2018]], requires_grad=True)\n",
            "tensor([[0.2041]], requires_grad=True)\n",
            "tensor([[0.2079]], requires_grad=True)\n",
            "tensor([[0.2069]], requires_grad=True)\n",
            "tensor([[0.2082]], requires_grad=True)\n",
            "tensor([[0.2089]], requires_grad=True)\n",
            "tensor([[0.2102]], requires_grad=True)\n",
            "tensor([[0.2121]], requires_grad=True)\n",
            "tensor([[0.2064]], requires_grad=True)\n",
            "tensor([[0.2075]], requires_grad=True)\n",
            "tensor([[0.2098]], requires_grad=True)\n",
            "tensor([[0.2114]], requires_grad=True)\n",
            "tensor([[0.2126]], requires_grad=True)\n",
            "tensor([[0.2144]], requires_grad=True)\n",
            "tensor([[0.2112]], requires_grad=True)\n",
            "tensor([[0.2097]], requires_grad=True)\n",
            "tensor([[0.2107]], requires_grad=True)\n",
            "tensor([[0.2102]], requires_grad=True)\n",
            "tensor([[0.2072]], requires_grad=True)\n",
            "tensor([[0.2093]], requires_grad=True)\n",
            "tensor([[0.2100]], requires_grad=True)\n",
            "tensor([[0.2125]], requires_grad=True)\n",
            "tensor([[0.2095]], requires_grad=True)\n",
            "tensor([[0.2104]], requires_grad=True)\n",
            "tensor([[0.2120]], requires_grad=True)\n",
            "tensor([[0.2140]], requires_grad=True)\n",
            "tensor([[0.2132]], requires_grad=True)\n",
            "tensor([[0.2158]], requires_grad=True)\n",
            "tensor([[0.2124]], requires_grad=True)\n",
            "tensor([[0.2139]], requires_grad=True)\n",
            "tensor([[0.2089]], requires_grad=True)\n",
            "tensor([[0.2083]], requires_grad=True)\n",
            "tensor([[0.2023]], requires_grad=True)\n",
            "tensor([[0.2055]], requires_grad=True)\n",
            "tensor([[0.2073]], requires_grad=True)\n",
            "tensor([[0.2077]], requires_grad=True)\n",
            "tensor([[0.2112]], requires_grad=True)\n",
            "tensor([[0.2148]], requires_grad=True)\n",
            "tensor([[0.2173]], requires_grad=True)\n",
            "tensor([[0.2186]], requires_grad=True)\n",
            "tensor([[0.2226]], requires_grad=True)\n",
            "tensor([[0.2224]], requires_grad=True)\n",
            "tensor([[0.2208]], requires_grad=True)\n",
            "tensor([[0.2239]], requires_grad=True)\n",
            "tensor([[0.2215]], requires_grad=True)\n",
            "tensor([[0.2228]], requires_grad=True)\n",
            "tensor([[0.2236]], requires_grad=True)\n",
            "tensor([[0.2228]], requires_grad=True)\n",
            "tensor([[0.2243]], requires_grad=True)\n",
            "tensor([[0.2228]], requires_grad=True)\n",
            "tensor([[0.2227]], requires_grad=True)\n",
            "tensor([[0.2174]], requires_grad=True)\n",
            "tensor([[0.2190]], requires_grad=True)\n",
            "tensor([[0.2211]], requires_grad=True)\n",
            "tensor([[0.2213]], requires_grad=True)\n",
            "tensor([[0.2221]], requires_grad=True)\n",
            "tensor([[0.2239]], requires_grad=True)\n",
            "tensor([[0.2252]], requires_grad=True)\n",
            "tensor([[0.2257]], requires_grad=True)\n",
            "tensor([[0.2263]], requires_grad=True)\n",
            "tensor([[0.2211]], requires_grad=True)\n",
            "tensor([[0.2223]], requires_grad=True)\n",
            "tensor([[0.2234]], requires_grad=True)\n",
            "tensor([[0.2231]], requires_grad=True)\n",
            "tensor([[0.2275]], requires_grad=True)\n",
            "tensor([[0.2276]], requires_grad=True)\n",
            "tensor([[0.2252]], requires_grad=True)\n",
            "tensor([[0.2201]], requires_grad=True)\n",
            "tensor([[0.2206]], requires_grad=True)\n",
            "tensor([[0.2175]], requires_grad=True)\n",
            "tensor([[0.2153]], requires_grad=True)\n",
            "tensor([[0.2188]], requires_grad=True)\n",
            "tensor([[0.2190]], requires_grad=True)\n",
            "tensor([[0.2214]], requires_grad=True)\n",
            "tensor([[0.2202]], requires_grad=True)\n",
            "tensor([[0.2102]], requires_grad=True)\n",
            "tensor([[0.2100]], requires_grad=True)\n",
            "tensor([[0.2108]], requires_grad=True)\n",
            "tensor([[0.2095]], requires_grad=True)\n",
            "tensor([[0.2080]], requires_grad=True)\n",
            "tensor([[0.2048]], requires_grad=True)\n",
            "tensor([[0.1997]], requires_grad=True)\n",
            "tensor([[0.2017]], requires_grad=True)\n",
            "tensor([[0.2065]], requires_grad=True)\n",
            "tensor([[0.2097]], requires_grad=True)\n",
            "tensor([[0.2109]], requires_grad=True)\n",
            "tensor([[0.2124]], requires_grad=True)\n",
            "tensor([[0.2153]], requires_grad=True)\n",
            "tensor([[0.2167]], requires_grad=True)\n",
            "tensor([[0.2198]], requires_grad=True)\n",
            "tensor([[0.2218]], requires_grad=True)\n",
            "tensor([[0.2247]], requires_grad=True)\n",
            "tensor([[0.2252]], requires_grad=True)\n",
            "tensor([[0.2251]], requires_grad=True)\n",
            "tensor([[0.2265]], requires_grad=True)\n",
            "tensor([[0.2269]], requires_grad=True)\n",
            "tensor([[0.2270]], requires_grad=True)\n",
            "tensor([[0.2279]], requires_grad=True)\n",
            "tensor([[0.2284]], requires_grad=True)\n",
            "tensor([[0.2301]], requires_grad=True)\n",
            "tensor([[0.2312]], requires_grad=True)\n",
            "tensor([[0.2314]], requires_grad=True)\n",
            "tensor([[0.2335]], requires_grad=True)\n",
            "tensor([[0.2340]], requires_grad=True)\n",
            "tensor([[0.2347]], requires_grad=True)\n",
            "tensor([[0.2355]], requires_grad=True)\n",
            "tensor([[0.2369]], requires_grad=True)\n",
            "tensor([[0.2381]], requires_grad=True)\n",
            "tensor([[0.2389]], requires_grad=True)\n",
            "tensor([[0.2359]], requires_grad=True)\n",
            "tensor([[0.2358]], requires_grad=True)\n",
            "tensor([[0.2388]], requires_grad=True)\n",
            "tensor([[0.2383]], requires_grad=True)\n",
            "tensor([[0.2333]], requires_grad=True)\n",
            "tensor([[0.2328]], requires_grad=True)\n",
            "tensor([[0.2334]], requires_grad=True)\n",
            "tensor([[0.2347]], requires_grad=True)\n",
            "tensor([[0.2351]], requires_grad=True)\n",
            "tensor([[0.2362]], requires_grad=True)\n",
            "tensor([[0.2374]], requires_grad=True)\n",
            "tensor([[0.2360]], requires_grad=True)\n",
            "tensor([[0.2359]], requires_grad=True)\n",
            "tensor([[0.2250]], requires_grad=True)\n",
            "tensor([[0.2257]], requires_grad=True)\n",
            "tensor([[0.2266]], requires_grad=True)\n",
            "tensor([[0.2194]], requires_grad=True)\n",
            "tensor([[0.2194]], requires_grad=True)\n",
            "tensor([[0.2187]], requires_grad=True)\n",
            "tensor([[0.2199]], requires_grad=True)\n",
            "tensor([[0.2198]], requires_grad=True)\n",
            "tensor([[0.2211]], requires_grad=True)\n",
            "tensor([[0.2213]], requires_grad=True)\n",
            "tensor([[0.2180]], requires_grad=True)\n",
            "tensor([[0.2185]], requires_grad=True)\n",
            "tensor([[0.2191]], requires_grad=True)\n",
            "tensor([[0.2199]], requires_grad=True)\n",
            "tensor([[0.2151]], requires_grad=True)\n",
            "tensor([[0.2187]], requires_grad=True)\n",
            "tensor([[0.2198]], requires_grad=True)\n",
            "tensor([[0.2186]], requires_grad=True)\n",
            "tensor([[0.2191]], requires_grad=True)\n",
            "tensor([[0.2205]], requires_grad=True)\n",
            "tensor([[0.2218]], requires_grad=True)\n",
            "tensor([[0.2095]], requires_grad=True)\n",
            "tensor([[0.2090]], requires_grad=True)\n",
            "tensor([[0.2031]], requires_grad=True)\n",
            "tensor([[0.2054]], requires_grad=True)\n",
            "tensor([[0.2048]], requires_grad=True)\n",
            "tensor([[0.2043]], requires_grad=True)\n",
            "tensor([[0.2057]], requires_grad=True)\n",
            "tensor([[0.1985]], requires_grad=True)\n",
            "tensor([[0.2017]], requires_grad=True)\n",
            "tensor([[0.2022]], requires_grad=True)\n",
            "tensor([[0.2063]], requires_grad=True)\n",
            "tensor([[0.2095]], requires_grad=True)\n",
            "tensor([[0.2074]], requires_grad=True)\n",
            "tensor([[0.2079]], requires_grad=True)\n",
            "tensor([[0.2077]], requires_grad=True)\n",
            "tensor([[0.2084]], requires_grad=True)\n",
            "tensor([[0.2059]], requires_grad=True)\n",
            "tensor([[0.2097]], requires_grad=True)\n",
            "tensor([[0.2099]], requires_grad=True)\n",
            "tensor([[0.2092]], requires_grad=True)\n",
            "tensor([[0.2034]], requires_grad=True)\n",
            "tensor([[0.2046]], requires_grad=True)\n",
            "tensor([[0.2046]], requires_grad=True)\n",
            "tensor([[0.2069]], requires_grad=True)\n",
            "tensor([[0.2092]], requires_grad=True)\n",
            "tensor([[0.2092]], requires_grad=True)\n",
            "tensor([[0.2102]], requires_grad=True)\n",
            "tensor([[0.2121]], requires_grad=True)\n",
            "tensor([[0.2103]], requires_grad=True)\n",
            "tensor([[0.2110]], requires_grad=True)\n",
            "tensor([[0.2091]], requires_grad=True)\n",
            "tensor([[0.2109]], requires_grad=True)\n",
            "tensor([[0.2160]], requires_grad=True)\n",
            "tensor([[0.2170]], requires_grad=True)\n",
            "tensor([[0.2122]], requires_grad=True)\n",
            "tensor([[0.2133]], requires_grad=True)\n",
            "tensor([[0.2100]], requires_grad=True)\n",
            "tensor([[0.2112]], requires_grad=True)\n",
            "tensor([[0.2147]], requires_grad=True)\n",
            "tensor([[0.2155]], requires_grad=True)\n",
            "tensor([[0.2136]], requires_grad=True)\n",
            "tensor([[0.2164]], requires_grad=True)\n",
            "tensor([[0.2187]], requires_grad=True)\n",
            "tensor([[0.2186]], requires_grad=True)\n",
            "tensor([[0.2192]], requires_grad=True)\n",
            "tensor([[0.2135]], requires_grad=True)\n",
            "tensor([[0.2137]], requires_grad=True)\n",
            "tensor([[0.2117]], requires_grad=True)\n",
            "tensor([[0.2131]], requires_grad=True)\n",
            "tensor([[0.2140]], requires_grad=True)\n",
            "tensor([[0.2134]], requires_grad=True)\n",
            "tensor([[0.2136]], requires_grad=True)\n",
            "tensor([[0.2140]], requires_grad=True)\n",
            "tensor([[0.2146]], requires_grad=True)\n",
            "tensor([[0.2139]], requires_grad=True)\n",
            "tensor([[0.2135]], requires_grad=True)\n",
            "tensor([[0.2078]], requires_grad=True)\n",
            "tensor([[0.2091]], requires_grad=True)\n",
            "tensor([[0.2105]], requires_grad=True)\n",
            "tensor([[0.2143]], requires_grad=True)\n",
            "tensor([[0.2142]], requires_grad=True)\n",
            "tensor([[0.2151]], requires_grad=True)\n",
            "tensor([[0.2104]], requires_grad=True)\n",
            "tensor([[0.2004]], requires_grad=True)\n",
            "tensor([[0.2027]], requires_grad=True)\n",
            "tensor([[0.2041]], requires_grad=True)\n",
            "tensor([[0.2056]], requires_grad=True)\n",
            "tensor([[0.2072]], requires_grad=True)\n",
            "tensor([[0.2048]], requires_grad=True)\n",
            "tensor([[0.2055]], requires_grad=True)\n",
            "tensor([[0.2075]], requires_grad=True)\n",
            "tensor([[0.2049]], requires_grad=True)\n",
            "tensor([[0.2050]], requires_grad=True)\n",
            "tensor([[0.2125]], requires_grad=True)\n",
            "tensor([[0.2080]], requires_grad=True)\n",
            "tensor([[0.2098]], requires_grad=True)\n",
            "tensor([[0.2121]], requires_grad=True)\n",
            "tensor([[0.2131]], requires_grad=True)\n",
            "tensor([[0.2075]], requires_grad=True)\n",
            "tensor([[0.2056]], requires_grad=True)\n",
            "tensor([[0.2062]], requires_grad=True)\n",
            "tensor([[0.2070]], requires_grad=True)\n",
            "tensor([[0.2083]], requires_grad=True)\n",
            "tensor([[0.2088]], requires_grad=True)\n",
            "tensor([[0.2128]], requires_grad=True)\n",
            "tensor([[0.2128]], requires_grad=True)\n",
            "tensor([[0.2137]], requires_grad=True)\n",
            "tensor([[0.2141]], requires_grad=True)\n",
            "tensor([[0.2172]], requires_grad=True)\n",
            "tensor([[0.2114]], requires_grad=True)\n",
            "tensor([[0.2123]], requires_grad=True)\n",
            "tensor([[0.2125]], requires_grad=True)\n",
            "tensor([[0.2109]], requires_grad=True)\n",
            "tensor([[0.2152]], requires_grad=True)\n",
            "tensor([[0.2151]], requires_grad=True)\n",
            "tensor([[0.2158]], requires_grad=True)\n",
            "tensor([[0.2163]], requires_grad=True)\n",
            "tensor([[0.2175]], requires_grad=True)\n",
            "tensor([[0.2180]], requires_grad=True)\n",
            "tensor([[0.2200]], requires_grad=True)\n",
            "tensor([[0.2167]], requires_grad=True)\n",
            "tensor([[0.2170]], requires_grad=True)\n",
            "tensor([[0.2177]], requires_grad=True)\n",
            "tensor([[0.2180]], requires_grad=True)\n",
            "tensor([[0.2173]], requires_grad=True)\n",
            "tensor([[0.2169]], requires_grad=True)\n",
            "tensor([[0.2190]], requires_grad=True)\n",
            "tensor([[0.2219]], requires_grad=True)\n",
            "tensor([[0.2224]], requires_grad=True)\n",
            "tensor([[0.2232]], requires_grad=True)\n",
            "tensor([[0.2236]], requires_grad=True)\n",
            "tensor([[0.2247]], requires_grad=True)\n",
            "tensor([[0.2224]], requires_grad=True)\n",
            "tensor([[0.2232]], requires_grad=True)\n",
            "tensor([[0.2221]], requires_grad=True)\n",
            "tensor([[0.2204]], requires_grad=True)\n",
            "tensor([[0.2185]], requires_grad=True)\n",
            "tensor([[0.2186]], requires_grad=True)\n",
            "tensor([[0.2203]], requires_grad=True)\n",
            "tensor([[0.2135]], requires_grad=True)\n",
            "tensor([[0.2141]], requires_grad=True)\n",
            "tensor([[0.2154]], requires_grad=True)\n",
            "tensor([[0.2134]], requires_grad=True)\n",
            "tensor([[0.2139]], requires_grad=True)\n",
            "tensor([[0.2158]], requires_grad=True)\n",
            "tensor([[0.2163]], requires_grad=True)\n",
            "tensor([[0.2179]], requires_grad=True)\n",
            "tensor([[0.2186]], requires_grad=True)\n",
            "tensor([[0.2206]], requires_grad=True)\n",
            "tensor([[0.2136]], requires_grad=True)\n",
            "tensor([[0.2118]], requires_grad=True)\n",
            "tensor([[0.2086]], requires_grad=True)\n",
            "tensor([[0.2024]], requires_grad=True)\n",
            "tensor([[0.1981]], requires_grad=True)\n",
            "tensor([[0.1996]], requires_grad=True)\n",
            "tensor([[0.2059]], requires_grad=True)\n",
            "tensor([[0.2062]], requires_grad=True)\n",
            "tensor([[0.1998]], requires_grad=True)\n",
            "tensor([[0.1977]], requires_grad=True)\n",
            "tensor([[0.1992]], requires_grad=True)\n",
            "tensor([[0.2027]], requires_grad=True)\n",
            "tensor([[0.2049]], requires_grad=True)\n",
            "tensor([[0.2055]], requires_grad=True)\n"
          ],
          "name": "stdout"
        }
      ]
    },
    {
      "cell_type": "code",
      "metadata": {
        "id": "j7dSPF6cep7T",
        "colab": {
          "base_uri": "https://localhost:8080/"
        },
        "outputId": "70466792-e2f1-465f-a0db-b1c49bf9a064"
      },
      "source": [
        "p"
      ],
      "execution_count": null,
      "outputs": [
        {
          "output_type": "execute_result",
          "data": {
            "text/plain": [
              "tensor([[0.2055]], requires_grad=True)"
            ]
          },
          "metadata": {
            "tags": []
          },
          "execution_count": 61
        }
      ]
    },
    {
      "cell_type": "code",
      "metadata": {
        "id": "fw39yMETrvJN",
        "colab": {
          "base_uri": "https://localhost:8080/"
        },
        "outputId": "d44728c3-8de4-4c69-9886-1486b4a4817a"
      },
      "source": [
        "P.shape"
      ],
      "execution_count": null,
      "outputs": [
        {
          "output_type": "execute_result",
          "data": {
            "text/plain": [
              "(1000,)"
            ]
          },
          "metadata": {
            "tags": []
          },
          "execution_count": 62
        }
      ]
    },
    {
      "cell_type": "code",
      "metadata": {
        "id": "h73NhBJWvRd9",
        "colab": {
          "base_uri": "https://localhost:8080/",
          "height": 282
        },
        "outputId": "eb96a65c-cc89-4e7c-a1df-1fec9378cebf"
      },
      "source": [
        "plt.plot(P)"
      ],
      "execution_count": null,
      "outputs": [
        {
          "output_type": "execute_result",
          "data": {
            "text/plain": [
              "[<matplotlib.lines.Line2D at 0x7f3d21a48470>]"
            ]
          },
          "metadata": {
            "tags": []
          },
          "execution_count": 63
        },
        {
          "output_type": "display_data",
          "data": {
            "image/png": "[encoded data removed]",
            "text/plain": [
              "<Figure size 432x288 with 1 Axes>"
            ]
          },
          "metadata": {
            "tags": [],
            "needs_background": "light"
          }
        }
      ]
    },
    {
      "cell_type": "code",
      "metadata": {
        "id": "G1m2fCFFvR0c"
      },
      "source": [
        ""
      ],
      "execution_count": null,
      "outputs": []
    },
    {
      "cell_type": "code",
      "metadata": {
        "id": "-7yz5fspvR4Z"
      },
      "source": [
        ""
      ],
      "execution_count": null,
      "outputs": []
    },
    {
      "cell_type": "code",
      "metadata": {
        "id": "AtHy8H55vRbq"
      },
      "source": [
        ""
      ],
      "execution_count": null,
      "outputs": []
    },
    {
      "cell_type": "code",
      "metadata": {
        "id": "1GPHy01zvRZ1"
      },
      "source": [
        ""
      ],
      "execution_count": null,
      "outputs": []
    },
    {
      "cell_type": "code",
      "metadata": {
        "id": "-6B5t0bVvRXc"
      },
      "source": [
        ""
      ],
      "execution_count": null,
      "outputs": []
    },
    {
      "cell_type": "code",
      "metadata": {
        "id": "hsWsqhu5vRUx"
      },
      "source": [
        ""
      ],
      "execution_count": null,
      "outputs": []
    },
    {
      "cell_type": "code",
      "metadata": {
        "id": "WeecbHgdvRSO"
      },
      "source": [
        ""
      ],
      "execution_count": null,
      "outputs": []
    },
    {
      "cell_type": "code",
      "metadata": {
        "id": "Ronkzq-WvRQE",
        "colab": {
          "base_uri": "https://localhost:8080/",
          "height": 1000
        },
        "outputId": "49482b07-4cc0-4da8-e135-507c6dbf650c"
      },
      "source": [
        "!pip install wandb"
      ],
      "execution_count": null,
      "outputs": [
        {
          "output_type": "stream",
          "text": [
            "Collecting wandb\n",
            "\u001b[?25l  Downloading https://files.pythonhosted.org/packages/04/58/694b8a7cd58a9d58d4122fafc5469e57ce7e27ac371926c2efdae67ecc04/wandb-0.8.28-py2.py3-none-any.whl (1.4MB)\n",
            "\u001b[K     |████████████████████████████████| 1.4MB 2.8MB/s \n",
            "\u001b[?25hRequirement already satisfied: requests>=2.0.0 in /usr/local/lib/python3.6/dist-packages (from wandb) (2.21.0)\n",
            "Collecting docker-pycreds>=0.4.0\n",
            "  Downloading https://files.pythonhosted.org/packages/f5/e8/f6bd1eee09314e7e6dee49cbe2c5e22314ccdb38db16c9fc72d2fa80d054/docker_pycreds-0.4.0-py2.py3-none-any.whl\n",
            "Requirement already satisfied: python-dateutil>=2.6.1 in /usr/local/lib/python3.6/dist-packages (from wandb) (2.6.1)\n",
            "Collecting subprocess32>=3.5.3\n",
            "\u001b[?25l  Downloading https://files.pythonhosted.org/packages/32/c8/564be4d12629b912ea431f1a50eb8b3b9d00f1a0b1ceff17f266be190007/subprocess32-3.5.4.tar.gz (97kB)\n",
            "\u001b[K     |████████████████████████████████| 102kB 10.7MB/s \n",
            "\u001b[?25hCollecting configparser>=3.8.1\n",
            "  Downloading https://files.pythonhosted.org/packages/7a/2a/95ed0501cf5d8709490b1d3a3f9b5cf340da6c433f896bbe9ce08dbe6785/configparser-4.0.2-py2.py3-none-any.whl\n",
            "Requirement already satisfied: nvidia-ml-py3>=7.352.0 in /usr/local/lib/python3.6/dist-packages (from wandb) (7.352.0)\n",
            "Requirement already satisfied: psutil>=5.0.0 in /usr/local/lib/python3.6/dist-packages (from wandb) (5.4.8)\n",
            "Collecting GitPython>=1.0.0\n",
            "\u001b[?25l  Downloading https://files.pythonhosted.org/packages/d3/2f/6a366d56c9b1355b0880be9ea66b166cb3536392638d8d91413ec66305ad/GitPython-3.1.0-py3-none-any.whl (450kB)\n",
            "\u001b[K     |████████████████████████████████| 460kB 18.5MB/s \n",
            "\u001b[?25hCollecting sentry-sdk>=0.4.0\n",
            "\u001b[?25l  Downloading https://files.pythonhosted.org/packages/8e/e6/058c2dc4723b3647a8cf61385c61f284bfbd0d0657bc5623c22e9ef45a3c/sentry_sdk-0.14.2-py2.py3-none-any.whl (96kB)\n",
            "\u001b[K     |████████████████████████████████| 102kB 9.0MB/s \n",
            "\u001b[?25hCollecting gql==0.2.0\n",
            "  Downloading https://files.pythonhosted.org/packages/c4/6f/cf9a3056045518f06184e804bae89390eb706168349daa9dff8ac609962a/gql-0.2.0.tar.gz\n",
            "Requirement already satisfied: Click>=7.0 in /usr/local/lib/python3.6/dist-packages (from wandb) (7.0)\n",
            "Requirement already satisfied: six>=1.10.0 in /usr/local/lib/python3.6/dist-packages (from wandb) (1.12.0)\n",
            "Collecting watchdog>=0.8.3\n",
            "\u001b[?25l  Downloading https://files.pythonhosted.org/packages/73/c3/ed6d992006837e011baca89476a4bbffb0a91602432f73bd4473816c76e2/watchdog-0.10.2.tar.gz (95kB)\n",
            "\u001b[K     |████████████████████████████████| 102kB 9.1MB/s \n",
            "\u001b[?25hCollecting shortuuid>=0.5.0\n",
            "  Downloading https://files.pythonhosted.org/packages/80/d7/2bfc9332e68d3e15ea97b9b1588b3899ad565120253d3fd71c8f7f13b4fe/shortuuid-0.5.0.tar.gz\n",
            "Requirement already satisfied: PyYAML>=3.10 in /usr/local/lib/python3.6/dist-packages (from wandb) (3.13)\n",
            "Requirement already satisfied: idna<2.9,>=2.5 in /usr/local/lib/python3.6/dist-packages (from requests>=2.0.0->wandb) (2.8)\n",
            "Requirement already satisfied: chardet<3.1.0,>=3.0.2 in /usr/local/lib/python3.6/dist-packages (from requests>=2.0.0->wandb) (3.0.4)\n",
            "Requirement already satisfied: urllib3<1.25,>=1.21.1 in /usr/local/lib/python3.6/dist-packages (from requests>=2.0.0->wandb) (1.24.3)\n",
            "Requirement already satisfied: certifi>=2017.4.17 in /usr/local/lib/python3.6/dist-packages (from requests>=2.0.0->wandb) (2019.11.28)\n",
            "Collecting gitdb<5,>=4.0.1\n",
            "\u001b[?25l  Downloading https://files.pythonhosted.org/packages/1e/f5/8f84b3bf9d94bdf2454a302f2fa375832b53660ea532586b8a55ff16ae9a/gitdb-4.0.2-py3-none-any.whl (63kB)\n",
            "\u001b[K     |████████████████████████████████| 71kB 9.0MB/s \n",
            "\u001b[?25hCollecting graphql-core<2,>=0.5.0\n",
            "\u001b[?25l  Downloading https://files.pythonhosted.org/packages/b0/89/00ad5e07524d8c523b14d70c685e0299a8b0de6d0727e368c41b89b7ed0b/graphql-core-1.1.tar.gz (70kB)\n",
            "\u001b[K     |████████████████████████████████| 71kB 7.0MB/s \n",
            "\u001b[?25hRequirement already satisfied: promise<3,>=2.0 in /usr/local/lib/python3.6/dist-packages (from gql==0.2.0->wandb) (2.3)\n",
            "Collecting pathtools>=0.1.1\n",
            "  Downloading https://files.pythonhosted.org/packages/e7/7f/470d6fcdf23f9f3518f6b0b76be9df16dcc8630ad409947f8be2eb0ed13a/pathtools-0.1.2.tar.gz\n",
            "Collecting smmap<4,>=3.0.1\n",
            "  Downloading https://files.pythonhosted.org/packages/35/d2/27777ab463cd44842c78305fa8097dfba0d94768abbb7e1c4d88f1fa1a0b/smmap-3.0.1-py2.py3-none-any.whl\n",
            "Building wheels for collected packages: subprocess32, gql, watchdog, shortuuid, graphql-core, pathtools\n",
            "  Building wheel for subprocess32 (setup.py) ... \u001b[?25l\u001b[?25hdone\n",
            "  Created wheel for subprocess32: filename=subprocess32-3.5.4-cp36-none-any.whl size=6489 sha256=bc409c23c06a45b3ef0ccd179c70fb4ffd4ba9a9b3e63589848a90c8311d6f2f\n",
            "  Stored in directory: /root/.cache/pip/wheels/68/39/1a/5e402bdfdf004af1786c8b853fd92f8c4a04f22aad179654d1\n",
            "  Building wheel for gql (setup.py) ... \u001b[?25l\u001b[?25hdone\n",
            "  Created wheel for gql: filename=gql-0.2.0-cp36-none-any.whl size=7630 sha256=73a0d022474771c378e1b1f0ed8830107e44e484f573b0cfd59d2b7659b51abd\n",
            "  Stored in directory: /root/.cache/pip/wheels/ce/0e/7b/58a8a5268655b3ad74feef5aa97946f0addafb3cbb6bd2da23\n",
            "  Building wheel for watchdog (setup.py) ... \u001b[?25l\u001b[?25hdone\n",
            "  Created wheel for watchdog: filename=watchdog-0.10.2-cp36-none-any.whl size=73605 sha256=537f750c5ac02f9e31edb5b70a9bd0a626f35409fbfea3ccb9b77252e6497aa2\n",
            "  Stored in directory: /root/.cache/pip/wheels/bc/ed/6c/028dea90d31b359cd2a7c8b0da4db80e41d24a59614154072e\n",
            "  Building wheel for shortuuid (setup.py) ... \u001b[?25l\u001b[?25hdone\n",
            "  Created wheel for shortuuid: filename=shortuuid-0.5.0-cp36-none-any.whl size=5497 sha256=e3cd1c24f25f1ae4419c639dfd099c8b77c10cda1e27c0e6d9ed26a1eea58e81\n",
            "  Stored in directory: /root/.cache/pip/wheels/3f/eb/fd/69e5177f67b505e44acbd1aedfbe44b91768ee0c4cd5636576\n",
            "  Building wheel for graphql-core (setup.py) ... \u001b[?25l\u001b[?25hdone\n",
            "  Created wheel for graphql-core: filename=graphql_core-1.1-cp36-none-any.whl size=104650 sha256=c4a542781383224503184b224a973cb1a72ca02819c60b2ebd6849d886a60364\n",
            "  Stored in directory: /root/.cache/pip/wheels/45/99/d7/c424029bb0fe910c63b68dbf2aa20d3283d023042521bcd7d5\n",
            "  Building wheel for pathtools (setup.py) ... \u001b[?25l\u001b[?25hdone\n",
            "  Created wheel for pathtools: filename=pathtools-0.1.2-cp36-none-any.whl size=8784 sha256=b0841a386c6ea3048ddb40d86e46b5a4680cbee1754d6a54a29efea888b1fda7\n",
            "  Stored in directory: /root/.cache/pip/wheels/0b/04/79/c3b0c3a0266a3cb4376da31e5bfe8bba0c489246968a68e843\n",
            "Successfully built subprocess32 gql watchdog shortuuid graphql-core pathtools\n",
            "Installing collected packages: docker-pycreds, subprocess32, configparser, smmap, gitdb, GitPython, sentry-sdk, graphql-core, gql, pathtools, watchdog, shortuuid, wandb\n",
            "Successfully installed GitPython-3.1.0 configparser-4.0.2 docker-pycreds-0.4.0 gitdb-4.0.2 gql-0.2.0 graphql-core-1.1 pathtools-0.1.2 sentry-sdk-0.14.2 shortuuid-0.5.0 smmap-3.0.1 subprocess32-3.5.4 wandb-0.8.28 watchdog-0.10.2\n"
          ],
          "name": "stdout"
        }
      ]
    },
    {
      "cell_type": "code",
      "metadata": {
        "id": "IQLQqw1DvRNr"
      },
      "source": [
        "import wandb as wb"
      ],
      "execution_count": null,
      "outputs": []
    },
    {
      "cell_type": "code",
      "metadata": {
        "id": "ckN6V__nvRLi",
        "colab": {
          "base_uri": "https://localhost:8080/",
          "height": 139
        },
        "outputId": "066a45c9-b1e6-4dfa-e75a-ecd64999a60a"
      },
      "source": [
        "wb.init(project=\"PSO\");\n",
        "c = wb.config"
      ],
      "execution_count": null,
      "outputs": [
        {
          "output_type": "display_data",
          "data": {
            "application/javascript": [
              "\n",
              "        window._wandbApiKey = new Promise((resolve, reject) => {\n",
              "            function loadScript(url) {\n",
              "            return new Promise(function(resolve, reject) {\n",
              "                let newScript = document.createElement(\"script\");\n",
              "                newScript.onerror = reject;\n",
              "                newScript.onload = resolve;\n",
              "                document.body.appendChild(newScript);\n",
              "                newScript.src = url;\n",
              "            });\n",
              "            }\n",
              "            loadScript(\"https://cdn.jsdelivr.net/npm/postmate/build/postmate.min.js\").then(() => {\n",
              "            const iframe = document.createElement('iframe')\n",
              "            iframe.style.cssText = \"width:0;height:0;border:none\"\n",
              "            document.body.appendChild(iframe)\n",
              "            const handshake = new Postmate({\n",
              "                container: iframe,\n",
              "                url: 'https://app.wandb.ai/authorize'\n",
              "            });\n",
              "            const timeout = setTimeout(() => reject(\"Couldn't auto authenticate\"), 5000)\n",
              "            handshake.then(function(child) {\n",
              "                child.on('authorize', data => {\n",
              "                    clearTimeout(timeout)\n",
              "                    resolve(data)\n",
              "                });\n",
              "            });\n",
              "            })\n",
              "        });\n",
              "    "
            ],
            "text/plain": [
              "<IPython.core.display.Javascript object>"
            ]
          },
          "metadata": {
            "tags": []
          }
        },
        {
          "output_type": "stream",
          "text": [
            "wandb: ERROR Not authenticated.  Copy a key from https://app.wandb.ai/authorize\n"
          ],
          "name": "stderr"
        },
        {
          "output_type": "stream",
          "text": [
            "API Key: ··········\n"
          ],
          "name": "stdout"
        },
        {
          "output_type": "stream",
          "text": [
            "wandb: Appending key for api.wandb.ai to your netrc file: /root/.netrc\n"
          ],
          "name": "stderr"
        },
        {
          "output_type": "display_data",
          "data": {
            "text/html": [
              "\n",
              "                Logging results to <a href=\"https://wandb.com\" target=\"_blank\">Weights & Biases</a> <a href=\"https://docs.wandb.com/integrations/jupyter.html\" target=\"_blank\">(Documentation)</a>.<br/>\n",
              "                Project page: <a href=\"https://app.wandb.ai/williamedwardhahn/PSO\" target=\"_blank\">https://app.wandb.ai/williamedwardhahn/PSO</a><br/>\n",
              "                Run page: <a href=\"https://app.wandb.ai/williamedwardhahn/PSO/runs/ox5s33dt\" target=\"_blank\">https://app.wandb.ai/williamedwardhahn/PSO/runs/ox5s33dt</a><br/>\n",
              "            "
            ],
            "text/plain": [
              "<IPython.core.display.HTML object>"
            ]
          },
          "metadata": {
            "tags": []
          }
        }
      ]
    },
    {
      "cell_type": "code",
      "metadata": {
        "id": "siEH8q2svTFu",
        "colab": {
          "base_uri": "https://localhost:8080/",
          "height": 283
        },
        "outputId": "9ff80068-5ae8-43d4-e291-b9af34ead99c"
      },
      "source": [
        "x = np.linspace(0,10,10)\n",
        "noise = 2 * np.random.randn(x.shape[0])\n",
        "y = 3*x + 5 + noise\n",
        "plt.plot(x,y,'.')"
      ],
      "execution_count": null,
      "outputs": [
        {
          "output_type": "execute_result",
          "data": {
            "text/plain": [
              "[<matplotlib.lines.Line2D at 0x7f8f71418e10>]"
            ]
          },
          "metadata": {
            "tags": []
          },
          "execution_count": 93
        },
        {
          "output_type": "display_data",
          "data": {
            "image/png": "[encoded data removed]",
            "text/plain": [
              "<Figure size 432x288 with 1 Axes>"
            ]
          },
          "metadata": {
            "tags": []
          }
        }
      ]
    },
    {
      "cell_type": "code",
      "metadata": {
        "id": "y1adpNqUvTF2"
      },
      "source": [
        "x = torch.Tensor(x) # Convert the numpy vectors to pytorch tensors \n",
        "y = torch.Tensor(y)"
      ],
      "execution_count": null,
      "outputs": []
    },
    {
      "cell_type": "code",
      "metadata": {
        "id": "EleJzhk2vTF6",
        "colab": {
          "base_uri": "https://localhost:8080/",
          "height": 120
        },
        "outputId": "67ec8c68-dfa3-4635-c355-14cd1a590a8a"
      },
      "source": [
        "for k in range(100):\n",
        "\n",
        "    wb.init(project=\"PSO_2\");\n",
        "    c = wb.config\n",
        "\n",
        "    p = Variable(0.1*torch.rand(1,1), requires_grad=True)   #swarm parameter\n",
        "    a = Variable(0.1*torch.rand(1,1), requires_grad=True)   #cooling parameter\n",
        "\n",
        "    loops = 10000\n",
        "\n",
        "    learning_rate = 0.0000001\n",
        "    N = 20     #steps\n",
        "    n = 15     #agents\n",
        "    s = 10     #size search space\n",
        "    d = 2      #dim search space\n",
        "\n",
        "    t = (np.linspace(1,N,N)/N) #cooling schedule\n",
        "    t = torch.Tensor(t)\n",
        "\n",
        "    for j in range(loops):\n",
        "\n",
        "        r = np.random.normal(0,1,(n,d,N))\n",
        "        r =  torch.Tensor(r)\n",
        "\n",
        "        xn = (2*np.random.random((n,d)) - 1) * s #randomly place agents\n",
        "        \n",
        "        xn = torch.Tensor(xn)\n",
        "\n",
        "        for i in range(N):\n",
        "\n",
        "            y2 = x * xn[:,0][:,None] + xn[:,1][:,None] #y=mx+b\n",
        "\n",
        "            loss = (y2 - y).pow(2).sum(1) \n",
        "            \n",
        "            xn = xn*(1-p) + xn[torch.argmin(loss),:]*p + a.pow(t[i])*r[:,:,i]\n",
        "\n",
        "            \n",
        "        (loss.sum()).backward(retain_graph=True)\n",
        "        p.data -= learning_rate * p.grad.data\n",
        "        a.data -= learning_rate * a.grad.data\n",
        "        p.grad.zero_()\n",
        "        a.grad.zero_()\n",
        "        \n",
        "        wb.log({\"p\": p.item(), \"a\": a.item()})  "
      ],
      "execution_count": null,
      "outputs": [
        {
          "output_type": "display_data",
          "data": {
            "text/html": [
              "\n",
              "                Logging results to <a href=\"https://wandb.com\" target=\"_blank\">Weights & Biases</a> <a href=\"https://docs.wandb.com/integrations/jupyter.html\" target=\"_blank\">(Documentation)</a>.<br/>\n",
              "                Project page: <a href=\"https://app.wandb.ai/williamedwardhahn/PSO_2\" target=\"_blank\">https://app.wandb.ai/williamedwardhahn/PSO_2</a><br/>\n",
              "                Run page: <a href=\"https://app.wandb.ai/williamedwardhahn/PSO_2/runs/vvulosab\" target=\"_blank\">https://app.wandb.ai/williamedwardhahn/PSO_2/runs/vvulosab</a><br/>\n",
              "            "
            ],
            "text/plain": [
              "<IPython.core.display.HTML object>"
            ]
          },
          "metadata": {
            "tags": []
          }
        },
        {
          "output_type": "display_data",
          "data": {
            "text/html": [
              "\n",
              "                Logging results to <a href=\"https://wandb.com\" target=\"_blank\">Weights & Biases</a> <a href=\"https://docs.wandb.com/integrations/jupyter.html\" target=\"_blank\">(Documentation)</a>.<br/>\n",
              "                Project page: <a href=\"https://app.wandb.ai/williamedwardhahn/PSO_2\" target=\"_blank\">https://app.wandb.ai/williamedwardhahn/PSO_2</a><br/>\n",
              "                Run page: <a href=\"https://app.wandb.ai/williamedwardhahn/PSO_2/runs/jkn3uvcz\" target=\"_blank\">https://app.wandb.ai/williamedwardhahn/PSO_2/runs/jkn3uvcz</a><br/>\n",
              "            "
            ],
            "text/plain": [
              "<IPython.core.display.HTML object>"
            ]
          },
          "metadata": {
            "tags": []
          }
        }
      ]
    },
    {
      "cell_type": "code",
      "metadata": {
        "id": "dwE9DqMMsKD6"
      },
      "source": [
        ""
      ],
      "execution_count": null,
      "outputs": []
    }
  ]
}
