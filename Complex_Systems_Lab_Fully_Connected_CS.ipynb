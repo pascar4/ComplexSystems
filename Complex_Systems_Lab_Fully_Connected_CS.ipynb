{
  "nbformat": 4,
  "nbformat_minor": 0,
  "metadata": {
    "colab": {
      "name": "Complex Systems Lab Fully Connected CS.ipynb",
      "provenance": [],
      "collapsed_sections": [],
      "include_colab_link": true
    },
    "kernelspec": {
      "name": "python3",
      "display_name": "Python 3"
    },
    "accelerator": "GPU",
    "widgets": {
      "application/vnd.jupyter.widget-state+json": {
        "e21e5508ddf643eca11d67e57b09350e": {
          "model_module": "@jupyter-widgets/controls",
          "model_name": "VBoxModel",
          "state": {
            "_view_name": "VBoxView",
            "_dom_classes": [],
            "_model_name": "VBoxModel",
            "_view_module": "@jupyter-widgets/controls",
            "_model_module_version": "1.5.0",
            "_view_count": null,
            "_view_module_version": "1.5.0",
            "box_style": "",
            "layout": "IPY_MODEL_1728b5f85621462090153ad0233e7eb4",
            "_model_module": "@jupyter-widgets/controls",
            "children": [
              "IPY_MODEL_f89ff0e0332c416f8bb9a6c8a68280c8",
              "IPY_MODEL_1c8c20043fcf4cbb925330260018fe0a"
            ]
          }
        },
        "1728b5f85621462090153ad0233e7eb4": {
          "model_module": "@jupyter-widgets/base",
          "model_name": "LayoutModel",
          "state": {
            "_view_name": "LayoutView",
            "grid_template_rows": null,
            "right": null,
            "justify_content": null,
            "_view_module": "@jupyter-widgets/base",
            "overflow": null,
            "_model_module_version": "1.2.0",
            "_view_count": null,
            "flex_flow": null,
            "width": null,
            "min_width": null,
            "border": null,
            "align_items": null,
            "bottom": null,
            "_model_module": "@jupyter-widgets/base",
            "top": null,
            "grid_column": null,
            "overflow_y": null,
            "overflow_x": null,
            "grid_auto_flow": null,
            "grid_area": null,
            "grid_template_columns": null,
            "flex": null,
            "_model_name": "LayoutModel",
            "justify_items": null,
            "grid_row": null,
            "max_height": null,
            "align_content": null,
            "visibility": null,
            "align_self": null,
            "height": null,
            "min_height": null,
            "padding": null,
            "grid_auto_rows": null,
            "grid_gap": null,
            "max_width": null,
            "order": null,
            "_view_module_version": "1.2.0",
            "grid_template_areas": null,
            "object_position": null,
            "object_fit": null,
            "grid_auto_columns": null,
            "margin": null,
            "display": null,
            "left": null
          }
        },
        "f89ff0e0332c416f8bb9a6c8a68280c8": {
          "model_module": "@jupyter-widgets/controls",
          "model_name": "LabelModel",
          "state": {
            "_view_name": "LabelView",
            "style": "IPY_MODEL_0204deb7eaf64bf992ee92d21b98114e",
            "_dom_classes": [],
            "description": "",
            "_model_name": "LabelModel",
            "placeholder": "​",
            "_view_module": "@jupyter-widgets/controls",
            "_model_module_version": "1.5.0",
            "value": " 0.01MB of 0.01MB uploaded (0.00MB deduped)\r",
            "_view_count": null,
            "_view_module_version": "1.5.0",
            "description_tooltip": null,
            "_model_module": "@jupyter-widgets/controls",
            "layout": "IPY_MODEL_d5cb99aaad2448a1b81e080a0e4c272d"
          }
        },
        "1c8c20043fcf4cbb925330260018fe0a": {
          "model_module": "@jupyter-widgets/controls",
          "model_name": "FloatProgressModel",
          "state": {
            "_view_name": "ProgressView",
            "style": "IPY_MODEL_555279cf64c447e6b1b3abe27eb2833e",
            "_dom_classes": [],
            "description": "",
            "_model_name": "FloatProgressModel",
            "bar_style": "",
            "max": 1,
            "_view_module": "@jupyter-widgets/controls",
            "_model_module_version": "1.5.0",
            "value": 1,
            "_view_count": null,
            "_view_module_version": "1.5.0",
            "orientation": "horizontal",
            "min": 0,
            "description_tooltip": null,
            "_model_module": "@jupyter-widgets/controls",
            "layout": "IPY_MODEL_8a62e25ee513491cae662b56d2faa96f"
          }
        },
        "0204deb7eaf64bf992ee92d21b98114e": {
          "model_module": "@jupyter-widgets/controls",
          "model_name": "DescriptionStyleModel",
          "state": {
            "_view_name": "StyleView",
            "_model_name": "DescriptionStyleModel",
            "description_width": "",
            "_view_module": "@jupyter-widgets/base",
            "_model_module_version": "1.5.0",
            "_view_count": null,
            "_view_module_version": "1.2.0",
            "_model_module": "@jupyter-widgets/controls"
          }
        },
        "d5cb99aaad2448a1b81e080a0e4c272d": {
          "model_module": "@jupyter-widgets/base",
          "model_name": "LayoutModel",
          "state": {
            "_view_name": "LayoutView",
            "grid_template_rows": null,
            "right": null,
            "justify_content": null,
            "_view_module": "@jupyter-widgets/base",
            "overflow": null,
            "_model_module_version": "1.2.0",
            "_view_count": null,
            "flex_flow": null,
            "width": null,
            "min_width": null,
            "border": null,
            "align_items": null,
            "bottom": null,
            "_model_module": "@jupyter-widgets/base",
            "top": null,
            "grid_column": null,
            "overflow_y": null,
            "overflow_x": null,
            "grid_auto_flow": null,
            "grid_area": null,
            "grid_template_columns": null,
            "flex": null,
            "_model_name": "LayoutModel",
            "justify_items": null,
            "grid_row": null,
            "max_height": null,
            "align_content": null,
            "visibility": null,
            "align_self": null,
            "height": null,
            "min_height": null,
            "padding": null,
            "grid_auto_rows": null,
            "grid_gap": null,
            "max_width": null,
            "order": null,
            "_view_module_version": "1.2.0",
            "grid_template_areas": null,
            "object_position": null,
            "object_fit": null,
            "grid_auto_columns": null,
            "margin": null,
            "display": null,
            "left": null
          }
        },
        "555279cf64c447e6b1b3abe27eb2833e": {
          "model_module": "@jupyter-widgets/controls",
          "model_name": "ProgressStyleModel",
          "state": {
            "_view_name": "StyleView",
            "_model_name": "ProgressStyleModel",
            "description_width": "",
            "_view_module": "@jupyter-widgets/base",
            "_model_module_version": "1.5.0",
            "_view_count": null,
            "_view_module_version": "1.2.0",
            "bar_color": null,
            "_model_module": "@jupyter-widgets/controls"
          }
        },
        "8a62e25ee513491cae662b56d2faa96f": {
          "model_module": "@jupyter-widgets/base",
          "model_name": "LayoutModel",
          "state": {
            "_view_name": "LayoutView",
            "grid_template_rows": null,
            "right": null,
            "justify_content": null,
            "_view_module": "@jupyter-widgets/base",
            "overflow": null,
            "_model_module_version": "1.2.0",
            "_view_count": null,
            "flex_flow": null,
            "width": null,
            "min_width": null,
            "border": null,
            "align_items": null,
            "bottom": null,
            "_model_module": "@jupyter-widgets/base",
            "top": null,
            "grid_column": null,
            "overflow_y": null,
            "overflow_x": null,
            "grid_auto_flow": null,
            "grid_area": null,
            "grid_template_columns": null,
            "flex": null,
            "_model_name": "LayoutModel",
            "justify_items": null,
            "grid_row": null,
            "max_height": null,
            "align_content": null,
            "visibility": null,
            "align_self": null,
            "height": null,
            "min_height": null,
            "padding": null,
            "grid_auto_rows": null,
            "grid_gap": null,
            "max_width": null,
            "order": null,
            "_view_module_version": "1.2.0",
            "grid_template_areas": null,
            "object_position": null,
            "object_fit": null,
            "grid_auto_columns": null,
            "margin": null,
            "display": null,
            "left": null
          }
        }
      }
    }
  },
  "cells": [
    {
      "cell_type": "markdown",
      "metadata": {
        "id": "view-in-github",
        "colab_type": "text"
      },
      "source": [
        "<a href=\"https://colab.research.google.com/github/williamedwardhahn/ComplexSystems/blob/main/Complex_Systems_Lab_Fully_Connected_CS.ipynb\" target=\"_parent\"><img src=\"https://colab.research.google.com/assets/colab-badge.svg\" alt=\"Open In Colab\"/></a>"
      ]
    },
    {
      "cell_type": "code",
      "metadata": {
        "id": "iQ2MdUxaN8Rd",
        "colab": {
          "base_uri": "https://localhost:8080/"
        },
        "outputId": "3e37a9a8-5d7f-4728-9e0a-8a085812f1cb"
      },
      "source": [
        "!pip install git+https://github.com/williamedwardhahn/mpcr\n",
        "from mpcr import *"
      ],
      "execution_count": null,
      "outputs": [
        {
          "output_type": "stream",
          "text": [
            "Collecting git+https://github.com/williamedwardhahn/mpcr\n",
            "  Cloning https://github.com/williamedwardhahn/mpcr to /tmp/pip-req-build-dkdr1wyf\n",
            "  Running command git clone -q https://github.com/williamedwardhahn/mpcr /tmp/pip-req-build-dkdr1wyf\n",
            "Building wheels for collected packages: ImportMPCR\n",
            "  Building wheel for ImportMPCR (setup.py) ... \u001b[?25l\u001b[?25hdone\n",
            "  Created wheel for ImportMPCR: filename=ImportMPCR-0.0.1-cp36-none-any.whl size=7333 sha256=259bb8c7231f5d3b644b77627d21cb7e48c0e18756b31f0b87db9aba56538490\n",
            "  Stored in directory: /tmp/pip-ephem-wheel-cache-5etlid9l/wheels/89/93/47/ef43fe80a5b823a05d8dcca5ed1581f4fcdacf69b27110603f\n",
            "Successfully built ImportMPCR\n",
            "Installing collected packages: ImportMPCR\n",
            "Successfully installed ImportMPCR-0.0.1\n",
            "[nltk_data] Downloading package punkt to /root/nltk_data...\n",
            "[nltk_data]   Unzipping tokenizers/punkt.zip.\n"
          ],
          "name": "stdout"
        }
      ]
    },
    {
      "cell_type": "code",
      "metadata": {
        "id": "D4jfdZR_z3Yd"
      },
      "source": [
        "import os\n",
        "import torch\n",
        "import torchvision\n",
        "import torch.nn as nn\n",
        "from torchvision import transforms\n",
        "from torchvision.utils import save_image\n",
        "from torch.autograd import Variable\n",
        "import pylab\n",
        "import torchvision.transforms as transforms\n",
        "from torch.utils.data import DataLoader\n",
        "from torchvision.datasets import MNIST\n",
        "import torchvision.utils"
      ],
      "execution_count": null,
      "outputs": []
    },
    {
      "cell_type": "code",
      "metadata": {
        "id": "6DQxxGNl1E1o"
      },
      "source": [
        "def plot(x):\n",
        "    if type(x) == torch.Tensor :\n",
        "        x = x.cpu().detach().numpy()\n",
        "\n",
        "    fig, ax = plt.subplots()\n",
        "    im = ax.imshow(x, cmap = 'gray')\n",
        "    ax.axis('off')\n",
        "    fig.set_size_inches(10, 10)\n",
        "    plt.show()"
      ],
      "execution_count": null,
      "outputs": []
    },
    {
      "cell_type": "code",
      "metadata": {
        "id": "wLcWTt76COK2"
      },
      "source": [
        "def montage_plot(x):\n",
        "    x = np.pad(x, pad_width=((0, 0), (1, 1), (1, 1)), mode='constant', constant_values=0)\n",
        "    plot(montage(x))"
      ],
      "execution_count": null,
      "outputs": []
    },
    {
      "cell_type": "code",
      "metadata": {
        "id": "gjUFaZQxz7-k"
      },
      "source": [
        "latent_size = 64\n",
        "hidden_size = 256\n",
        "image_size = 784\n",
        "batch_size = 32"
      ],
      "execution_count": null,
      "outputs": []
    },
    {
      "cell_type": "code",
      "metadata": {
        "id": "mm7ZMYrVEdMX"
      },
      "source": [
        "#MNIST\n",
        "train_set = datasets.MNIST('./data', train=True, download=True)\n",
        "test_set = datasets.MNIST('./data', train=False, download=True)\n",
        "\n",
        "#KMNIST\n",
        "#train_set = datasets.KMNIST('./data', train=True, download=True)\n",
        "#test_set = datasets.KMNIST('./data', train=False, download=True)\n",
        "\n",
        "#Fashion MNIST\n",
        "# train_set = datasets.FashionMNIST('./data', train=True, download=True)\n",
        "# test_set = datasets.FashionMNIST('./data', train=False, download=True)"
      ],
      "execution_count": null,
      "outputs": []
    },
    {
      "cell_type": "code",
      "metadata": {
        "id": "Ols0HivADS6a"
      },
      "source": [
        "X = train_set.data.numpy()\n",
        "X_test = test_set.data.numpy()\n",
        "Y = train_set.targets.numpy()\n",
        "Y_test = test_set.targets.numpy()\n",
        "X = X[:,None,:,:]/255\n",
        "X_test = X_test[:,None,:,:]/255\n",
        "X = (X - 0.5)/0.5\n",
        "X_test = (X_test - 0.5)/0.5"
      ],
      "execution_count": null,
      "outputs": []
    },
    {
      "cell_type": "code",
      "metadata": {
        "id": "oTo8Ij_dtvnm",
        "colab": {
          "base_uri": "https://localhost:8080/"
        },
        "outputId": "12668dc7-b957-4d43-f2bb-4d0ca164954e"
      },
      "source": [
        "X.shape,Y.shape,X_test.shape,Y_test.shape"
      ],
      "execution_count": null,
      "outputs": [
        {
          "output_type": "execute_result",
          "data": {
            "text/plain": [
              "((60000, 1, 28, 28), (60000,), (10000, 1, 28, 28), (10000,))"
            ]
          },
          "metadata": {
            "tags": []
          },
          "execution_count": 71
        }
      ]
    },
    {
      "cell_type": "code",
      "metadata": {
        "id": "_DGyggx0uCzr"
      },
      "source": [
        "###################################################"
      ],
      "execution_count": null,
      "outputs": []
    },
    {
      "cell_type": "code",
      "metadata": {
        "id": "vtt2uLdjovJE"
      },
      "source": [
        "def GPU(data):\n",
        "    return torch.tensor(data, requires_grad=True, dtype=torch.float, device=torch.device('cuda'))\n",
        "\n",
        "def GPU_data(data):\n",
        "    return torch.tensor(data, requires_grad=False, dtype=torch.float, device=torch.device('cuda'))"
      ],
      "execution_count": null,
      "outputs": []
    },
    {
      "cell_type": "code",
      "metadata": {
        "id": "x4ApdHEb01db"
      },
      "source": [
        "X = GPU_data(X)\n",
        "X_test = GPU_data(X_test)\n",
        "\n",
        "Y = GPU_data(Y)\n",
        "Y_test = GPU_data(Y_test)"
      ],
      "execution_count": null,
      "outputs": []
    },
    {
      "cell_type": "code",
      "metadata": {
        "id": "u-KKnct2jb4g"
      },
      "source": [
        "X = (X + 1)/2\n",
        "X_test = (X_test + 1)/2"
      ],
      "execution_count": null,
      "outputs": []
    },
    {
      "cell_type": "code",
      "metadata": {
        "id": "ERlfYhPI01db"
      },
      "source": [
        "def get_batch(mode):\n",
        "    b = batch_size\n",
        "    if mode == \"train\":\n",
        "        r = np.random.randint(X.shape[0]-b) \n",
        "        x = X[r:r+b,:,:,:]\n",
        "        y = Y[r:r+b]\n",
        "    elif mode == \"test\":\n",
        "        r = np.random.randint(X_test.shape[0]-b)\n",
        "        x = X_test[r:r+b,:,:,:]\n",
        "        y = Y_test[r:r+b]\n",
        "    return x,y"
      ],
      "execution_count": null,
      "outputs": []
    },
    {
      "cell_type": "code",
      "metadata": {
        "id": "vqwzLHF_2r0D"
      },
      "source": [
        "x,y = get_batch('train')"
      ],
      "execution_count": null,
      "outputs": []
    },
    {
      "cell_type": "code",
      "metadata": {
        "colab": {
          "base_uri": "https://localhost:8080/",
          "height": 352
        },
        "id": "zcrJ4kj1e1Of",
        "outputId": "40d59012-bbed-45ac-b09a-3082aa07f7a5"
      },
      "source": [
        "plt.hist(x.flatten().cpu().numpy())"
      ],
      "execution_count": null,
      "outputs": [
        {
          "output_type": "execute_result",
          "data": {
            "text/plain": [
              "(array([20741.,   314.,   267.,   199.,   253.,   285.,   236.,   269.,\n",
              "          325.,  2199.]),\n",
              " array([0. , 0.1, 0.2, 0.3, 0.4, 0.5, 0.6, 0.7, 0.8, 0.9, 1. ],\n",
              "       dtype=float32),\n",
              " <a list of 10 Patch objects>)"
            ]
          },
          "metadata": {
            "tags": []
          },
          "execution_count": 78
        },
        {
          "output_type": "display_data",
          "data": {
            "image/png": "[encoded data removed]",
            "text/plain": [
              "<Figure size 432x288 with 1 Axes>"
            ]
          },
          "metadata": {
            "tags": [],
            "needs_background": "light"
          }
        }
      ]
    },
    {
      "cell_type": "code",
      "metadata": {
        "id": "ew1gQXkw3AQ8",
        "colab": {
          "base_uri": "https://localhost:8080/",
          "height": 575
        },
        "outputId": "3e95f709-b8d5-45c2-9bb0-e891b8cc684c"
      },
      "source": [
        "montage_plot(x[0:25,0,:,:].detach().cpu().numpy())"
      ],
      "execution_count": null,
      "outputs": [
        {
          "output_type": "display_data",
          "data": {
            "image/png": "[encoded data removed]",
            "text/plain": [
              "<Figure size 720x720 with 1 Axes>"
            ]
          },
          "metadata": {
            "tags": [],
            "needs_background": "light"
          }
        }
      ]
    },
    {
      "cell_type": "code",
      "metadata": {
        "id": "XzUEXfG73ojv"
      },
      "source": [
        "X = X.view(-1,784)\n",
        "X_test = X_test.view(-1,784)\n",
        "\n",
        "def get_batch(mode):\n",
        "    b = batch_size\n",
        "    if mode == \"train\":\n",
        "        r = np.random.randint(X.shape[0]-b) \n",
        "        x = X[r:r+b,:]\n",
        "        y = Y[r:r+b]\n",
        "    elif mode == \"test\":\n",
        "        r = np.random.randint(X_test.shape[0]-b)\n",
        "        x = X_test[r:r+b,:]\n",
        "        y = Y_test[r:r+b]\n",
        "    return x,y"
      ],
      "execution_count": null,
      "outputs": []
    },
    {
      "cell_type": "code",
      "metadata": {
        "id": "m4BlYG-CgC2z"
      },
      "source": [
        "def softmax(x):\n",
        "    s1 = torch.exp(x - torch.max(x,1)[0][:,None])\n",
        "    s = s1 / s1.sum(1)[:,None]\n",
        "    return s"
      ],
      "execution_count": null,
      "outputs": []
    },
    {
      "cell_type": "code",
      "metadata": {
        "id": "XZ-UV8W_c_9o"
      },
      "source": [
        "def cross_entropy(outputs, labels):            \n",
        "    return -torch.sum(softmax(outputs).log()[range(outputs.size()[0]), labels.long()])/outputs.size()[0]  "
      ],
      "execution_count": null,
      "outputs": []
    },
    {
      "cell_type": "code",
      "metadata": {
        "id": "wtL1kZcZICVP"
      },
      "source": [
        "def randn_trunc(s): #Truncated Normal Random Numbers\n",
        "    mu = 0 \n",
        "    sigma = 0.1\n",
        "    R = stats.truncnorm((-2*sigma - mu) / sigma, (2*sigma - mu) / sigma, loc=mu, scale=sigma)\n",
        "    return R.rvs(s)"
      ],
      "execution_count": null,
      "outputs": []
    },
    {
      "cell_type": "code",
      "metadata": {
        "id": "LW3ttVcq1sI9"
      },
      "source": [
        "def acc(out,y):\n",
        "    with torch.no_grad():\n",
        "        return (torch.sum(torch.max(out,1)[1] == y).item())/y.shape[0]"
      ],
      "execution_count": null,
      "outputs": []
    },
    {
      "cell_type": "code",
      "metadata": {
        "id": "-k6j0lacnYYk"
      },
      "source": [
        "def gradient_step(w):\n",
        "\n",
        "    for j in range(len(w)): \n",
        "\n",
        "            w[j].data = w[j].data - c.h*w[j].grad.data\n",
        "            \n",
        "            w[j].grad.data.zero_()"
      ],
      "execution_count": null,
      "outputs": []
    },
    {
      "cell_type": "code",
      "metadata": {
        "id": "uzRsuDek9Fve"
      },
      "source": [
        "def make_plots():\n",
        "    \n",
        "    acc_train = acc(model(x,w),y)\n",
        "    \n",
        "    xt,yt = get_batch('test')\n",
        "\n",
        "    acc_test = acc(model(xt,w),yt)\n",
        "\n",
        "    wb.log({\"acc_train\": acc_train, \"acc_test\": acc_test})"
      ],
      "execution_count": null,
      "outputs": []
    },
    {
      "cell_type": "code",
      "metadata": {
        "id": "v_GlM6L0AkDb",
        "colab": {
          "base_uri": "https://localhost:8080/"
        },
        "outputId": "ed34e2a9-3892-4314-f88a-31be0e9130ec"
      },
      "source": [
        "X = GPU_data(X)\n",
        "Y = GPU_data(Y)\n",
        "X_test = GPU_data(X_test)\n",
        "Y_test = GPU_data(Y_test)"
      ],
      "execution_count": null,
      "outputs": [
        {
          "output_type": "stream",
          "text": [
            "/usr/local/lib/python3.6/dist-packages/ipykernel_launcher.py:5: UserWarning: To copy construct from a tensor, it is recommended to use sourceTensor.clone().detach() or sourceTensor.clone().detach().requires_grad_(True), rather than torch.tensor(sourceTensor).\n",
            "  \"\"\"\n"
          ],
          "name": "stderr"
        }
      ]
    },
    {
      "cell_type": "code",
      "metadata": {
        "id": "N0gfWb2R3tyh"
      },
      "source": [
        "def relu(x):\n",
        "    return x * (x > 0)"
      ],
      "execution_count": null,
      "outputs": []
    },
    {
      "cell_type": "code",
      "metadata": {
        "id": "nqcp7WQ1uYF1"
      },
      "source": [
        "def model(x,w):\n",
        "\n",
        "    for j in range(len(w)):\n",
        "\n",
        "        x = relu(matmul(x,w[j]))\n",
        "\n",
        "    return x"
      ],
      "execution_count": null,
      "outputs": []
    },
    {
      "cell_type": "code",
      "metadata": {
        "id": "QmKxccWGxMbf"
      },
      "source": [
        "wb.init(project=\"Simple Fully Connected MNIST\");\n",
        "c = wb.config\n",
        "\n",
        "c.h = 0.001\n",
        "c.b = 100\n",
        "c.layers = 2 \n",
        "c.epochs = 100000\n",
        "\n",
        "c.f_n = [784,500,10]\n",
        "\n",
        "w = [ GPU(randn_trunc((c.f_n[i],c.f_n[i+1]))) for i in range(c.layers) ]\n",
        "\n",
        "for i in range(c.epochs):\n",
        "\n",
        "    x,y = get_batch('train')\n",
        "\n",
        "    loss = cross_entropy(softmax(model(x,w)),y)\n",
        "\n",
        "    loss.backward()\n",
        "\n",
        "    gradient_step(w)\n",
        "   \n",
        "    if (i+1) % 1 == 0:\n",
        "\n",
        "        make_plots()"
      ],
      "execution_count": null,
      "outputs": []
    },
    {
      "cell_type": "code",
      "metadata": {
        "id": "4q0kQPiQ5Lpj"
      },
      "source": [
        "####With Adam Optimizer"
      ],
      "execution_count": null,
      "outputs": []
    },
    {
      "cell_type": "code",
      "metadata": {
        "id": "7FPXVgh45Lrr"
      },
      "source": [
        "wb.init(project=\"Simple Fully Connected MNIST\");\n",
        "c = wb.config\n",
        "\n",
        "c.h = 0.001\n",
        "c.b = 100\n",
        "c.layers = 2 \n",
        "c.epochs = 100000\n",
        "\n",
        "c.f_n = [784,500,10]\n",
        "\n",
        "w = [ GPU(randn_trunc((c.f_n[i],c.f_n[i+1]))) for i in range(c.layers) ]\n",
        "\n",
        "optimizer = torch.optim.Adam(w, lr=c.h)  \n",
        "\n",
        "for i in range(c.epochs):\n",
        "\n",
        "    x,y = get_batch('train')\n",
        "\n",
        "    loss = cross_entropy(softmax(model(x,w)),y)\n",
        "\n",
        "    optimizer.zero_grad()\n",
        "    loss.backward()\n",
        "    optimizer.step()\n",
        "   \n",
        "    if (i+1) % 1 == 0:\n",
        "\n",
        "        make_plots()"
      ],
      "execution_count": null,
      "outputs": []
    },
    {
      "cell_type": "code",
      "metadata": {
        "id": "LI17Rmb_5MuC"
      },
      "source": [
        ""
      ],
      "execution_count": null,
      "outputs": []
    },
    {
      "cell_type": "code",
      "metadata": {
        "id": "Q0kQWWiY1vDC"
      },
      "source": [
        "acc(model(X,w),Y)"
      ],
      "execution_count": null,
      "outputs": []
    },
    {
      "cell_type": "code",
      "metadata": {
        "id": "RSqlLexu17H3",
        "colab": {
          "base_uri": "https://localhost:8080/"
        },
        "outputId": "c0402d8d-0f1e-4ec4-c737-29279c980830"
      },
      "source": [
        "acc(model(X_test,w),Y_test)"
      ],
      "execution_count": null,
      "outputs": [
        {
          "output_type": "execute_result",
          "data": {
            "text/plain": [
              "0.9793"
            ]
          },
          "metadata": {
            "tags": []
          },
          "execution_count": 44
        }
      ]
    },
    {
      "cell_type": "code",
      "metadata": {
        "id": "anpszysy2C5G",
        "colab": {
          "base_uri": "https://localhost:8080/"
        },
        "outputId": "4456949c-aa64-4265-b199-2e4726e13c98"
      },
      "source": [
        "model(X[0],w)"
      ],
      "execution_count": null,
      "outputs": [
        {
          "output_type": "execute_result",
          "data": {
            "text/plain": [
              "tensor([-0.0000, -0.0000, -0.0000, 26.3880, -0.0000, 32.3175, -0.0000, -0.0000,\n",
              "        -0.0000, -0.0000], device='cuda:0', grad_fn=<MulBackward0>)"
            ]
          },
          "metadata": {
            "tags": []
          },
          "execution_count": 45
        }
      ]
    },
    {
      "cell_type": "code",
      "metadata": {
        "id": "_TdI5d-_2J_n",
        "colab": {
          "base_uri": "https://localhost:8080/"
        },
        "outputId": "37b3d727-278d-46df-d689-6bea9b163809"
      },
      "source": [
        "torch.argmax(model(X[0],w))"
      ],
      "execution_count": null,
      "outputs": [
        {
          "output_type": "execute_result",
          "data": {
            "text/plain": [
              "tensor(5, device='cuda:0')"
            ]
          },
          "metadata": {
            "tags": []
          },
          "execution_count": 46
        }
      ]
    },
    {
      "cell_type": "code",
      "metadata": {
        "id": "jodYSwuz2EMo",
        "colab": {
          "base_uri": "https://localhost:8080/"
        },
        "outputId": "ba21e630-7ad2-476d-c0fe-3073a413fc8d"
      },
      "source": [
        "Y[0]"
      ],
      "execution_count": null,
      "outputs": [
        {
          "output_type": "execute_result",
          "data": {
            "text/plain": [
              "tensor(5., device='cuda:0')"
            ]
          },
          "metadata": {
            "tags": []
          },
          "execution_count": 47
        }
      ]
    },
    {
      "cell_type": "code",
      "metadata": {
        "id": "otTKpf912P6S",
        "colab": {
          "base_uri": "https://localhost:8080/",
          "height": 521
        },
        "outputId": "266524eb-3e66-4f55-e45b-3727c0e7a7ac"
      },
      "source": [
        "for i in range(len(w)):\n",
        "\n",
        "    plt.imshow(w[i].cpu().detach().numpy())\n",
        "    plt.show()"
      ],
      "execution_count": null,
      "outputs": [
        {
          "output_type": "display_data",
          "data": {
            "image/png": "[encoded data removed]",
            "text/plain": [
              "<Figure size 432x288 with 1 Axes>"
            ]
          },
          "metadata": {
            "tags": [],
            "needs_background": "light"
          }
        },
        {
          "output_type": "display_data",
          "data": {
            "image/png": "[encoded data removed]",
            "text/plain": [
              "<Figure size 432x288 with 1 Axes>"
            ]
          },
          "metadata": {
            "tags": [],
            "needs_background": "light"
          }
        }
      ]
    },
    {
      "cell_type": "code",
      "metadata": {
        "id": "cI4_R68H3OOU"
      },
      "source": [
        ""
      ],
      "execution_count": null,
      "outputs": []
    },
    {
      "cell_type": "code",
      "metadata": {
        "id": "Kz5kmLDOZ44F"
      },
      "source": [
        ""
      ],
      "execution_count": null,
      "outputs": []
    },
    {
      "cell_type": "code",
      "metadata": {
        "id": "ajp0Zs67Z5Bm"
      },
      "source": [
        "#CS Version"
      ],
      "execution_count": null,
      "outputs": []
    },
    {
      "cell_type": "code",
      "metadata": {
        "colab": {
          "base_uri": "https://localhost:8080/"
        },
        "id": "kgKE1YDW71LL",
        "outputId": "d6c154e9-acb7-4162-adb5-e5067a5f1901"
      },
      "source": [
        "X.shape"
      ],
      "execution_count": null,
      "outputs": [
        {
          "output_type": "execute_result",
          "data": {
            "text/plain": [
              "torch.Size([60000, 784])"
            ]
          },
          "metadata": {
            "tags": []
          },
          "execution_count": 84
        }
      ]
    },
    {
      "cell_type": "code",
      "metadata": {
        "colab": {
          "base_uri": "https://localhost:8080/"
        },
        "id": "2DyMIRpt6pTW",
        "outputId": "86b08d1f-64c9-4cd6-925e-b88107674525"
      },
      "source": [
        "N = X.shape[1]\n",
        "M = N//10;  #Samples\n",
        "\n",
        "D = GPU_data(torch.randn(N,M))"
      ],
      "execution_count": null,
      "outputs": [
        {
          "output_type": "stream",
          "text": [
            "/usr/local/lib/python3.6/dist-packages/ipykernel_launcher.py:5: UserWarning: To copy construct from a tensor, it is recommended to use sourceTensor.clone().detach() or sourceTensor.clone().detach().requires_grad_(True), rather than torch.tensor(sourceTensor).\n",
            "  \"\"\"\n"
          ],
          "name": "stderr"
        }
      ]
    },
    {
      "cell_type": "code",
      "metadata": {
        "colab": {
          "base_uri": "https://localhost:8080/"
        },
        "id": "7attyk-c6pVl",
        "outputId": "af798e42-71aa-4e24-b713-1a8b7afa9689"
      },
      "source": [
        "D.shape"
      ],
      "execution_count": null,
      "outputs": [
        {
          "output_type": "execute_result",
          "data": {
            "text/plain": [
              "torch.Size([784, 78])"
            ]
          },
          "metadata": {
            "tags": []
          },
          "execution_count": 86
        }
      ]
    },
    {
      "cell_type": "code",
      "metadata": {
        "id": "vWPLxNut6pXt"
      },
      "source": [
        "X = torch.matmul(X,D)\n",
        "X_test = torch.matmul(X_test,D)"
      ],
      "execution_count": null,
      "outputs": []
    },
    {
      "cell_type": "code",
      "metadata": {
        "id": "ss2ZXSG96pZz",
        "colab": {
          "base_uri": "https://localhost:8080/",
          "height": 663,
          "referenced_widgets": [
            "e21e5508ddf643eca11d67e57b09350e",
            "1728b5f85621462090153ad0233e7eb4",
            "f89ff0e0332c416f8bb9a6c8a68280c8",
            "1c8c20043fcf4cbb925330260018fe0a",
            "0204deb7eaf64bf992ee92d21b98114e",
            "d5cb99aaad2448a1b81e080a0e4c272d",
            "555279cf64c447e6b1b3abe27eb2833e",
            "8a62e25ee513491cae662b56d2faa96f"
          ]
        },
        "outputId": "17fcbfd9-0072-436e-cbd6-a2820ca77478"
      },
      "source": [
        "wb.init(project=\"Simple Fully Connected MNIST CS\");\n",
        "c = wb.config\n",
        "\n",
        "c.h = 0.0001\n",
        "c.b = 100\n",
        "c.layers = 2 \n",
        "c.epochs = 1000000\n",
        "\n",
        "c.f_n = [M,500,500,10]\n",
        "\n",
        "w = [ GPU(randn_trunc((c.f_n[i],c.f_n[i+1]))) for i in range(c.layers) ]\n",
        "\n",
        "optimizer = torch.optim.Adam(w, lr=c.h)  \n",
        "\n",
        "for i in range(c.epochs):\n",
        "\n",
        "    x,y = get_batch('train')\n",
        "\n",
        "    loss = cross_entropy(softmax(model(x,w)),y)\n",
        "\n",
        "    optimizer.zero_grad()\n",
        "    loss.backward()\n",
        "    optimizer.step()\n",
        "   \n",
        "    if (i+1) % 1 == 0:\n",
        "\n",
        "        make_plots()"
      ],
      "execution_count": null,
      "outputs": [
        {
          "output_type": "display_data",
          "data": {
            "text/html": [
              "Finishing last run (ID:12w2d3b1) before initializing another..."
            ],
            "text/plain": [
              "<IPython.core.display.HTML object>"
            ]
          },
          "metadata": {
            "tags": []
          }
        },
        {
          "output_type": "display_data",
          "data": {
            "text/html": [
              "<br/>Waiting for W&B process to finish, PID 636<br/>Program ended successfully."
            ],
            "text/plain": [
              "<IPython.core.display.HTML object>"
            ]
          },
          "metadata": {
            "tags": []
          }
        },
        {
          "output_type": "display_data",
          "data": {
            "application/vnd.jupyter.widget-view+json": {
              "model_id": "e21e5508ddf643eca11d67e57b09350e",
              "version_minor": 0,
              "version_major": 2
            },
            "text/plain": [
              "VBox(children=(Label(value=' 0.00MB of 0.00MB uploaded (0.00MB deduped)\\r'), FloatProgress(value=1.0, max=1.0)…"
            ]
          },
          "metadata": {
            "tags": []
          }
        },
        {
          "output_type": "display_data",
          "data": {
            "text/html": [
              "Find user logs for this run at: <code>/content/wandb/run-20210125_033614-12w2d3b1/logs/debug.log</code>"
            ],
            "text/plain": [
              "<IPython.core.display.HTML object>"
            ]
          },
          "metadata": {
            "tags": []
          }
        },
        {
          "output_type": "display_data",
          "data": {
            "text/html": [
              "Find internal logs for this run at: <code>/content/wandb/run-20210125_033614-12w2d3b1/logs/debug-internal.log</code>"
            ],
            "text/plain": [
              "<IPython.core.display.HTML object>"
            ]
          },
          "metadata": {
            "tags": []
          }
        },
        {
          "output_type": "display_data",
          "data": {
            "text/html": [
              "<h3>Run summary:</h3><br/><style>\n",
              "    table.wandb td:nth-child(1) { padding: 0 10px; text-align: right }\n",
              "    </style><table class=\"wandb\">\n",
              "<tr><td>acc_train</td><td>0.40625</td></tr><tr><td>acc_test</td><td>0.46875</td></tr><tr><td>_step</td><td>21503</td></tr><tr><td>_runtime</td><td>99</td></tr><tr><td>_timestamp</td><td>1611545876</td></tr></table>"
            ],
            "text/plain": [
              "<IPython.core.display.HTML object>"
            ]
          },
          "metadata": {
            "tags": []
          }
        },
        {
          "output_type": "display_data",
          "data": {
            "text/html": [
              "<h3>Run history:</h3><br/><style>\n",
              "    table.wandb td:nth-child(1) { padding: 0 10px; text-align: right }\n",
              "    </style><table class=\"wandb\">\n",
              "<tr><td>acc_train</td><td>▄▅▂▂▄▆▅▄▁▂▅▅▅▇▃▆▂▂▃▄▄▅▆▆▅▅▂▅▆▅▇▄█▃▂▃▄▆▄▅</td></tr><tr><td>acc_test</td><td>▅▅▆▅▄▇▄▅▆▅▆▇▇▆▅▇▄█▁▂▅▆▅▃▄▇█▆▆▅▇█▅▄▅▅▇▅▆▆</td></tr><tr><td>_step</td><td>▁▁▁▂▂▂▂▂▂▃▃▃▃▃▃▄▄▄▄▄▅▅▅▅▅▅▆▆▆▆▆▆▇▇▇▇▇███</td></tr><tr><td>_runtime</td><td>▁▁▁▂▂▂▂▂▂▃▃▃▃▃▃▄▄▄▄▄▅▅▅▅▅▅▆▆▆▆▆▆▇▇▇▇▇███</td></tr><tr><td>_timestamp</td><td>▁▁▁▂▂▂▂▂▂▃▃▃▃▃▃▄▄▄▄▄▅▅▅▅▅▅▆▆▆▆▆▆▇▇▇▇▇███</td></tr></table><br/>"
            ],
            "text/plain": [
              "<IPython.core.display.HTML object>"
            ]
          },
          "metadata": {
            "tags": []
          }
        },
        {
          "output_type": "display_data",
          "data": {
            "text/html": [
              "Synced 4 W&B file(s), 0 media file(s), 0 artifact file(s) and 0 other file(s)"
            ],
            "text/plain": [
              "<IPython.core.display.HTML object>"
            ]
          },
          "metadata": {
            "tags": []
          }
        },
        {
          "output_type": "display_data",
          "data": {
            "text/html": [
              "\n",
              "                    <br/>Synced <strong style=\"color:#cdcd00\">jolly-glitter-8</strong>: <a href=\"https://wandb.ai/williamedwardhahn/Simple%20Fully%20Connected%20MNIST%20CS/runs/12w2d3b1\" target=\"_blank\">https://wandb.ai/williamedwardhahn/Simple%20Fully%20Connected%20MNIST%20CS/runs/12w2d3b1</a><br/>\n",
              "                "
            ],
            "text/plain": [
              "<IPython.core.display.HTML object>"
            ]
          },
          "metadata": {
            "tags": []
          }
        },
        {
          "output_type": "display_data",
          "data": {
            "text/html": [
              "...Successfully finished last run (ID:12w2d3b1). Initializing new run:<br/><br/>"
            ],
            "text/plain": [
              "<IPython.core.display.HTML object>"
            ]
          },
          "metadata": {
            "tags": []
          }
        },
        {
          "output_type": "display_data",
          "data": {
            "text/html": [
              "\n",
              "                Tracking run with wandb version 0.10.15<br/>\n",
              "                Syncing run <strong style=\"color:#cdcd00\">good-frost-9</strong> to <a href=\"https://wandb.ai\" target=\"_blank\">Weights & Biases</a> <a href=\"https://docs.wandb.com/integrations/jupyter.html\" target=\"_blank\">(Documentation)</a>.<br/>\n",
              "                Project page: <a href=\"https://wandb.ai/williamedwardhahn/Simple%20Fully%20Connected%20MNIST%20CS\" target=\"_blank\">https://wandb.ai/williamedwardhahn/Simple%20Fully%20Connected%20MNIST%20CS</a><br/>\n",
              "                Run page: <a href=\"https://wandb.ai/williamedwardhahn/Simple%20Fully%20Connected%20MNIST%20CS/runs/m5exnmkf\" target=\"_blank\">https://wandb.ai/williamedwardhahn/Simple%20Fully%20Connected%20MNIST%20CS/runs/m5exnmkf</a><br/>\n",
              "                Run data is saved locally in <code>/content/wandb/run-20210125_033759-m5exnmkf</code><br/><br/>\n",
              "            "
            ],
            "text/plain": [
              "<IPython.core.display.HTML object>"
            ]
          },
          "metadata": {
            "tags": []
          }
        }
      ]
    },
    {
      "cell_type": "code",
      "metadata": {
        "id": "eNg3wBwUA6VP"
      },
      "source": [
        ""
      ],
      "execution_count": null,
      "outputs": []
    },
    {
      "cell_type": "code",
      "metadata": {
        "id": "0JJqd64U8hU-"
      },
      "source": [
        ""
      ],
      "execution_count": null,
      "outputs": []
    }
  ]
}