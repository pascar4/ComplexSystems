{
  "nbformat": 4,
  "nbformat_minor": 0,
  "metadata": {
    "colab": {
      "name": "MPCR_Sudoku.ipynb",
      "provenance": [],
      "authorship_tag": "ABX9TyMpPQHmP53U3Kw+exWf/iBx",
      "include_colab_link": true
    },
    "kernelspec": {
      "name": "python3",
      "display_name": "Python 3"
    }
  },
  "cells": [
    {
      "cell_type": "markdown",
      "metadata": {
        "id": "view-in-github",
        "colab_type": "text"
      },
      "source": [
        "<a href=\"https://colab.research.google.com/github/williamedwardhahn/ComplexSystems/blob/main/MPCR_Sudoku.ipynb\" target=\"_parent\"><img src=\"https://colab.research.google.com/assets/colab-badge.svg\" alt=\"Open In Colab\"/></a>"
      ]
    },
    {
      "cell_type": "code",
      "metadata": {
        "id": "IDlepl9QD_iU"
      },
      "source": [
        "import random\n",
        "import numpy as np\n",
        "import matplotlib.pyplot as plt"
      ],
      "execution_count": null,
      "outputs": []
    },
    {
      "cell_type": "code",
      "metadata": {
        "id": "YRF7KlkCiJEy"
      },
      "source": [
        "# http://lipas.uwasa.fi/~timan/sudoku/\n",
        "# https://convert.town/replace-spaces-with-commas"
      ],
      "execution_count": null,
      "outputs": []
    },
    {
      "cell_type": "code",
      "metadata": {
        "id": "no53eMueh0aV"
      },
      "source": [
        "problem = np.array([\n",
        "0,4,0,0,0,0,1,7,9,\n",
        "0,0,2,0,0,8,0,5,4,\n",
        "0,0,6,0,0,5,0,0,8,\n",
        "0,8,0,0,7,0,9,1,0,\n",
        "0,5,0,0,9,0,0,3,0,\n",
        "0,1,9,0,6,0,0,4,0,\n",
        "3,0,0,4,0,0,7,0,0,\n",
        "5,7,0,1,0,0,2,0,0,\n",
        "9,2,8,0,0,0,0,6,0])"
      ],
      "execution_count": null,
      "outputs": []
    },
    {
      "cell_type": "code",
      "metadata": {
        "id": "hmFv1cQdiQCC"
      },
      "source": [
        "# problem = np.array([\n",
        "# 0,0,0,0,0,3,0,1,7,\n",
        "# 0,1,5,0,0,9,0,0,8,\n",
        "# 0,6,0,0,0,0,0,0,0,\n",
        "# 1,0,0,0,0,7,0,0,0,\n",
        "# 0,0,9,0,0,0,2,0,0,\n",
        "# 0,0,0,5,0,0,0,0,4,\n",
        "# 0,0,0,0,0,0,0,2,0,\n",
        "# 5,0,0,6,0,0,3,4,0,\n",
        "# 3,4,0,2,0,0,0,0,0])"
      ],
      "execution_count": null,
      "outputs": []
    },
    {
      "cell_type": "code",
      "metadata": {
        "id": "uMAQB4vsmEy3"
      },
      "source": [
        "# problem = np.array([\n",
        "# 1,0,0,0,0,7,0,9,0,\n",
        "# 0,3,0,0,2,0,0,0,8,\n",
        "# 0,0,9,6,0,0,5,0,0,\n",
        "# 0,0,5,3,0,0,9,0,0,\n",
        "# 0,1,0,0,8,0,0,0,2,\n",
        "# 6,0,0,0,0,4,0,0,0,\n",
        "# 3,0,0,0,0,0,0,1,0,\n",
        "# 0,4,0,0,0,0,0,0,7,\n",
        "# 0,0,7,0,0,0,3,0,0])"
      ],
      "execution_count": null,
      "outputs": []
    },
    {
      "cell_type": "code",
      "metadata": {
        "id": "c3N7NedVEKxa",
        "colab": {
          "base_uri": "https://localhost:8080/",
          "height": 86
        },
        "outputId": "885a5d96-c55e-48fe-8ba6-94c85b779889"
      },
      "source": [
        "problem"
      ],
      "execution_count": null,
      "outputs": [
        {
          "output_type": "execute_result",
          "data": {
            "text/plain": [
              "array([0, 4, 0, 0, 0, 0, 1, 7, 9, 0, 0, 2, 0, 0, 8, 0, 5, 4, 0, 0, 6, 0,\n",
              "       0, 5, 0, 0, 8, 0, 8, 0, 0, 7, 0, 9, 1, 0, 0, 5, 0, 0, 9, 0, 0, 3,\n",
              "       0, 0, 1, 9, 0, 6, 0, 0, 4, 0, 3, 0, 0, 4, 0, 0, 7, 0, 0, 5, 7, 0,\n",
              "       1, 0, 0, 2, 0, 0, 9, 2, 8, 0, 0, 0, 0, 6, 0])"
            ]
          },
          "metadata": {
            "tags": []
          },
          "execution_count": 7
        }
      ]
    },
    {
      "cell_type": "code",
      "metadata": {
        "id": "quiASP9yEK0G"
      },
      "source": [
        "def print_sudoku(state):\n",
        "    border = \"------+-------+------\"\n",
        "    rows = [state[i:i+9] for i in range(0,81,9)]\n",
        "    for i,row in enumerate(rows):\n",
        "        if i % 3 == 0:\n",
        "            print(border)\n",
        "        three = [row[i:i+3] for i in range(0,9,3)]\n",
        "        print(\" | \".join(\n",
        "            \" \".join(str(x or \"_\") for x in one)\n",
        "            for one in three\n",
        "        ))\n",
        "    print(border)"
      ],
      "execution_count": null,
      "outputs": []
    },
    {
      "cell_type": "code",
      "metadata": {
        "id": "TRvKTYxSEK3P",
        "colab": {
          "base_uri": "https://localhost:8080/",
          "height": 242
        },
        "outputId": "60115d41-6f1f-41a1-bf75-c5577cff59bb"
      },
      "source": [
        "print_sudoku(problem)"
      ],
      "execution_count": null,
      "outputs": [
        {
          "output_type": "stream",
          "text": [
            "------+-------+------\n",
            "_ 4 _ | _ _ _ | 1 7 9\n",
            "_ _ 2 | _ _ 8 | _ 5 4\n",
            "_ _ 6 | _ _ 5 | _ _ 8\n",
            "------+-------+------\n",
            "_ 8 _ | _ 7 _ | 9 1 _\n",
            "_ 5 _ | _ 9 _ | _ 3 _\n",
            "_ 1 9 | _ 6 _ | _ 4 _\n",
            "------+-------+------\n",
            "3 _ _ | 4 _ _ | 7 _ _\n",
            "5 7 _ | 1 _ _ | 2 _ _\n",
            "9 2 8 | _ _ _ | _ 6 _\n",
            "------+-------+------\n"
          ],
          "name": "stdout"
        }
      ]
    },
    {
      "cell_type": "code",
      "metadata": {
        "id": "Rr5xaUEookPf",
        "colab": {
          "base_uri": "https://localhost:8080/",
          "height": 86
        },
        "outputId": "b7d60824-579c-48f9-bb77-8128d00d8c8e"
      },
      "source": [
        "problem"
      ],
      "execution_count": null,
      "outputs": [
        {
          "output_type": "execute_result",
          "data": {
            "text/plain": [
              "array([0, 4, 0, 0, 0, 0, 1, 7, 9, 0, 0, 2, 0, 0, 8, 0, 5, 4, 0, 0, 6, 0,\n",
              "       0, 5, 0, 0, 8, 0, 8, 0, 0, 7, 0, 9, 1, 0, 0, 5, 0, 0, 9, 0, 0, 3,\n",
              "       0, 0, 1, 9, 0, 6, 0, 0, 4, 0, 3, 0, 0, 4, 0, 0, 7, 0, 0, 5, 7, 0,\n",
              "       1, 0, 0, 2, 0, 0, 9, 2, 8, 0, 0, 0, 0, 6, 0])"
            ]
          },
          "metadata": {
            "tags": []
          },
          "execution_count": 11
        }
      ]
    },
    {
      "cell_type": "code",
      "metadata": {
        "id": "jxbDPIglokNt"
      },
      "source": [
        "fixed = np.where(problem)[0]"
      ],
      "execution_count": null,
      "outputs": []
    },
    {
      "cell_type": "code",
      "metadata": {
        "id": "-h3L_e4EqGj_",
        "colab": {
          "base_uri": "https://localhost:8080/",
          "height": 51
        },
        "outputId": "57c22204-b0a7-41cc-cd12-1534ae898c92"
      },
      "source": [
        "fixed"
      ],
      "execution_count": null,
      "outputs": [
        {
          "output_type": "execute_result",
          "data": {
            "text/plain": [
              "array([ 1,  6,  7,  8, 11, 14, 16, 17, 20, 23, 26, 28, 31, 33, 34, 37, 40,\n",
              "       43, 46, 47, 49, 52, 54, 57, 60, 63, 64, 66, 69, 72, 73, 74, 79])"
            ]
          },
          "metadata": {
            "tags": []
          },
          "execution_count": 13
        }
      ]
    },
    {
      "cell_type": "code",
      "metadata": {
        "id": "SgACqa-YEK-Q"
      },
      "source": [
        "def block_indices(block_num):\n",
        "    firstrow = (block_num // 3) * 3\n",
        "    firstcol = (block_num % 3) * 3\n",
        "    indices = [ 9*(firstrow+i) + (firstcol+j) for i in range(3) for j in range(3)]\n",
        "    return indices"
      ],
      "execution_count": null,
      "outputs": []
    },
    {
      "cell_type": "code",
      "metadata": {
        "id": "7h24JDPQELIZ"
      },
      "source": [
        "def randomize_on_zeros(problem):\n",
        "    solution = problem.copy()\n",
        "    for block in range(9):\n",
        "        indices = block_indices(block)\n",
        "        block = problem[indices]\n",
        "        zeros = [i for i in indices if problem[i] == 0]\n",
        "        to_fill = [i for i in range(1, 10) if i not in block]\n",
        "        random.shuffle(to_fill)\n",
        "        for index, value in zip(zeros, to_fill):\n",
        "            solution[index] = value\n",
        "    return solution"
      ],
      "execution_count": null,
      "outputs": []
    },
    {
      "cell_type": "code",
      "metadata": {
        "id": "nWPvK7alqm_I",
        "colab": {
          "base_uri": "https://localhost:8080/",
          "height": 51
        },
        "outputId": "f2807983-ae37-4fc5-cf7e-8079737349dd"
      },
      "source": [
        "fixed"
      ],
      "execution_count": null,
      "outputs": [
        {
          "output_type": "execute_result",
          "data": {
            "text/plain": [
              "array([ 1,  6,  7,  8, 11, 14, 16, 17, 20, 23, 26, 28, 31, 33, 34, 37, 40,\n",
              "       43, 46, 47, 49, 52, 54, 57, 60, 63, 64, 66, 69, 72, 73, 74, 79])"
            ]
          },
          "metadata": {
            "tags": []
          },
          "execution_count": 16
        }
      ]
    },
    {
      "cell_type": "code",
      "metadata": {
        "id": "ZRR6Mgzvqrao",
        "colab": {
          "base_uri": "https://localhost:8080/",
          "height": 34
        },
        "outputId": "829cae32-8d2c-4bdf-a5f9-3f1d016a515c"
      },
      "source": [
        "block_indices(0)"
      ],
      "execution_count": null,
      "outputs": [
        {
          "output_type": "execute_result",
          "data": {
            "text/plain": [
              "[0, 1, 2, 9, 10, 11, 18, 19, 20]"
            ]
          },
          "metadata": {
            "tags": []
          },
          "execution_count": 17
        }
      ]
    },
    {
      "cell_type": "code",
      "metadata": {
        "id": "5z_nYlnQq7HE"
      },
      "source": [
        "A = [i for i in block_indices(0) if i not in fixed]"
      ],
      "execution_count": null,
      "outputs": []
    },
    {
      "cell_type": "code",
      "metadata": {
        "id": "kvacNH4TrGX7",
        "colab": {
          "base_uri": "https://localhost:8080/",
          "height": 34
        },
        "outputId": "e4603d39-42ec-422a-ba24-475f150612bd"
      },
      "source": [
        "A"
      ],
      "execution_count": null,
      "outputs": [
        {
          "output_type": "execute_result",
          "data": {
            "text/plain": [
              "[0, 2, 9, 10, 18, 19]"
            ]
          },
          "metadata": {
            "tags": []
          },
          "execution_count": 24
        }
      ]
    },
    {
      "cell_type": "code",
      "metadata": {
        "id": "GiJRK-jFFwo3"
      },
      "source": [
        "def move(state):\n",
        "    \n",
        "    state2 = state.copy()\n",
        "\n",
        "    A = [i for i in block_indices(random.randrange(9)) if i not in fixed] # Don't move starting numbers\n",
        "    \n",
        "    m, n = random.sample(A, 2) #swap number within block\n",
        "\n",
        "    state2[m], state2[n] = state2[n], state2[m]\n",
        "    return state2"
      ],
      "execution_count": null,
      "outputs": []
    },
    {
      "cell_type": "code",
      "metadata": {
        "id": "0q4zYap3Mkri"
      },
      "source": [
        "def f(x):\n",
        "    #Counts duplicates in rows and cols\n",
        "    x = x.reshape(9,9)\n",
        "    L = 0\n",
        "    for i in range(9):\n",
        "        L += 9 - len(np.unique(x[i,:]))\n",
        "        L += 9 - len(np.unique(x[:,i]))\n",
        "    return L"
      ],
      "execution_count": null,
      "outputs": []
    },
    {
      "cell_type": "code",
      "metadata": {
        "id": "04rAlTbrrrPN",
        "colab": {
          "base_uri": "https://localhost:8080/",
          "height": 242
        },
        "outputId": "7372bad4-4a9c-4b3a-bcbe-b0f8113c43d8"
      },
      "source": [
        "print_sudoku(problem)"
      ],
      "execution_count": null,
      "outputs": [
        {
          "output_type": "stream",
          "text": [
            "------+-------+------\n",
            "_ 4 _ | _ _ _ | 1 7 9\n",
            "_ _ 2 | _ _ 8 | _ 5 4\n",
            "_ _ 6 | _ _ 5 | _ _ 8\n",
            "------+-------+------\n",
            "_ 8 _ | _ 7 _ | 9 1 _\n",
            "_ 5 _ | _ 9 _ | _ 3 _\n",
            "_ 1 9 | _ 6 _ | _ 4 _\n",
            "------+-------+------\n",
            "3 _ _ | 4 _ _ | 7 _ _\n",
            "5 7 _ | 1 _ _ | 2 _ _\n",
            "9 2 8 | _ _ _ | _ 6 _\n",
            "------+-------+------\n"
          ],
          "name": "stdout"
        }
      ]
    },
    {
      "cell_type": "code",
      "metadata": {
        "id": "bCh-qnGNFwiT"
      },
      "source": [
        "state = randomize_on_zeros(problem)"
      ],
      "execution_count": null,
      "outputs": []
    },
    {
      "cell_type": "code",
      "metadata": {
        "id": "nKugPJPjFwmR",
        "colab": {
          "base_uri": "https://localhost:8080/",
          "height": 242
        },
        "outputId": "e78a1355-f223-43e3-f184-d9f54e8c25f4"
      },
      "source": [
        "print_sudoku(state)"
      ],
      "execution_count": null,
      "outputs": [
        {
          "output_type": "stream",
          "text": [
            "------+-------+------\n",
            "8 4 5 | 1 2 6 | 1 7 9\n",
            "3 1 2 | 3 7 8 | 2 5 4\n",
            "7 9 6 | 4 9 5 | 6 3 8\n",
            "------+-------+------\n",
            "3 8 4 | 8 7 2 | 9 1 8\n",
            "6 5 7 | 5 9 3 | 5 3 7\n",
            "2 1 9 | 4 6 1 | 6 4 2\n",
            "------+-------+------\n",
            "3 6 1 | 4 2 9 | 7 8 1\n",
            "5 7 4 | 1 3 7 | 2 5 4\n",
            "9 2 8 | 5 6 8 | 9 6 3\n",
            "------+-------+------\n"
          ],
          "name": "stdout"
        }
      ]
    },
    {
      "cell_type": "code",
      "metadata": {
        "id": "A57gonnQOVgi"
      },
      "source": [
        "t = np.linspace(0,1,1000000)\n",
        "cooling_schedule = np.exp(-5*t)"
      ],
      "execution_count": null,
      "outputs": []
    },
    {
      "cell_type": "code",
      "metadata": {
        "id": "WYQ6JiLUuOvV",
        "colab": {
          "base_uri": "https://localhost:8080/",
          "height": 282
        },
        "outputId": "ce121d80-0cae-467c-abd6-1804a37dd300"
      },
      "source": [
        "plt.plot(cooling_schedule)"
      ],
      "execution_count": null,
      "outputs": [
        {
          "output_type": "execute_result",
          "data": {
            "text/plain": [
              "[<matplotlib.lines.Line2D at 0x7f27c336d240>]"
            ]
          },
          "metadata": {
            "tags": []
          },
          "execution_count": 31
        },
        {
          "output_type": "display_data",
          "data": {
            "image/png": "[encoded data removed]",
            "text/plain": [
              "<Figure size 432x288 with 1 Axes>"
            ]
          },
          "metadata": {
            "tags": []
          }
        }
      ]
    },
    {
      "cell_type": "code",
      "metadata": {
        "id": "G0gkqWi0OVsk",
        "colab": {
          "base_uri": "https://localhost:8080/",
          "height": 537
        },
        "outputId": "e1f0e350-d534-4bee-9203-16311fe31d0f"
      },
      "source": [
        "best = 100\n",
        "best_state = state\n",
        "for T in cooling_schedule:\n",
        "\n",
        "    state2 = move(state)\n",
        "\n",
        "    delta = f(state) - f(state2) \n",
        "\n",
        "    if delta > 0 or  np.exp( delta / T) > np.random.random():\n",
        "\n",
        "        state = state2\n",
        "        \n",
        "        if f(state) < best:\n",
        "            best = f(state)\n",
        "            best_state = state\n",
        "            print(f(state))\n",
        "            if best == 0:\n",
        "                break"
      ],
      "execution_count": null,
      "outputs": [
        {
          "output_type": "stream",
          "text": [
            "42\n",
            "39\n",
            "35\n",
            "34\n",
            "32\n",
            "30\n",
            "29\n",
            "28\n",
            "27\n",
            "26\n",
            "25\n",
            "24\n",
            "23\n",
            "22\n",
            "21\n",
            "20\n",
            "19\n",
            "17\n",
            "16\n",
            "15\n",
            "13\n",
            "12\n",
            "10\n",
            "9\n",
            "7\n",
            "6\n",
            "5\n",
            "3\n",
            "2\n",
            "0\n"
          ],
          "name": "stdout"
        }
      ]
    },
    {
      "cell_type": "code",
      "metadata": {
        "id": "y35opQO8UAvs",
        "colab": {
          "base_uri": "https://localhost:8080/",
          "height": 242
        },
        "outputId": "3302eb88-7c96-4199-8cae-8ee9c012876b"
      },
      "source": [
        "print_sudoku(state)"
      ],
      "execution_count": null,
      "outputs": [
        {
          "output_type": "stream",
          "text": [
            "------+-------+------\n",
            "2 9 8 | 4 5 3 | 6 1 7\n",
            "7 1 5 | 7 2 9 | 4 3 8\n",
            "4 6 3 | 8 6 1 | 9 5 2\n",
            "------+-------+------\n",
            "1 2 4 | 9 3 7 | 5 8 6\n",
            "8 5 9 | 1 4 6 | 2 7 3\n",
            "6 3 7 | 5 8 2 | 1 9 4\n",
            "------+-------+------\n",
            "9 8 6 | 3 1 4 | 7 2 5\n",
            "5 7 2 | 6 9 8 | 3 4 1\n",
            "3 4 1 | 2 7 5 | 8 6 9\n",
            "------+-------+------\n"
          ],
          "name": "stdout"
        }
      ]
    },
    {
      "cell_type": "code",
      "metadata": {
        "id": "K6-lj5FOUBGK",
        "colab": {
          "base_uri": "https://localhost:8080/",
          "height": 242
        },
        "outputId": "62be6f5f-c79f-45ce-c600-81bcf8127e7f"
      },
      "source": [
        "print_sudoku(problem)"
      ],
      "execution_count": null,
      "outputs": [
        {
          "output_type": "stream",
          "text": [
            "------+-------+------\n",
            "_ _ _ | _ _ 3 | _ 1 7\n",
            "_ 1 5 | _ _ 9 | _ _ 8\n",
            "_ 6 _ | _ _ _ | _ _ _\n",
            "------+-------+------\n",
            "1 _ _ | _ _ 7 | _ _ _\n",
            "_ _ 9 | _ _ _ | 2 _ _\n",
            "_ _ _ | 5 _ _ | _ _ 4\n",
            "------+-------+------\n",
            "_ _ _ | _ _ _ | _ 2 _\n",
            "5 _ _ | 6 _ _ | 3 4 _\n",
            "3 4 _ | 2 _ _ | _ _ _\n",
            "------+-------+------\n"
          ],
          "name": "stdout"
        }
      ]
    },
    {
      "cell_type": "code",
      "metadata": {
        "id": "_xrJUgTQXXWt"
      },
      "source": [
        ""
      ],
      "execution_count": null,
      "outputs": []
    },
    {
      "cell_type": "code",
      "metadata": {
        "id": "7dIn819jXXY3"
      },
      "source": [
        ""
      ],
      "execution_count": null,
      "outputs": []
    },
    {
      "cell_type": "code",
      "metadata": {
        "id": "lUW6UJ_8dtun"
      },
      "source": [
        ""
      ],
      "execution_count": null,
      "outputs": []
    },
    {
      "cell_type": "code",
      "metadata": {
        "id": "BnKrEpSLdtsk"
      },
      "source": [
        ""
      ],
      "execution_count": null,
      "outputs": []
    },
    {
      "cell_type": "code",
      "metadata": {
        "id": "ot0EytyPZFon"
      },
      "source": [
        ""
      ],
      "execution_count": null,
      "outputs": []
    },
    {
      "cell_type": "code",
      "metadata": {
        "id": "LJHFjMUgZFme"
      },
      "source": [
        ""
      ],
      "execution_count": null,
      "outputs": []
    },
    {
      "cell_type": "code",
      "metadata": {
        "id": "NADuVeuQZFkf"
      },
      "source": [
        ""
      ],
      "execution_count": null,
      "outputs": []
    },
    {
      "cell_type": "code",
      "metadata": {
        "id": "GIwjBz45ZFis"
      },
      "source": [
        ""
      ],
      "execution_count": null,
      "outputs": []
    },
    {
      "cell_type": "code",
      "metadata": {
        "id": "cYQaZ84eZFg2"
      },
      "source": [
        ""
      ],
      "execution_count": null,
      "outputs": []
    },
    {
      "cell_type": "code",
      "metadata": {
        "id": "eQD2BxTlZFe1"
      },
      "source": [
        "import matplotlib.pyplot as plt\n",
        "from mpl_toolkits.mplot3d import Axes3D\n",
        "from matplotlib import cm\n",
        "from matplotlib.colors import LightSource"
      ],
      "execution_count": null,
      "outputs": []
    },
    {
      "cell_type": "code",
      "metadata": {
        "id": "x3HSD2IZZFcV"
      },
      "source": [
        "def surf(x,y,z,a,b):\n",
        "    \n",
        "    fig, ax = plt.subplots(subplot_kw=dict(projection='3d'))\n",
        "    fig.set_size_inches(10, 10)\n",
        "    ls = LightSource(270, 45)\n",
        "    rgb = ls.shade(z, cmap=cm.gist_earth, vert_exag=0.1, blend_mode='soft')\n",
        "    surf = ax.plot_surface(x, y, z, rstride=1, cstride=1, facecolors=rgb,\n",
        "                   linewidth=0, antialiased=False, shade=False)\n",
        "    ax.view_init(a,b)\n",
        "    plt.show() "
      ],
      "execution_count": null,
      "outputs": []
    },
    {
      "cell_type": "code",
      "metadata": {
        "id": "JIKnod0oW_Ir"
      },
      "source": [
        "t = np.linspace(0.01,1,100)\n",
        "d = np.linspace(-1,0,100)"
      ],
      "execution_count": null,
      "outputs": []
    },
    {
      "cell_type": "code",
      "metadata": {
        "id": "4rooXZ1nX_GA"
      },
      "source": [
        "tt, dd = np.meshgrid(t,d)"
      ],
      "execution_count": null,
      "outputs": []
    },
    {
      "cell_type": "code",
      "metadata": {
        "id": "4bsBXBdJXYnW"
      },
      "source": [
        "A = np.exp( dd // tt)"
      ],
      "execution_count": null,
      "outputs": []
    },
    {
      "cell_type": "code",
      "metadata": {
        "id": "TDsANHkIX7Up"
      },
      "source": [
        "surf(dd,tt,dd//tt,20,40)"
      ],
      "execution_count": null,
      "outputs": []
    },
    {
      "cell_type": "code",
      "metadata": {
        "id": "M7GK-w7SXaaj"
      },
      "source": [
        ""
      ],
      "execution_count": null,
      "outputs": []
    },
    {
      "cell_type": "code",
      "metadata": {
        "id": "OUMNCAN4XYsK"
      },
      "source": [
        ""
      ],
      "execution_count": null,
      "outputs": []
    }
  ]
}